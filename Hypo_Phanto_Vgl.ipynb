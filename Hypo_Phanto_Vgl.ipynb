{
 "cells": [
  {
   "cell_type": "code",
   "execution_count": 17,
   "id": "eab9807d",
   "metadata": {},
   "outputs": [],
   "source": [
    "import pandas as pd\n",
    "path = \"../Daten/Hypo_Phanto_Vgl.xlsx\""
   ]
  },
  {
   "cell_type": "code",
   "execution_count": 18,
   "id": "02155247",
   "metadata": {},
   "outputs": [
    {
     "data": {
      "text/html": [
       "<div>\n",
       "<style scoped>\n",
       "    .dataframe tbody tr th:only-of-type {\n",
       "        vertical-align: middle;\n",
       "    }\n",
       "\n",
       "    .dataframe tbody tr th {\n",
       "        vertical-align: top;\n",
       "    }\n",
       "\n",
       "    .dataframe thead th {\n",
       "        text-align: right;\n",
       "    }\n",
       "</style>\n",
       "<table border=\"1\" class=\"dataframe\">\n",
       "  <thead>\n",
       "    <tr style=\"text-align: right;\">\n",
       "      <th></th>\n",
       "      <th>Patientennummer</th>\n",
       "      <th>Identifikation</th>\n",
       "      <th>Schwelle</th>\n",
       "      <th>Diskrimination</th>\n",
       "      <th>Sprays</th>\n",
       "      <th>16er</th>\n",
       "      <th>Alter</th>\n",
       "      <th>Geschlecht</th>\n",
       "      <th>Gewicht (kg)</th>\n",
       "      <th>Schmeckstörung ätherischer Geschmack</th>\n",
       "      <th>...</th>\n",
       "      <th>Suess_Pz_Lat_P2</th>\n",
       "      <th>Suess_Pz_Amp_p2</th>\n",
       "      <th>Suess_C3_Lat_p2</th>\n",
       "      <th>Suess_C3 _Amp_p2</th>\n",
       "      <th>Suess_C4_Lat_p2</th>\n",
       "      <th>Suess_C4_Amp_p2</th>\n",
       "      <th>Suess_P3_Lat_p2</th>\n",
       "      <th>Suess_P3_Amp_p2</th>\n",
       "      <th>Suess_P4_Lat_P2</th>\n",
       "      <th>Suess_P4_Amp_p2</th>\n",
       "    </tr>\n",
       "  </thead>\n",
       "  <tbody>\n",
       "    <tr>\n",
       "      <th>0</th>\n",
       "      <td>118</td>\n",
       "      <td>6</td>\n",
       "      <td>1.0</td>\n",
       "      <td>8.0</td>\n",
       "      <td>4</td>\n",
       "      <td>6</td>\n",
       "      <td>71</td>\n",
       "      <td>1</td>\n",
       "      <td>77.0</td>\n",
       "      <td>0</td>\n",
       "      <td>...</td>\n",
       "      <td>875.0</td>\n",
       "      <td>3404.0</td>\n",
       "      <td>874.0</td>\n",
       "      <td>5561000.0</td>\n",
       "      <td>878.0</td>\n",
       "      <td>6749000.0</td>\n",
       "      <td>875.0</td>\n",
       "      <td>5342.0</td>\n",
       "      <td>857.0</td>\n",
       "      <td>-593999.0</td>\n",
       "    </tr>\n",
       "    <tr>\n",
       "      <th>1</th>\n",
       "      <td>122</td>\n",
       "      <td>8</td>\n",
       "      <td>1.0</td>\n",
       "      <td>11.0</td>\n",
       "      <td>4</td>\n",
       "      <td>9</td>\n",
       "      <td>58</td>\n",
       "      <td>2</td>\n",
       "      <td>80.0</td>\n",
       "      <td>0</td>\n",
       "      <td>...</td>\n",
       "      <td>NaN</td>\n",
       "      <td>NaN</td>\n",
       "      <td>NaN</td>\n",
       "      <td>NaN</td>\n",
       "      <td>NaN</td>\n",
       "      <td>NaN</td>\n",
       "      <td>NaN</td>\n",
       "      <td>NaN</td>\n",
       "      <td>NaN</td>\n",
       "      <td>NaN</td>\n",
       "    </tr>\n",
       "    <tr>\n",
       "      <th>2</th>\n",
       "      <td>131</td>\n",
       "      <td>2</td>\n",
       "      <td>1.0</td>\n",
       "      <td>6.0</td>\n",
       "      <td>4</td>\n",
       "      <td>9</td>\n",
       "      <td>71</td>\n",
       "      <td>2</td>\n",
       "      <td>67.0</td>\n",
       "      <td>0</td>\n",
       "      <td>...</td>\n",
       "      <td>924.0</td>\n",
       "      <td>4284.0</td>\n",
       "      <td>924.0</td>\n",
       "      <td>3927.0</td>\n",
       "      <td>923.0</td>\n",
       "      <td>3712.0</td>\n",
       "      <td>924.0</td>\n",
       "      <td>4927.0</td>\n",
       "      <td>923.0</td>\n",
       "      <td>5855.0</td>\n",
       "    </tr>\n",
       "    <tr>\n",
       "      <th>3</th>\n",
       "      <td>133</td>\n",
       "      <td>11</td>\n",
       "      <td>NaN</td>\n",
       "      <td>NaN</td>\n",
       "      <td>3</td>\n",
       "      <td>8</td>\n",
       "      <td>64</td>\n",
       "      <td>2</td>\n",
       "      <td>87.0</td>\n",
       "      <td>0</td>\n",
       "      <td>...</td>\n",
       "      <td>NaN</td>\n",
       "      <td>NaN</td>\n",
       "      <td>NaN</td>\n",
       "      <td>NaN</td>\n",
       "      <td>NaN</td>\n",
       "      <td>NaN</td>\n",
       "      <td>NaN</td>\n",
       "      <td>NaN</td>\n",
       "      <td>NaN</td>\n",
       "      <td>NaN</td>\n",
       "    </tr>\n",
       "    <tr>\n",
       "      <th>4</th>\n",
       "      <td>135</td>\n",
       "      <td>13</td>\n",
       "      <td>NaN</td>\n",
       "      <td>NaN</td>\n",
       "      <td>3</td>\n",
       "      <td>6</td>\n",
       "      <td>77</td>\n",
       "      <td>2</td>\n",
       "      <td>89.0</td>\n",
       "      <td>0</td>\n",
       "      <td>...</td>\n",
       "      <td>NaN</td>\n",
       "      <td>NaN</td>\n",
       "      <td>NaN</td>\n",
       "      <td>NaN</td>\n",
       "      <td>NaN</td>\n",
       "      <td>NaN</td>\n",
       "      <td>NaN</td>\n",
       "      <td>NaN</td>\n",
       "      <td>NaN</td>\n",
       "      <td>NaN</td>\n",
       "    </tr>\n",
       "  </tbody>\n",
       "</table>\n",
       "<p>5 rows × 114 columns</p>\n",
       "</div>"
      ],
      "text/plain": [
       "   Patientennummer  Identifikation  Schwelle  Diskrimination  Sprays  16er  \\\n",
       "0              118               6       1.0             8.0       4     6   \n",
       "1              122               8       1.0            11.0       4     9   \n",
       "2              131               2       1.0             6.0       4     9   \n",
       "3              133              11       NaN             NaN       3     8   \n",
       "4              135              13       NaN             NaN       3     6   \n",
       "\n",
       "   Alter  Geschlecht  Gewicht (kg)  Schmeckstörung ätherischer Geschmack  ...  \\\n",
       "0     71           1          77.0                                     0  ...   \n",
       "1     58           2          80.0                                     0  ...   \n",
       "2     71           2          67.0                                     0  ...   \n",
       "3     64           2          87.0                                     0  ...   \n",
       "4     77           2          89.0                                     0  ...   \n",
       "\n",
       "   Suess_Pz_Lat_P2  Suess_Pz_Amp_p2  Suess_C3_Lat_p2  Suess_C3 _Amp_p2  \\\n",
       "0            875.0           3404.0            874.0         5561000.0   \n",
       "1              NaN              NaN              NaN               NaN   \n",
       "2            924.0           4284.0            924.0            3927.0   \n",
       "3              NaN              NaN              NaN               NaN   \n",
       "4              NaN              NaN              NaN               NaN   \n",
       "\n",
       "   Suess_C4_Lat_p2  Suess_C4_Amp_p2  Suess_P3_Lat_p2  Suess_P3_Amp_p2  \\\n",
       "0            878.0        6749000.0            875.0           5342.0   \n",
       "1              NaN              NaN              NaN              NaN   \n",
       "2            923.0           3712.0            924.0           4927.0   \n",
       "3              NaN              NaN              NaN              NaN   \n",
       "4              NaN              NaN              NaN              NaN   \n",
       "\n",
       "   Suess_P4_Lat_P2  Suess_P4_Amp_p2  \n",
       "0            857.0        -593999.0  \n",
       "1              NaN              NaN  \n",
       "2            923.0           5855.0  \n",
       "3              NaN              NaN  \n",
       "4              NaN              NaN  \n",
       "\n",
       "[5 rows x 114 columns]"
      ]
     },
     "execution_count": 18,
     "metadata": {},
     "output_type": "execute_result"
    }
   ],
   "source": [
    "df = pd.read_excel(path)\n",
    "df.head()"
   ]
  },
  {
   "cell_type": "code",
   "execution_count": 19,
   "id": "903512ef",
   "metadata": {},
   "outputs": [
    {
     "data": {
      "text/plain": [
       "(37, 114)"
      ]
     },
     "execution_count": 19,
     "metadata": {},
     "output_type": "execute_result"
    }
   ],
   "source": [
    "df.shape"
   ]
  },
  {
   "cell_type": "code",
   "execution_count": 20,
   "id": "a40848d5",
   "metadata": {},
   "outputs": [],
   "source": [
    "df = df.drop_duplicates(subset='Patientennummer')"
   ]
  },
  {
   "cell_type": "code",
   "execution_count": 21,
   "id": "691a2add",
   "metadata": {},
   "outputs": [
    {
     "data": {
      "text/plain": [
       "(30, 114)"
      ]
     },
     "execution_count": 21,
     "metadata": {},
     "output_type": "execute_result"
    }
   ],
   "source": [
    "df.shape"
   ]
  },
  {
   "cell_type": "code",
   "execution_count": 25,
   "id": "e8bce979",
   "metadata": {},
   "outputs": [
    {
     "name": "stdout",
     "output_type": "stream",
     "text": [
      "['Patientennummer', 'Identifikation', 'Schwelle', 'Diskrimination', 'Sprays', '16er', 'Alter', 'Geschlecht', 'Gewicht (kg)', 'Schmeckstörung ätherischer Geschmack', 'Schmeckstörung Hypogeusie', 'Schmeckstörung metall. Phantogeusie', 'Schmeckstörung salzig Phantogeusie', 'Schmeckstörung bitter Phantogeusie', 'Schmeckstörung süß Phantogeusie', 'Schmeckstörung sauer Phantogeusie', 'Schmeckstörung fauliger Geschmack', 'Schmeckstörung nicht definierbarer Geschmack', 'Salz_Cz_Lat_P1', 'Salz_Cz_Amp_P1', 'Salz_Fp2_Lat_P1', 'Salz_Fp2_Amp_P1', 'Salz_Fz_Lat_P1', 'Salz_Fz_Amp_P1', 'Salz_Pz_Lat_P1', 'Salz_Pz_Amp_P1', 'Salz_C3_Lat_P1', 'Salz_C3 _Amp_P1', 'Salz_C4_Lat_P1', 'Salz_C4_Amp_P1', 'Salz_P3_Lat_P1', 'Salz_P3_Amp_P1', 'Salz_P4_Lat_P1', 'Salz_P4_Amp_P1', 'Salz_Cz_Lat_N1', 'Salz_Cz_Amp_N1', 'Salz_Fp2_Lat_N1', 'Salz_Fp2_Amp_N1', 'Salz_Fz_Lat_N1', 'Salz_Fz_Amp_N1', 'Salz_Pz_Lat_N1', 'Salz_Pz_Amp_N1', 'Salz_C3_Lat_N1', 'Salz_C3 _Amp_N1', 'Salz_C4_Lat_N1', 'Salz_C4_Amp_N1', 'Salz_P3_Lat_N1', 'Salz_P3_Amp_N1', 'Salz_P4_Lat_N1', 'Salz_P4_Amp_N1', 'Salz_Cz_Lat_p2', 'Salz_Cz_Amp_p2', 'Salz_Fp2_Lat_p2', 'Salz_Fp2_Amp_p2', 'Salz_Fz_Lat_P2', 'Salz_Fz_Amp_p2', 'Salz_Pz_Lat_P2', 'Salz_Pz_Amp_p2', 'Salz_C3_Lat_p2', 'Salz_C3 _Amp_p2', 'Salz_C4_Lat_p2', 'Salz_C4_Amp_p2', 'Salz_P3_Lat_p2', 'Salz_P3_Amp_p2', 'Salz_P4_Lat_P2', 'Salz_P4_Amp_p2', 'Suess_Cz_Lat_P1', 'Suess_Cz_Amp_P1', 'Suess_Fp2_Lat_P1', 'Suess_Fp2_Amp_P1', 'Suess_Fz_Lat_P1', 'Suess_Fz_Amp_P1', 'Suess_Pz_Lat_P1', 'Suess_Pz_Amp_P1', 'Suess_C3_Lat_P1', 'Suess_C3 _Amp_P1', 'Suess_C4_Lat_P1', 'Suess_C4_Amp_P1', 'Suess_P3_Lat_P1', 'Suess_P3_Amp_P1', 'Suess_P4_Lat_P1', 'Suess_P4_Amp_P1', 'Suess_Cz_Lat_N1', 'Suess_Cz_Amp_N1', 'Suess_Fp2_Lat_N1', 'Suess_Fp2_Amp_N1', 'Suess_Fz_Lat_N1', 'Suess_Fz_Amp_N1', 'Suess_Pz_Lat_N1', 'Suess_Pz_Amp_N1', 'Suess_C3_Lat_N1', 'Suess_C3 _Amp_N1', 'Suess_C4_Lat_N1', 'Suess_C4_Amp_N1', 'Suess_P3_Lat_N1', 'Suess_P3_Amp_N1', 'Suess_P4_Lat_N1', 'Suess_P4_Amp_N1', 'Suess_Cz_Lat_p2', 'Suess_Cz_Amp_p2', 'Suess_Fp2_Lat_p2', 'Suess_Fp2_Amp_p2', 'Suess_Fz_Lat_P2', 'Suess_Fz_Amp_p2', 'Suess_Pz_Lat_P2', 'Suess_Pz_Amp_p2', 'Suess_C3_Lat_p2', 'Suess_C3 _Amp_p2', 'Suess_C4_Lat_p2', 'Suess_C4_Amp_p2', 'Suess_P3_Lat_p2', 'Suess_P3_Amp_p2', 'Suess_P4_Lat_P2', 'Suess_P4_Amp_p2']\n"
     ]
    }
   ],
   "source": [
    "print(df.columns.tolist())"
   ]
  },
  {
   "cell_type": "markdown",
   "id": "21252368",
   "metadata": {},
   "source": [
    "## Compare patients that exclusively have either Phantogeusie or a Hypogeusie"
   ]
  },
  {
   "cell_type": "code",
   "execution_count": 61,
   "id": "5ece046d",
   "metadata": {},
   "outputs": [],
   "source": [
    "df_hypo = df[(df[\"Schmeckstörung Hypogeusie\"] == 1) & (df['Schmeckstörung ätherischer Geschmack'] == 0) \n",
    "            & (df['Schmeckstörung metall. Phantogeusie'] == 0) & (df['Schmeckstörung salzig Phantogeusie'] == 0) \n",
    "            & (df['Schmeckstörung bitter Phantogeusie'] == 0) & (df['Schmeckstörung süß Phantogeusie'] == 0)\n",
    "            & (df['Schmeckstörung sauer Phantogeusie'] == 0) & (df['Schmeckstörung fauliger Geschmack'] == 0)\n",
    "            & (df['Schmeckstörung nicht definierbarer Geschmack'] == 0)]\n",
    "\n",
    "df_phanto = df[df[\"Schmeckstörung Hypogeusie\"] == 0]"
   ]
  },
  {
   "cell_type": "code",
   "execution_count": 62,
   "id": "1717e9f8",
   "metadata": {},
   "outputs": [
    {
     "data": {
      "text/plain": [
       "(3, 114)"
      ]
     },
     "execution_count": 62,
     "metadata": {},
     "output_type": "execute_result"
    }
   ],
   "source": [
    "df_hypo.shape"
   ]
  },
  {
   "cell_type": "code",
   "execution_count": 37,
   "id": "9538afb4",
   "metadata": {},
   "outputs": [
    {
     "data": {
      "text/plain": [
       "(20, 114)"
      ]
     },
     "execution_count": 37,
     "metadata": {},
     "output_type": "execute_result"
    }
   ],
   "source": [
    "df_phanto.shape"
   ]
  },
  {
   "cell_type": "markdown",
   "id": "f3c436ae",
   "metadata": {},
   "source": [
    "## Compare patients that have a Phantogeusie and/or a Hypogeusie"
   ]
  },
  {
   "cell_type": "code",
   "execution_count": 59,
   "id": "1706655f",
   "metadata": {},
   "outputs": [],
   "source": [
    "df_hypo = df[df[\"Schmeckstörung Hypogeusie\"] == 1]\n",
    "df_phanto = df[df[\"Schmeckstörung Hypogeusie\"] == 0]"
   ]
  },
  {
   "cell_type": "code",
   "execution_count": 42,
   "id": "218dd29e",
   "metadata": {},
   "outputs": [
    {
     "data": {
      "text/plain": [
       "(10, 114)"
      ]
     },
     "execution_count": 42,
     "metadata": {},
     "output_type": "execute_result"
    }
   ],
   "source": [
    "df_hypo.shape"
   ]
  },
  {
   "cell_type": "code",
   "execution_count": 43,
   "id": "999b6c21",
   "metadata": {},
   "outputs": [
    {
     "data": {
      "text/plain": [
       "(20, 114)"
      ]
     },
     "execution_count": 43,
     "metadata": {},
     "output_type": "execute_result"
    }
   ],
   "source": [
    "df_phanto.shape"
   ]
  },
  {
   "cell_type": "code",
   "execution_count": 53,
   "id": "57115c4f",
   "metadata": {},
   "outputs": [
    {
     "data": {
      "text/plain": [
       "Ttest_indResult(statistic=0.5030806368757069, pvalue=0.6206895802987984)"
      ]
     },
     "execution_count": 53,
     "metadata": {},
     "output_type": "execute_result"
    }
   ],
   "source": [
    "from scipy import stats\n",
    "\n",
    "# T-Test, Signifikanzniveau p= 0,05\n",
    "array_a = \"Salz_Cz_Lat_P1\"\n",
    "array_b = \"Salz_Cz_Lat_P1\"\n",
    "array_a = df_hypo[array_a].dropna()\n",
    "array_b = df_phanto[array_b].dropna()\n",
    "\n",
    "result = stats.ttest_ind(array_a, array_b)\n",
    "result"
   ]
  },
  {
   "cell_type": "code",
   "execution_count": 49,
   "id": "5e73d1e2",
   "metadata": {},
   "outputs": [
    {
     "data": {
      "image/png": "[encoded data removed]",
      "text/plain": [
       "<Figure size 720x504 with 1 Axes>"
      ]
     },
     "metadata": {
      "needs_background": "light"
     },
     "output_type": "display_data"
    }
   ],
   "source": [
    "# Import libraries\n",
    "import matplotlib.pyplot as plt\n",
    "import numpy as np\n",
    " \n",
    "fig = plt.figure(figsize =(10, 7))\n",
    " \n",
    "# Creating plot\n",
    "plt.boxplot([array_a, array_b])\n",
    " \n",
    "# show plot\n",
    "plt.show()"
   ]
  },
  {
   "cell_type": "code",
   "execution_count": 50,
   "id": "00380a1c",
   "metadata": {},
   "outputs": [
    {
     "data": {
      "text/plain": [
       "Ttest_indResult(statistic=0.3176339968759969, pvalue=0.7542268901660029)"
      ]
     },
     "execution_count": 50,
     "metadata": {},
     "output_type": "execute_result"
    }
   ],
   "source": [
    "# T-Test, Signifikanzniveau p= 0,05\n",
    "array_a = \"Salz_Fz_Lat_P1\"\n",
    "array_b = \"Salz_Fz_Lat_P1\"\n",
    "array_a = df_hypo[array_a].dropna()\n",
    "array_b = df_phanto[array_b].dropna()\n",
    "\n",
    "result = stats.ttest_ind(array_a, array_b)\n",
    "result"
   ]
  },
  {
   "cell_type": "code",
   "execution_count": 51,
   "id": "1a78e731",
   "metadata": {},
   "outputs": [
    {
     "data": {
      "text/plain": [
       "Ttest_indResult(statistic=0.1374049603772552, pvalue=0.8922360372463407)"
      ]
     },
     "execution_count": 51,
     "metadata": {},
     "output_type": "execute_result"
    }
   ],
   "source": [
    "array_a = \"Salz_Pz_Lat_P1\"\n",
    "array_b = \"Salz_Pz_Lat_P1\"\n",
    "array_a = df_hypo[array_a].dropna()\n",
    "array_b = df_phanto[array_b].dropna()\n",
    "\n",
    "result = stats.ttest_ind(array_a, array_b)\n",
    "result"
   ]
  },
  {
   "cell_type": "code",
   "execution_count": 65,
   "id": "2eecedfe",
   "metadata": {},
   "outputs": [
    {
     "data": {
      "text/plain": [
       "Ttest_indResult(statistic=0.8815464911406596, pvalue=0.3919293729344039)"
      ]
     },
     "execution_count": 65,
     "metadata": {},
     "output_type": "execute_result"
    }
   ],
   "source": [
    "array_a = \"Salz_Cz_Lat_P1\"\n",
    "array_b = \"Salz_Cz_Lat_P1\"\n",
    "array_a = df_hypo[array_a].dropna()\n",
    "array_b = df_phanto[array_b].dropna()\n",
    "\n",
    "result = stats.ttest_ind(array_a, array_b)\n",
    "result\n"
   ]
  },
  {
   "cell_type": "code",
   "execution_count": 66,
   "id": "2f21541f",
   "metadata": {},
   "outputs": [
    {
     "data": {
      "text/plain": [
       "Ttest_indResult(statistic=0.41262513455813377, pvalue=0.6857185931758963)"
      ]
     },
     "execution_count": 66,
     "metadata": {},
     "output_type": "execute_result"
    }
   ],
   "source": [
    "array_a = \"Salz_Cz_Lat_N1\"\n",
    "array_b = \"Salz_Cz_Lat_N1\"\n",
    "array_a = df_hypo[array_a].dropna()\n",
    "array_b = df_phanto[array_b].dropna()\n",
    "\n",
    "result = stats.ttest_ind(array_a, array_b)\n",
    "result\n"
   ]
  },
  {
   "cell_type": "code",
   "execution_count": 67,
   "id": "90c32a87",
   "metadata": {},
   "outputs": [
    {
     "data": {
      "text/plain": [
       "Ttest_indResult(statistic=0.13041638349827103, pvalue=0.8980924072179107)"
      ]
     },
     "execution_count": 67,
     "metadata": {},
     "output_type": "execute_result"
    }
   ],
   "source": [
    "array_a = \"Salz_Pz_Lat_N1\"\n",
    "array_b = \"Salz_Pz_Lat_N1\"\n",
    "array_a = df_hypo[array_a].dropna()\n",
    "array_b = df_phanto[array_b].dropna()\n",
    "\n",
    "result = stats.ttest_ind(array_a, array_b)\n",
    "result\n"
   ]
  },
  {
   "cell_type": "code",
   "execution_count": 68,
   "id": "e7e043c8",
   "metadata": {},
   "outputs": [
    {
     "data": {
      "text/plain": [
       "Ttest_indResult(statistic=0.07018858858400559, pvalue=0.9449707652352903)"
      ]
     },
     "execution_count": 68,
     "metadata": {},
     "output_type": "execute_result"
    }
   ],
   "source": [
    "array_a = \"Salz_Fz_Lat_N1\"\n",
    "array_b = \"Salz_Fz_Lat_N1\"\n",
    "array_a = df_hypo[array_a].dropna()\n",
    "array_b = df_phanto[array_b].dropna()\n",
    "\n",
    "result = stats.ttest_ind(array_a, array_b)\n",
    "result\n"
   ]
  },
  {
   "cell_type": "code",
   "execution_count": 71,
   "id": "aafdbccf",
   "metadata": {},
   "outputs": [
    {
     "data": {
      "text/plain": [
       "Ttest_indResult(statistic=0.12076224104953995, pvalue=0.9054821468081682)"
      ]
     },
     "execution_count": 71,
     "metadata": {},
     "output_type": "execute_result"
    }
   ],
   "source": [
    "array_a = \"Salz_Cz_Lat_p2\"\n",
    "array_b = \"Salz_Cz_Lat_p2\"\n",
    "array_a = df_hypo[array_a].dropna()\n",
    "array_b = df_phanto[array_b].dropna()\n",
    "\n",
    "result = stats.ttest_ind(array_a, array_b)\n",
    "result\n"
   ]
  },
  {
   "cell_type": "code",
   "execution_count": 74,
   "id": "0d1ef2d0",
   "metadata": {},
   "outputs": [
    {
     "data": {
      "text/plain": [
       "Ttest_indResult(statistic=-0.45967640080571776, pvalue=0.6523404914278774)"
      ]
     },
     "execution_count": 74,
     "metadata": {},
     "output_type": "execute_result"
    }
   ],
   "source": [
    "array_a = \"Salz_Pz_Lat_P2\"\n",
    "array_b = \"Salz_Pz_Lat_P2\"\n",
    "array_a = df_hypo[array_a].dropna()\n",
    "array_b = df_phanto[array_b].dropna()\n",
    "\n",
    "result = stats.ttest_ind(array_a, array_b)\n",
    "result\n"
   ]
  },
  {
   "cell_type": "code",
   "execution_count": 75,
   "id": "58b50c37",
   "metadata": {},
   "outputs": [
    {
     "data": {
      "text/plain": [
       "Ttest_indResult(statistic=-0.21991009075972304, pvalue=0.8289059556880499)"
      ]
     },
     "execution_count": 75,
     "metadata": {},
     "output_type": "execute_result"
    }
   ],
   "source": [
    "array_a = \"Salz_Fz_Lat_P2\"\n",
    "array_b = \"Salz_Fz_Lat_P2\"\n",
    "array_a = df_hypo[array_a].dropna()\n",
    "array_b = df_phanto[array_b].dropna()\n",
    "\n",
    "result = stats.ttest_ind(array_a, array_b)\n",
    "result"
   ]
  },
  {
   "cell_type": "code",
   "execution_count": 76,
   "id": "16862835",
   "metadata": {},
   "outputs": [
    {
     "data": {
      "text/plain": [
       "Ttest_indResult(statistic=3.0512453808679574, pvalue=0.011022955402953073)"
      ]
     },
     "execution_count": 76,
     "metadata": {},
     "output_type": "execute_result"
    }
   ],
   "source": [
    "array_a = \"Suess_Cz_Lat_P1\"\n",
    "array_b = \"Suess_Cz_Lat_P1\"\n",
    "array_a = df_hypo[array_a].dropna()\n",
    "array_b = df_phanto[array_b].dropna()\n",
    "\n",
    "result = stats.ttest_ind(array_a, array_b)\n",
    "result"
   ]
  },
  {
   "cell_type": "code",
   "execution_count": 77,
   "id": "98f4e223",
   "metadata": {},
   "outputs": [
    {
     "data": {
      "text/plain": [
       "Ttest_indResult(statistic=3.170827664828931, pvalue=0.008905475595728119)"
      ]
     },
     "execution_count": 77,
     "metadata": {},
     "output_type": "execute_result"
    }
   ],
   "source": [
    "array_a = \"Suess_Pz_Lat_P1\"\n",
    "array_b = \"Suess_Pz_Lat_P1\"\n",
    "array_a = df_hypo[array_a].dropna()\n",
    "array_b = df_phanto[array_b].dropna()\n",
    "\n",
    "result = stats.ttest_ind(array_a, array_b)\n",
    "result"
   ]
  },
  {
   "cell_type": "code",
   "execution_count": 78,
   "id": "f29547d7",
   "metadata": {},
   "outputs": [
    {
     "data": {
      "text/plain": [
       "Ttest_indResult(statistic=3.1020553436079457, pvalue=0.01006715179728161)"
      ]
     },
     "execution_count": 78,
     "metadata": {},
     "output_type": "execute_result"
    }
   ],
   "source": [
    "array_a = \"Suess_Fz_Lat_P1\"\n",
    "array_b = \"Suess_Fz_Lat_P1\"\n",
    "array_a = df_hypo[array_a].dropna()\n",
    "array_b = df_phanto[array_b].dropna()\n",
    "\n",
    "result = stats.ttest_ind(array_a, array_b)\n",
    "result"
   ]
  },
  {
   "cell_type": "code",
   "execution_count": 79,
   "id": "2b817094",
   "metadata": {},
   "outputs": [
    {
     "data": {
      "text/plain": [
       "Ttest_indResult(statistic=2.694361621862068, pvalue=0.019511812953359412)"
      ]
     },
     "execution_count": 79,
     "metadata": {},
     "output_type": "execute_result"
    }
   ],
   "source": [
    "array_a = \"Suess_Cz_Lat_N1\"\n",
    "array_b = \"Suess_Cz_Lat_N1\"\n",
    "array_a = df_hypo[array_a].dropna()\n",
    "array_b = df_phanto[array_b].dropna()\n",
    "\n",
    "result = stats.ttest_ind(array_a, array_b)\n",
    "result"
   ]
  },
  {
   "cell_type": "code",
   "execution_count": 80,
   "id": "71526bd2",
   "metadata": {},
   "outputs": [
    {
     "data": {
      "text/plain": [
       "Ttest_indResult(statistic=2.7303278311429082, pvalue=0.018255409495619213)"
      ]
     },
     "execution_count": 80,
     "metadata": {},
     "output_type": "execute_result"
    }
   ],
   "source": [
    "array_a = \"Suess_Pz_Lat_N1\"\n",
    "array_b = \"Suess_Pz_Lat_N1\"\n",
    "array_a = df_hypo[array_a].dropna()\n",
    "array_b = df_phanto[array_b].dropna()\n",
    "\n",
    "result = stats.ttest_ind(array_a, array_b)\n",
    "result"
   ]
  },
  {
   "cell_type": "code",
   "execution_count": 81,
   "id": "f7144a84",
   "metadata": {},
   "outputs": [
    {
     "data": {
      "text/plain": [
       "Ttest_indResult(statistic=2.706178381803781, pvalue=0.0190899083532071)"
      ]
     },
     "execution_count": 81,
     "metadata": {},
     "output_type": "execute_result"
    }
   ],
   "source": [
    "array_a = \"Suess_Fz_Lat_N1\"\n",
    "array_b = \"Suess_Fz_Lat_N1\"\n",
    "array_a = df_hypo[array_a].dropna()\n",
    "array_b = df_phanto[array_b].dropna()\n",
    "\n",
    "result = stats.ttest_ind(array_a, array_b)\n",
    "result"
   ]
  },
  {
   "cell_type": "code",
   "execution_count": 83,
   "id": "93053c56",
   "metadata": {},
   "outputs": [
    {
     "data": {
      "text/plain": [
       "Ttest_indResult(statistic=0.9476307388015287, pvalue=0.3620108427435337)"
      ]
     },
     "execution_count": 83,
     "metadata": {},
     "output_type": "execute_result"
    }
   ],
   "source": [
    "array_a = \"Suess_Cz_Lat_p2\"\n",
    "array_b = \"Suess_Cz_Lat_p2\"\n",
    "array_a = df_hypo[array_a].dropna()\n",
    "array_b = df_phanto[array_b].dropna()\n",
    "\n",
    "result = stats.ttest_ind(array_a, array_b)\n",
    "result"
   ]
  },
  {
   "cell_type": "code",
   "execution_count": 85,
   "id": "428361bd",
   "metadata": {},
   "outputs": [
    {
     "data": {
      "text/plain": [
       "Ttest_indResult(statistic=0.9033034840206486, pvalue=0.3841395469991402)"
      ]
     },
     "execution_count": 85,
     "metadata": {},
     "output_type": "execute_result"
    }
   ],
   "source": [
    "array_a = \"Suess_Pz_Lat_P2\"\n",
    "array_b = \"Suess_Pz_Lat_P2\"\n",
    "array_a = df_hypo[array_a].dropna()\n",
    "array_b = df_phanto[array_b].dropna()\n",
    "\n",
    "result = stats.ttest_ind(array_a, array_b)\n",
    "result"
   ]
  },
  {
   "cell_type": "code",
   "execution_count": 87,
   "id": "5b097fbe",
   "metadata": {},
   "outputs": [
    {
     "data": {
      "text/plain": [
       "Ttest_indResult(statistic=1.00004549550008, pvalue=0.3370279275632657)"
      ]
     },
     "execution_count": 87,
     "metadata": {},
     "output_type": "execute_result"
    }
   ],
   "source": [
    "array_a = \"Suess_Fz_Lat_P2\"\n",
    "array_b = \"Suess_Fz_Lat_P2\"\n",
    "array_a = df_hypo[array_a].dropna()\n",
    "array_b = df_phanto[array_b].dropna()\n",
    "\n",
    "result = stats.ttest_ind(array_a, array_b)\n",
    "result"
   ]
  },
  {
   "cell_type": "code",
   "execution_count": null,
   "id": "e52f34ba",
   "metadata": {},
   "outputs": [],
   "source": []
  }
 ],
 "metadata": {
  "kernelspec": {
   "display_name": "Python 3 (ipykernel)",
   "language": "python",
   "name": "python3"
  },
  "language_info": {
   "codemirror_mode": {
    "name": "ipython",
    "version": 3
   },
   "file_extension": ".py",
   "mimetype": "text/x-python",
   "name": "python",
   "nbconvert_exporter": "python",
   "pygments_lexer": "ipython3",
   "version": "3.8.9"
  }
 },
 "nbformat": 4,
 "nbformat_minor": 5
}
