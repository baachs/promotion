{
 "cells": [
  {
   "cell_type": "code",
   "execution_count": 1,
   "id": "93023b5f",
   "metadata": {},
   "outputs": [],
   "source": [
    "import pandas as pd\n",
    "from scipy import stats\n",
    "import matplotlib.pyplot as plt"
   ]
  },
  {
   "cell_type": "markdown",
   "id": "b58d1fce",
   "metadata": {},
   "source": [
    "# Datenimport"
   ]
  },
  {
   "cell_type": "code",
   "execution_count": 2,
   "id": "db4b228a",
   "metadata": {},
   "outputs": [
    {
     "data": {
      "text/plain": [
       "(58, 232)"
      ]
     },
     "execution_count": 2,
     "metadata": {},
     "output_type": "execute_result"
    }
   ],
   "source": [
    "# path muss der Pfad zu deinen Daten von dem Verzeichnis dieser Datei aus sein\n",
    "path = \"DatenSchaabBabette-3.xlsx\"\n",
    "df = pd.read_excel(path)\n",
    "df.shape"
   ]
  },
  {
   "cell_type": "code",
   "execution_count": 2,
   "id": "e69818ab",
   "metadata": {},
   "outputs": [
    {
     "data": {
      "text/plain": [
       "(58, 232)"
      ]
     },
     "execution_count": 2,
     "metadata": {},
     "output_type": "execute_result"
    }
   ],
   "source": [
    "# path muss der Pfad zu deinen Daten von dem Verzeichnis dieser Datei aus sein\n",
    "path = \"DatenSchaabBabette-5.xlsx\"\n",
    "df = pd.read_excel(path)\n",
    "df.shape"
   ]
  },
  {
   "cell_type": "code",
   "execution_count": 3,
   "id": "54b98239",
   "metadata": {},
   "outputs": [
    {
     "name": "stdout",
     "output_type": "stream",
     "text": [
      "DONE!\n"
     ]
    }
   ],
   "source": [
    "# 500ms pre-trigger Zeit abziehen\n",
    "# ACHTUNG: Diese Zelle nur 1x ausführen\n",
    "cols = df.columns.tolist()\n",
    "lat_variables = [col for col in cols if \"_Lat_\" in col] # das sind die Latenz Spalten\n",
    "for col in lat_variables:\n",
    "    df[col] -= 500\n",
    "print(\"DONE!\")"
   ]
  },
  {
   "cell_type": "code",
   "execution_count": 4,
   "id": "4d705427",
   "metadata": {},
   "outputs": [
    {
     "data": {
      "text/plain": [
       "286.58285440171954"
      ]
     },
     "execution_count": 4,
     "metadata": {},
     "output_type": "execute_result"
    }
   ],
   "source": [
    "# ACHTUNG: HIER SOLLTE ~286 STEHEN, FALLS NICHT, WURDE DIE PRE-TRIGGER ZEIT FALSCH ABGEZOGEN\n",
    "df[lat_variables].mean().mean()"
   ]
  },
  {
   "cell_type": "code",
   "execution_count": 4,
   "id": "d3238b21",
   "metadata": {},
   "outputs": [
    {
     "data": {
      "text/plain": [
       "(33, 232)"
      ]
     },
     "execution_count": 4,
     "metadata": {},
     "output_type": "execute_result"
    }
   ],
   "source": [
    "patienten = df[df['Status '] == 1]\n",
    "patienten.shape"
   ]
  },
  {
   "cell_type": "code",
   "execution_count": 5,
   "id": "9f7efaf5",
   "metadata": {},
   "outputs": [
    {
     "data": {
      "text/plain": [
       "(21, 232)"
      ]
     },
     "execution_count": 5,
     "metadata": {},
     "output_type": "execute_result"
    }
   ],
   "source": [
    "gesunde = df[df['Status '] == 0]\n",
    "gesunde.shape"
   ]
  },
  {
   "cell_type": "code",
   "execution_count": 6,
   "id": "52c543c1",
   "metadata": {},
   "outputs": [
    {
     "data": {
      "text/html": [
       "<div>\n",
       "<style scoped>\n",
       "    .dataframe tbody tr th:only-of-type {\n",
       "        vertical-align: middle;\n",
       "    }\n",
       "\n",
       "    .dataframe tbody tr th {\n",
       "        vertical-align: top;\n",
       "    }\n",
       "\n",
       "    .dataframe thead th {\n",
       "        text-align: right;\n",
       "    }\n",
       "</style>\n",
       "<table border=\"1\" class=\"dataframe\">\n",
       "  <thead>\n",
       "    <tr style=\"text-align: right;\">\n",
       "      <th></th>\n",
       "      <th>Patientennummer</th>\n",
       "      <th>Status</th>\n",
       "      <th>Identifikation</th>\n",
       "      <th>Schwelle</th>\n",
       "      <th>Diskrimination</th>\n",
       "      <th>Sprays</th>\n",
       "      <th>16er</th>\n",
       "      <th>Alter</th>\n",
       "      <th>Geschlecht</th>\n",
       "      <th>Gewicht (kg)</th>\n",
       "      <th>...</th>\n",
       "      <th>Suess_C3_Lat_p2</th>\n",
       "      <th>Suess_C3 _Amp_p2</th>\n",
       "      <th>Suess_C4_Lat_p2</th>\n",
       "      <th>Suess_C4_Amp_p2</th>\n",
       "      <th>Suess_P3_Lat_p2</th>\n",
       "      <th>Suess_P3_Amp_p2</th>\n",
       "      <th>Suess_P4_Lat_P2</th>\n",
       "      <th>Suess_P4_Amp_p2</th>\n",
       "      <th>Unnamed: 230</th>\n",
       "      <th>Bemerkung</th>\n",
       "    </tr>\n",
       "  </thead>\n",
       "  <tbody>\n",
       "    <tr>\n",
       "      <th>33</th>\n",
       "      <td>208.0</td>\n",
       "      <td>0.0</td>\n",
       "      <td>12.0</td>\n",
       "      <td>NaN</td>\n",
       "      <td>NaN</td>\n",
       "      <td>5.0</td>\n",
       "      <td>11.0</td>\n",
       "      <td>86.0</td>\n",
       "      <td>1.0</td>\n",
       "      <td>69.0</td>\n",
       "      <td>...</td>\n",
       "      <td>NaN</td>\n",
       "      <td>NaN</td>\n",
       "      <td>NaN</td>\n",
       "      <td>NaN</td>\n",
       "      <td>NaN</td>\n",
       "      <td>NaN</td>\n",
       "      <td>NaN</td>\n",
       "      <td>NaN</td>\n",
       "      <td>NaN</td>\n",
       "      <td>NaN</td>\n",
       "    </tr>\n",
       "    <tr>\n",
       "      <th>34</th>\n",
       "      <td>209.0</td>\n",
       "      <td>0.0</td>\n",
       "      <td>15.0</td>\n",
       "      <td>NaN</td>\n",
       "      <td>NaN</td>\n",
       "      <td>5.0</td>\n",
       "      <td>11.0</td>\n",
       "      <td>56.0</td>\n",
       "      <td>1.0</td>\n",
       "      <td>54.0</td>\n",
       "      <td>...</td>\n",
       "      <td>814.0</td>\n",
       "      <td>368.0</td>\n",
       "      <td>819.0</td>\n",
       "      <td>-210.0</td>\n",
       "      <td>816.0</td>\n",
       "      <td>78.0</td>\n",
       "      <td>818.0</td>\n",
       "      <td>579.0</td>\n",
       "      <td>NaN</td>\n",
       "      <td>NaN</td>\n",
       "    </tr>\n",
       "    <tr>\n",
       "      <th>35</th>\n",
       "      <td>210.0</td>\n",
       "      <td>0.0</td>\n",
       "      <td>4.0</td>\n",
       "      <td>NaN</td>\n",
       "      <td>NaN</td>\n",
       "      <td>4.0</td>\n",
       "      <td>10.0</td>\n",
       "      <td>54.0</td>\n",
       "      <td>1.0</td>\n",
       "      <td>71.0</td>\n",
       "      <td>...</td>\n",
       "      <td>730.0</td>\n",
       "      <td>374.0</td>\n",
       "      <td>716.0</td>\n",
       "      <td>-1250.0</td>\n",
       "      <td>720.0</td>\n",
       "      <td>530.0</td>\n",
       "      <td>710.0</td>\n",
       "      <td>124.0</td>\n",
       "      <td>NaN</td>\n",
       "      <td>NaN</td>\n",
       "    </tr>\n",
       "    <tr>\n",
       "      <th>36</th>\n",
       "      <td>211.0</td>\n",
       "      <td>0.0</td>\n",
       "      <td>9.0</td>\n",
       "      <td>2.25</td>\n",
       "      <td>13.0</td>\n",
       "      <td>3.0</td>\n",
       "      <td>14.0</td>\n",
       "      <td>81.0</td>\n",
       "      <td>1.0</td>\n",
       "      <td>63.0</td>\n",
       "      <td>...</td>\n",
       "      <td>NaN</td>\n",
       "      <td>NaN</td>\n",
       "      <td>NaN</td>\n",
       "      <td>NaN</td>\n",
       "      <td>NaN</td>\n",
       "      <td>NaN</td>\n",
       "      <td>NaN</td>\n",
       "      <td>NaN</td>\n",
       "      <td>NaN</td>\n",
       "      <td>NaN</td>\n",
       "    </tr>\n",
       "    <tr>\n",
       "      <th>37</th>\n",
       "      <td>212.0</td>\n",
       "      <td>0.0</td>\n",
       "      <td>2.0</td>\n",
       "      <td>1.00</td>\n",
       "      <td>5.0</td>\n",
       "      <td>5.0</td>\n",
       "      <td>12.0</td>\n",
       "      <td>75.0</td>\n",
       "      <td>2.0</td>\n",
       "      <td>55.0</td>\n",
       "      <td>...</td>\n",
       "      <td>702.0</td>\n",
       "      <td>1999.0</td>\n",
       "      <td>703.0</td>\n",
       "      <td>870.0</td>\n",
       "      <td>701.0</td>\n",
       "      <td>676.0</td>\n",
       "      <td>703.0</td>\n",
       "      <td>-839.0</td>\n",
       "      <td>NaN</td>\n",
       "      <td>NaN</td>\n",
       "    </tr>\n",
       "    <tr>\n",
       "      <th>38</th>\n",
       "      <td>213.0</td>\n",
       "      <td>0.0</td>\n",
       "      <td>NaN</td>\n",
       "      <td>NaN</td>\n",
       "      <td>NaN</td>\n",
       "      <td>5.0</td>\n",
       "      <td>13.0</td>\n",
       "      <td>68.0</td>\n",
       "      <td>1.0</td>\n",
       "      <td>65.0</td>\n",
       "      <td>...</td>\n",
       "      <td>NaN</td>\n",
       "      <td>NaN</td>\n",
       "      <td>NaN</td>\n",
       "      <td>NaN</td>\n",
       "      <td>NaN</td>\n",
       "      <td>NaN</td>\n",
       "      <td>NaN</td>\n",
       "      <td>NaN</td>\n",
       "      <td>NaN</td>\n",
       "      <td>NaN</td>\n",
       "    </tr>\n",
       "    <tr>\n",
       "      <th>39</th>\n",
       "      <td>214.0</td>\n",
       "      <td>0.0</td>\n",
       "      <td>15.0</td>\n",
       "      <td>NaN</td>\n",
       "      <td>NaN</td>\n",
       "      <td>5.0</td>\n",
       "      <td>11.0</td>\n",
       "      <td>60.0</td>\n",
       "      <td>1.0</td>\n",
       "      <td>64.0</td>\n",
       "      <td>...</td>\n",
       "      <td>NaN</td>\n",
       "      <td>NaN</td>\n",
       "      <td>NaN</td>\n",
       "      <td>NaN</td>\n",
       "      <td>NaN</td>\n",
       "      <td>NaN</td>\n",
       "      <td>NaN</td>\n",
       "      <td>NaN</td>\n",
       "      <td>NaN</td>\n",
       "      <td>NaN</td>\n",
       "    </tr>\n",
       "    <tr>\n",
       "      <th>40</th>\n",
       "      <td>215.0</td>\n",
       "      <td>0.0</td>\n",
       "      <td>14.0</td>\n",
       "      <td>NaN</td>\n",
       "      <td>NaN</td>\n",
       "      <td>5.0</td>\n",
       "      <td>12.0</td>\n",
       "      <td>85.0</td>\n",
       "      <td>1.0</td>\n",
       "      <td>73.0</td>\n",
       "      <td>...</td>\n",
       "      <td>830.0</td>\n",
       "      <td>4307.0</td>\n",
       "      <td>821.0</td>\n",
       "      <td>1268.0</td>\n",
       "      <td>828.0</td>\n",
       "      <td>4768.0</td>\n",
       "      <td>823.0</td>\n",
       "      <td>2999.0</td>\n",
       "      <td>NaN</td>\n",
       "      <td>NaN</td>\n",
       "    </tr>\n",
       "    <tr>\n",
       "      <th>41</th>\n",
       "      <td>216.0</td>\n",
       "      <td>0.0</td>\n",
       "      <td>15.0</td>\n",
       "      <td>NaN</td>\n",
       "      <td>NaN</td>\n",
       "      <td>4.0</td>\n",
       "      <td>11.0</td>\n",
       "      <td>59.0</td>\n",
       "      <td>2.0</td>\n",
       "      <td>88.0</td>\n",
       "      <td>...</td>\n",
       "      <td>NaN</td>\n",
       "      <td>NaN</td>\n",
       "      <td>NaN</td>\n",
       "      <td>NaN</td>\n",
       "      <td>NaN</td>\n",
       "      <td>NaN</td>\n",
       "      <td>NaN</td>\n",
       "      <td>NaN</td>\n",
       "      <td>NaN</td>\n",
       "      <td>NaN</td>\n",
       "    </tr>\n",
       "    <tr>\n",
       "      <th>42</th>\n",
       "      <td>217.0</td>\n",
       "      <td>0.0</td>\n",
       "      <td>14.0</td>\n",
       "      <td>NaN</td>\n",
       "      <td>NaN</td>\n",
       "      <td>5.0</td>\n",
       "      <td>12.0</td>\n",
       "      <td>83.0</td>\n",
       "      <td>2.0</td>\n",
       "      <td>69.0</td>\n",
       "      <td>...</td>\n",
       "      <td>NaN</td>\n",
       "      <td>NaN</td>\n",
       "      <td>NaN</td>\n",
       "      <td>NaN</td>\n",
       "      <td>NaN</td>\n",
       "      <td>NaN</td>\n",
       "      <td>NaN</td>\n",
       "      <td>NaN</td>\n",
       "      <td>NaN</td>\n",
       "      <td>NaN</td>\n",
       "    </tr>\n",
       "    <tr>\n",
       "      <th>43</th>\n",
       "      <td>218.0</td>\n",
       "      <td>0.0</td>\n",
       "      <td>12.0</td>\n",
       "      <td>NaN</td>\n",
       "      <td>NaN</td>\n",
       "      <td>5.0</td>\n",
       "      <td>12.0</td>\n",
       "      <td>60.0</td>\n",
       "      <td>1.0</td>\n",
       "      <td>81.0</td>\n",
       "      <td>...</td>\n",
       "      <td>861.0</td>\n",
       "      <td>1768.0</td>\n",
       "      <td>861.0</td>\n",
       "      <td>2152.0</td>\n",
       "      <td>864.0</td>\n",
       "      <td>1076.0</td>\n",
       "      <td>864.0</td>\n",
       "      <td>1307000.0</td>\n",
       "      <td>NaN</td>\n",
       "      <td>NaN</td>\n",
       "    </tr>\n",
       "    <tr>\n",
       "      <th>44</th>\n",
       "      <td>219.0</td>\n",
       "      <td>0.0</td>\n",
       "      <td>13.0</td>\n",
       "      <td>NaN</td>\n",
       "      <td>NaN</td>\n",
       "      <td>5.0</td>\n",
       "      <td>13.0</td>\n",
       "      <td>50.0</td>\n",
       "      <td>2.0</td>\n",
       "      <td>90.0</td>\n",
       "      <td>...</td>\n",
       "      <td>NaN</td>\n",
       "      <td>NaN</td>\n",
       "      <td>NaN</td>\n",
       "      <td>NaN</td>\n",
       "      <td>NaN</td>\n",
       "      <td>NaN</td>\n",
       "      <td>NaN</td>\n",
       "      <td>NaN</td>\n",
       "      <td>NaN</td>\n",
       "      <td>NaN</td>\n",
       "    </tr>\n",
       "    <tr>\n",
       "      <th>45</th>\n",
       "      <td>220.0</td>\n",
       "      <td>0.0</td>\n",
       "      <td>15.0</td>\n",
       "      <td>NaN</td>\n",
       "      <td>NaN</td>\n",
       "      <td>5.0</td>\n",
       "      <td>10.0</td>\n",
       "      <td>58.0</td>\n",
       "      <td>2.0</td>\n",
       "      <td>95.0</td>\n",
       "      <td>...</td>\n",
       "      <td>NaN</td>\n",
       "      <td>NaN</td>\n",
       "      <td>NaN</td>\n",
       "      <td>NaN</td>\n",
       "      <td>NaN</td>\n",
       "      <td>NaN</td>\n",
       "      <td>NaN</td>\n",
       "      <td>NaN</td>\n",
       "      <td>NaN</td>\n",
       "      <td>NaN</td>\n",
       "    </tr>\n",
       "    <tr>\n",
       "      <th>46</th>\n",
       "      <td>221.0</td>\n",
       "      <td>0.0</td>\n",
       "      <td>12.0</td>\n",
       "      <td>NaN</td>\n",
       "      <td>NaN</td>\n",
       "      <td>5.0</td>\n",
       "      <td>14.0</td>\n",
       "      <td>56.0</td>\n",
       "      <td>1.0</td>\n",
       "      <td>61.0</td>\n",
       "      <td>...</td>\n",
       "      <td>864.0</td>\n",
       "      <td>4827.0</td>\n",
       "      <td>863.0</td>\n",
       "      <td>3970.0</td>\n",
       "      <td>863.0</td>\n",
       "      <td>4313.0</td>\n",
       "      <td>863.0</td>\n",
       "      <td>4884.0</td>\n",
       "      <td>NaN</td>\n",
       "      <td>NaN</td>\n",
       "    </tr>\n",
       "    <tr>\n",
       "      <th>47</th>\n",
       "      <td>222.0</td>\n",
       "      <td>0.0</td>\n",
       "      <td>11.0</td>\n",
       "      <td>NaN</td>\n",
       "      <td>NaN</td>\n",
       "      <td>3.0</td>\n",
       "      <td>11.0</td>\n",
       "      <td>57.0</td>\n",
       "      <td>2.0</td>\n",
       "      <td>93.0</td>\n",
       "      <td>...</td>\n",
       "      <td>798.0</td>\n",
       "      <td>416.0</td>\n",
       "      <td>802.0</td>\n",
       "      <td>1583.0</td>\n",
       "      <td>794.0</td>\n",
       "      <td>833.0</td>\n",
       "      <td>1137.0</td>\n",
       "      <td>5624.0</td>\n",
       "      <td>NaN</td>\n",
       "      <td>NaN</td>\n",
       "    </tr>\n",
       "    <tr>\n",
       "      <th>48</th>\n",
       "      <td>223.0</td>\n",
       "      <td>0.0</td>\n",
       "      <td>14.0</td>\n",
       "      <td>NaN</td>\n",
       "      <td>NaN</td>\n",
       "      <td>5.0</td>\n",
       "      <td>13.0</td>\n",
       "      <td>79.0</td>\n",
       "      <td>1.0</td>\n",
       "      <td>71.0</td>\n",
       "      <td>...</td>\n",
       "      <td>960.0</td>\n",
       "      <td>5356.0</td>\n",
       "      <td>949.0</td>\n",
       "      <td>6713.0</td>\n",
       "      <td>950.0</td>\n",
       "      <td>2999.0</td>\n",
       "      <td>948.0</td>\n",
       "      <td>3285.0</td>\n",
       "      <td>NaN</td>\n",
       "      <td>NaN</td>\n",
       "    </tr>\n",
       "    <tr>\n",
       "      <th>49</th>\n",
       "      <td>224.0</td>\n",
       "      <td>0.0</td>\n",
       "      <td>16.0</td>\n",
       "      <td>NaN</td>\n",
       "      <td>NaN</td>\n",
       "      <td>5.0</td>\n",
       "      <td>10.0</td>\n",
       "      <td>58.0</td>\n",
       "      <td>1.0</td>\n",
       "      <td>70.0</td>\n",
       "      <td>...</td>\n",
       "      <td>NaN</td>\n",
       "      <td>NaN</td>\n",
       "      <td>NaN</td>\n",
       "      <td>NaN</td>\n",
       "      <td>NaN</td>\n",
       "      <td>NaN</td>\n",
       "      <td>NaN</td>\n",
       "      <td>NaN</td>\n",
       "      <td>NaN</td>\n",
       "      <td>NaN</td>\n",
       "    </tr>\n",
       "    <tr>\n",
       "      <th>50</th>\n",
       "      <td>225.0</td>\n",
       "      <td>0.0</td>\n",
       "      <td>11.0</td>\n",
       "      <td>NaN</td>\n",
       "      <td>NaN</td>\n",
       "      <td>4.0</td>\n",
       "      <td>11.0</td>\n",
       "      <td>46.0</td>\n",
       "      <td>2.0</td>\n",
       "      <td>85.0</td>\n",
       "      <td>...</td>\n",
       "      <td>NaN</td>\n",
       "      <td>NaN</td>\n",
       "      <td>NaN</td>\n",
       "      <td>NaN</td>\n",
       "      <td>NaN</td>\n",
       "      <td>NaN</td>\n",
       "      <td>NaN</td>\n",
       "      <td>NaN</td>\n",
       "      <td>NaN</td>\n",
       "      <td>NaN</td>\n",
       "    </tr>\n",
       "    <tr>\n",
       "      <th>51</th>\n",
       "      <td>226.0</td>\n",
       "      <td>0.0</td>\n",
       "      <td>14.0</td>\n",
       "      <td>NaN</td>\n",
       "      <td>NaN</td>\n",
       "      <td>5.0</td>\n",
       "      <td>14.0</td>\n",
       "      <td>33.0</td>\n",
       "      <td>1.0</td>\n",
       "      <td>63.0</td>\n",
       "      <td>...</td>\n",
       "      <td>900.0</td>\n",
       "      <td>-34113.0</td>\n",
       "      <td>901.0</td>\n",
       "      <td>-42381.0</td>\n",
       "      <td>891.0</td>\n",
       "      <td>-58612.0</td>\n",
       "      <td>898.0</td>\n",
       "      <td>-17253.0</td>\n",
       "      <td>NaN</td>\n",
       "      <td>NaN</td>\n",
       "    </tr>\n",
       "    <tr>\n",
       "      <th>52</th>\n",
       "      <td>227.0</td>\n",
       "      <td>0.0</td>\n",
       "      <td>15.0</td>\n",
       "      <td>NaN</td>\n",
       "      <td>NaN</td>\n",
       "      <td>5.0</td>\n",
       "      <td>11.0</td>\n",
       "      <td>33.0</td>\n",
       "      <td>2.0</td>\n",
       "      <td>110.0</td>\n",
       "      <td>...</td>\n",
       "      <td>NaN</td>\n",
       "      <td>NaN</td>\n",
       "      <td>NaN</td>\n",
       "      <td>NaN</td>\n",
       "      <td>NaN</td>\n",
       "      <td>NaN</td>\n",
       "      <td>NaN</td>\n",
       "      <td>NaN</td>\n",
       "      <td>NaN</td>\n",
       "      <td>NaN</td>\n",
       "    </tr>\n",
       "    <tr>\n",
       "      <th>53</th>\n",
       "      <td>228.0</td>\n",
       "      <td>0.0</td>\n",
       "      <td>11.0</td>\n",
       "      <td>NaN</td>\n",
       "      <td>NaN</td>\n",
       "      <td>5.0</td>\n",
       "      <td>13.0</td>\n",
       "      <td>60.0</td>\n",
       "      <td>2.0</td>\n",
       "      <td>82.0</td>\n",
       "      <td>...</td>\n",
       "      <td>770.0</td>\n",
       "      <td>-135565.0</td>\n",
       "      <td>776.0</td>\n",
       "      <td>-129035.0</td>\n",
       "      <td>767.0</td>\n",
       "      <td>-118677.0</td>\n",
       "      <td>766.0</td>\n",
       "      <td>-117276.0</td>\n",
       "      <td>NaN</td>\n",
       "      <td>NaN</td>\n",
       "    </tr>\n",
       "  </tbody>\n",
       "</table>\n",
       "<p>21 rows × 232 columns</p>\n",
       "</div>"
      ],
      "text/plain": [
       "    Patientennummer  Status   Identifikation  Schwelle  Diskrimination  \\\n",
       "33            208.0      0.0            12.0       NaN             NaN   \n",
       "34            209.0      0.0            15.0       NaN             NaN   \n",
       "35            210.0      0.0             4.0       NaN             NaN   \n",
       "36            211.0      0.0             9.0      2.25            13.0   \n",
       "37            212.0      0.0             2.0      1.00             5.0   \n",
       "38            213.0      0.0             NaN       NaN             NaN   \n",
       "39            214.0      0.0            15.0       NaN             NaN   \n",
       "40            215.0      0.0            14.0       NaN             NaN   \n",
       "41            216.0      0.0            15.0       NaN             NaN   \n",
       "42            217.0      0.0            14.0       NaN             NaN   \n",
       "43            218.0      0.0            12.0       NaN             NaN   \n",
       "44            219.0      0.0            13.0       NaN             NaN   \n",
       "45            220.0      0.0            15.0       NaN             NaN   \n",
       "46            221.0      0.0            12.0       NaN             NaN   \n",
       "47            222.0      0.0            11.0       NaN             NaN   \n",
       "48            223.0      0.0            14.0       NaN             NaN   \n",
       "49            224.0      0.0            16.0       NaN             NaN   \n",
       "50            225.0      0.0            11.0       NaN             NaN   \n",
       "51            226.0      0.0            14.0       NaN             NaN   \n",
       "52            227.0      0.0            15.0       NaN             NaN   \n",
       "53            228.0      0.0            11.0       NaN             NaN   \n",
       "\n",
       "    Sprays  16er  Alter  Geschlecht  Gewicht (kg)  ...  Suess_C3_Lat_p2  \\\n",
       "33     5.0  11.0   86.0         1.0          69.0  ...              NaN   \n",
       "34     5.0  11.0   56.0         1.0          54.0  ...            814.0   \n",
       "35     4.0  10.0   54.0         1.0          71.0  ...            730.0   \n",
       "36     3.0  14.0   81.0         1.0          63.0  ...              NaN   \n",
       "37     5.0  12.0   75.0         2.0          55.0  ...            702.0   \n",
       "38     5.0  13.0   68.0         1.0          65.0  ...              NaN   \n",
       "39     5.0  11.0   60.0         1.0          64.0  ...              NaN   \n",
       "40     5.0  12.0   85.0         1.0          73.0  ...            830.0   \n",
       "41     4.0  11.0   59.0         2.0          88.0  ...              NaN   \n",
       "42     5.0  12.0   83.0         2.0          69.0  ...              NaN   \n",
       "43     5.0  12.0   60.0         1.0          81.0  ...            861.0   \n",
       "44     5.0  13.0   50.0         2.0          90.0  ...              NaN   \n",
       "45     5.0  10.0   58.0         2.0          95.0  ...              NaN   \n",
       "46     5.0  14.0   56.0         1.0          61.0  ...            864.0   \n",
       "47     3.0  11.0   57.0         2.0          93.0  ...            798.0   \n",
       "48     5.0  13.0   79.0         1.0          71.0  ...            960.0   \n",
       "49     5.0  10.0   58.0         1.0          70.0  ...              NaN   \n",
       "50     4.0  11.0   46.0         2.0          85.0  ...              NaN   \n",
       "51     5.0  14.0   33.0         1.0          63.0  ...            900.0   \n",
       "52     5.0  11.0   33.0         2.0         110.0  ...              NaN   \n",
       "53     5.0  13.0   60.0         2.0          82.0  ...            770.0   \n",
       "\n",
       "    Suess_C3 _Amp_p2  Suess_C4_Lat_p2  Suess_C4_Amp_p2  Suess_P3_Lat_p2  \\\n",
       "33               NaN              NaN              NaN              NaN   \n",
       "34             368.0            819.0           -210.0            816.0   \n",
       "35             374.0            716.0          -1250.0            720.0   \n",
       "36               NaN              NaN              NaN              NaN   \n",
       "37            1999.0            703.0            870.0            701.0   \n",
       "38               NaN              NaN              NaN              NaN   \n",
       "39               NaN              NaN              NaN              NaN   \n",
       "40            4307.0            821.0           1268.0            828.0   \n",
       "41               NaN              NaN              NaN              NaN   \n",
       "42               NaN              NaN              NaN              NaN   \n",
       "43            1768.0            861.0           2152.0            864.0   \n",
       "44               NaN              NaN              NaN              NaN   \n",
       "45               NaN              NaN              NaN              NaN   \n",
       "46            4827.0            863.0           3970.0            863.0   \n",
       "47             416.0            802.0           1583.0            794.0   \n",
       "48            5356.0            949.0           6713.0            950.0   \n",
       "49               NaN              NaN              NaN              NaN   \n",
       "50               NaN              NaN              NaN              NaN   \n",
       "51          -34113.0            901.0         -42381.0            891.0   \n",
       "52               NaN              NaN              NaN              NaN   \n",
       "53         -135565.0            776.0        -129035.0            767.0   \n",
       "\n",
       "    Suess_P3_Amp_p2  Suess_P4_Lat_P2  Suess_P4_Amp_p2  Unnamed: 230  Bemerkung  \n",
       "33              NaN              NaN              NaN           NaN        NaN  \n",
       "34             78.0            818.0            579.0           NaN        NaN  \n",
       "35            530.0            710.0            124.0           NaN        NaN  \n",
       "36              NaN              NaN              NaN           NaN        NaN  \n",
       "37            676.0            703.0           -839.0           NaN        NaN  \n",
       "38              NaN              NaN              NaN           NaN        NaN  \n",
       "39              NaN              NaN              NaN           NaN        NaN  \n",
       "40           4768.0            823.0           2999.0           NaN        NaN  \n",
       "41              NaN              NaN              NaN           NaN        NaN  \n",
       "42              NaN              NaN              NaN           NaN        NaN  \n",
       "43           1076.0            864.0        1307000.0           NaN        NaN  \n",
       "44              NaN              NaN              NaN           NaN        NaN  \n",
       "45              NaN              NaN              NaN           NaN        NaN  \n",
       "46           4313.0            863.0           4884.0           NaN        NaN  \n",
       "47            833.0           1137.0           5624.0           NaN        NaN  \n",
       "48           2999.0            948.0           3285.0           NaN        NaN  \n",
       "49              NaN              NaN              NaN           NaN        NaN  \n",
       "50              NaN              NaN              NaN           NaN        NaN  \n",
       "51         -58612.0            898.0         -17253.0           NaN        NaN  \n",
       "52              NaN              NaN              NaN           NaN        NaN  \n",
       "53        -118677.0            766.0        -117276.0           NaN        NaN  \n",
       "\n",
       "[21 rows x 232 columns]"
      ]
     },
     "execution_count": 6,
     "metadata": {},
     "output_type": "execute_result"
    }
   ],
   "source": [
    "gesunde"
   ]
  },
  {
   "cell_type": "markdown",
   "id": "5a3c829c",
   "metadata": {},
   "source": [
    "# Hypothese 1: Patienten weisen unterschiedliche Latenzen für Stimuli auf\n",
    "# Fazit: Keine signifikanten unterschiede in Latenzen"
   ]
  },
  {
   "cell_type": "code",
   "execution_count": 15,
   "id": "1352c80f",
   "metadata": {},
   "outputs": [],
   "source": [
    "from scipy import stats"
   ]
  },
  {
   "cell_type": "markdown",
   "id": "8f1eba06",
   "metadata": {},
   "source": [
    "## Tests fuer Position Cz - Suess\n",
    "Fazit: Keine Signifikanten Unterschiede in Latenzen zwischen Gesunden und Patienten"
   ]
  },
  {
   "cell_type": "code",
   "execution_count": 16,
   "id": "f9715381",
   "metadata": {},
   "outputs": [
    {
     "name": "stdout",
     "output_type": "stream",
     "text": [
      "16 Messungen vorhanden fuer patienten_cz_sues_p1\n",
      "16 Messungen vorhanden fuer patienten_cz_sues_n1\n",
      "16 Messungen vorhanden fuer patienten_cz_sues_p2\n",
      "10 Messungen vorhanden fuer gesunde_cz_sues_p1\n",
      "10 Messungen vorhanden fuer gesunde_cz_sues_n1\n",
      "10 Messungen vorhanden fuer gesunde_cz_sues_p2\n"
     ]
    }
   ],
   "source": [
    "patienten_cz_sues_p1 = patienten[[\"Suess_Cz_Lat_P1\", \"Patientennummer\"]].dropna() # dropna() wirft leere Zeilen raus\n",
    "patienten_cz_sues_n1 = patienten[[\"Suess_Cz_Lat_N1\", \"Patientennummer\"]].dropna()\n",
    "patienten_cz_sues_p2 = patienten[[\"Suess_Cz_Lat_p2\", \"Patientennummer\"]].dropna()\n",
    "\n",
    "gesunde_cz_sues_p1 = gesunde[[\"Suess_Cz_Lat_P1\", \"Patientennummer\"]].dropna() # dropna() wirft leere Zeilen raus\n",
    "gesunde_cz_sues_n1 = gesunde[[\"Suess_Cz_Lat_N1\", \"Patientennummer\"]].dropna()\n",
    "gesunde_cz_sues_p2 = gesunde[[\"Suess_Cz_Lat_p2\", \"Patientennummer\"]].dropna()\n",
    "\n",
    "print(f\"{len(patienten_cz_sues_p1)} Messungen vorhanden fuer patienten_cz_sues_p1\")\n",
    "print(f\"{len(patienten_cz_sues_n1)} Messungen vorhanden fuer patienten_cz_sues_n1\")\n",
    "print(f\"{len(patienten_cz_sues_p2)} Messungen vorhanden fuer patienten_cz_sues_p2\")\n",
    "\n",
    "print(f\"{len(gesunde_cz_sues_p1)} Messungen vorhanden fuer gesunde_cz_sues_p1\")\n",
    "print(f\"{len(gesunde_cz_sues_n1)} Messungen vorhanden fuer gesunde_cz_sues_n1\")\n",
    "print(f\"{len(gesunde_cz_sues_p2)} Messungen vorhanden fuer gesunde_cz_sues_p2\")\n",
    "\n",
    "patienten_cz_sues_p1.drop(columns=\"Patientennummer\", inplace=True)\n",
    "patienten_cz_sues_n1.drop(columns=\"Patientennummer\", inplace=True)\n",
    "patienten_cz_sues_p2.drop(columns=\"Patientennummer\", inplace=True)\n",
    "gesunde_cz_sues_p1.drop(columns=\"Patientennummer\", inplace=True)\n",
    "gesunde_cz_sues_n1.drop(columns=\"Patientennummer\", inplace=True)\n",
    "gesunde_cz_sues_p2.drop(columns=\"Patientennummer\", inplace=True)"
   ]
  },
  {
   "cell_type": "code",
   "execution_count": 17,
   "id": "397f6c3e",
   "metadata": {},
   "outputs": [
    {
     "name": "stdout",
     "output_type": "stream",
     "text": [
      "T-Test Statistics an der Stelle Cz fuer P1:\n"
     ]
    },
    {
     "data": {
      "text/plain": [
       "Ttest_indResult(statistic=array([0.08740817]), pvalue=array([0.9310723]))"
      ]
     },
     "execution_count": 17,
     "metadata": {},
     "output_type": "execute_result"
    }
   ],
   "source": [
    "array_a = patienten_cz_sues_p1\n",
    "array_b = gesunde_cz_sues_p1\n",
    "\n",
    "result = stats.ttest_ind(array_a, array_b)\n",
    "print(\"T-Test Statistics an der Stelle Cz fuer P1:\")\n",
    "result"
   ]
  },
  {
   "cell_type": "code",
   "execution_count": 18,
   "id": "f512bd92",
   "metadata": {},
   "outputs": [
    {
     "name": "stdout",
     "output_type": "stream",
     "text": [
      "T-Test Statistics an der Stelle Cz fuer N1:\n"
     ]
    },
    {
     "data": {
      "text/plain": [
       "Ttest_indResult(statistic=array([0.13508826]), pvalue=array([0.89366868]))"
      ]
     },
     "execution_count": 18,
     "metadata": {},
     "output_type": "execute_result"
    }
   ],
   "source": [
    "array_a = patienten_cz_sues_n1\n",
    "array_b = gesunde_cz_sues_n1\n",
    "\n",
    "result = stats.ttest_ind(array_a, array_b)\n",
    "print(\"T-Test Statistics an der Stelle Cz fuer N1:\")\n",
    "result"
   ]
  },
  {
   "cell_type": "code",
   "execution_count": 19,
   "id": "e4445a38",
   "metadata": {},
   "outputs": [
    {
     "name": "stdout",
     "output_type": "stream",
     "text": [
      "T-Test Statistics an der Stelle Cz fuer P2:\n"
     ]
    },
    {
     "data": {
      "text/plain": [
       "Ttest_indResult(statistic=array([0.79957867]), pvalue=array([0.43179801]))"
      ]
     },
     "execution_count": 19,
     "metadata": {},
     "output_type": "execute_result"
    }
   ],
   "source": [
    "array_a = patienten_cz_sues_p2\n",
    "array_b = gesunde_cz_sues_p2\n",
    "\n",
    "result = stats.ttest_ind(array_a, array_b)\n",
    "print(\"T-Test Statistics an der Stelle Cz fuer P2:\")\n",
    "result"
   ]
  },
  {
   "cell_type": "markdown",
   "id": "118de2c7",
   "metadata": {},
   "source": [
    "## Tests fuer Position Pz - Suess\n",
    "Fazit: Keine Signifikanten Unterschiede in Latenzen zwischen Gesunden und Patienten"
   ]
  },
  {
   "cell_type": "code",
   "execution_count": 20,
   "id": "7d687aa8",
   "metadata": {},
   "outputs": [
    {
     "name": "stdout",
     "output_type": "stream",
     "text": [
      "16 Messungen vorhanden fuer patienten_pz_sues_p1\n",
      "16 Messungen vorhanden fuer patienten_pz_sues_n1\n",
      "16 Messungen vorhanden fuer patienten_pz_sues_p2\n",
      "10 Messungen vorhanden fuer gesunde_pz_sues_p1\n",
      "10 Messungen vorhanden fuer gesunde_pz_sues_n1\n",
      "10 Messungen vorhanden fuer gesunde_pz_sues_p2\n"
     ]
    }
   ],
   "source": [
    "patienten_pz_sues_p1 = patienten[[\"Suess_Pz_Lat_P1\", \"Patientennummer\"]].dropna() # dropna() wirft leere Zeilen raus\n",
    "patienten_pz_sues_n1 = patienten[[\"Suess_Pz_Lat_N1\", \"Patientennummer\"]].dropna()\n",
    "patienten_pz_sues_p2 = patienten[[\"Suess_Pz_Lat_P2\", \"Patientennummer\"]].dropna()\n",
    "\n",
    "gesunde_pz_sues_p1 = gesunde[[\"Suess_Pz_Lat_P1\", \"Patientennummer\"]].dropna() # dropna() wirft leere Zeilen raus\n",
    "gesunde_pz_sues_n1 = gesunde[[\"Suess_Pz_Lat_N1\", \"Patientennummer\"]].dropna()\n",
    "gesunde_pz_sues_p2 = gesunde[[\"Suess_Pz_Lat_P2\", \"Patientennummer\"]].dropna()\n",
    "\n",
    "print(f\"{len(patienten_pz_sues_p1)} Messungen vorhanden fuer patienten_pz_sues_p1\")\n",
    "print(f\"{len(patienten_pz_sues_n1)} Messungen vorhanden fuer patienten_pz_sues_n1\")\n",
    "print(f\"{len(patienten_pz_sues_p2)} Messungen vorhanden fuer patienten_pz_sues_p2\")\n",
    "\n",
    "print(f\"{len(gesunde_pz_sues_p1)} Messungen vorhanden fuer gesunde_pz_sues_p1\")\n",
    "print(f\"{len(gesunde_pz_sues_n1)} Messungen vorhanden fuer gesunde_pz_sues_n1\")\n",
    "print(f\"{len(gesunde_pz_sues_p2)} Messungen vorhanden fuer gesunde_pz_sues_p2\")\n",
    "\n",
    "patienten_pz_sues_p1.drop(columns=\"Patientennummer\", inplace=True)\n",
    "patienten_pz_sues_n1.drop(columns=\"Patientennummer\", inplace=True)\n",
    "patienten_pz_sues_p2.drop(columns=\"Patientennummer\", inplace=True)\n",
    "gesunde_pz_sues_p1.drop(columns=\"Patientennummer\", inplace=True)\n",
    "gesunde_pz_sues_n1.drop(columns=\"Patientennummer\", inplace=True)\n",
    "gesunde_pz_sues_p2.drop(columns=\"Patientennummer\", inplace=True)"
   ]
  },
  {
   "cell_type": "code",
   "execution_count": 21,
   "id": "48088bd6",
   "metadata": {},
   "outputs": [
    {
     "name": "stdout",
     "output_type": "stream",
     "text": [
      "T-Test Statistics an der Stelle Pz fuer P1:\n"
     ]
    },
    {
     "data": {
      "text/plain": [
       "Ttest_indResult(statistic=array([0.00489944]), pvalue=array([0.99613132]))"
      ]
     },
     "execution_count": 21,
     "metadata": {},
     "output_type": "execute_result"
    }
   ],
   "source": [
    "array_a = patienten_pz_sues_p1\n",
    "array_b = gesunde_pz_sues_p1\n",
    "\n",
    "result = stats.ttest_ind(array_a, array_b)\n",
    "print(\"T-Test Statistics an der Stelle Pz fuer P1:\")\n",
    "result"
   ]
  },
  {
   "cell_type": "code",
   "execution_count": 22,
   "id": "b876de12",
   "metadata": {},
   "outputs": [
    {
     "name": "stdout",
     "output_type": "stream",
     "text": [
      "T-Test Statistics an der Stelle Pz fuer N1:\n"
     ]
    },
    {
     "data": {
      "text/plain": [
       "Ttest_indResult(statistic=array([-0.0349541]), pvalue=array([0.97240544]))"
      ]
     },
     "execution_count": 22,
     "metadata": {},
     "output_type": "execute_result"
    }
   ],
   "source": [
    "array_a = patienten_pz_sues_n1\n",
    "array_b = gesunde_pz_sues_n1\n",
    "\n",
    "result = stats.ttest_ind(array_a, array_b)\n",
    "print(\"T-Test Statistics an der Stelle Pz fuer N1:\")\n",
    "result"
   ]
  },
  {
   "cell_type": "code",
   "execution_count": 23,
   "id": "6cc41ade",
   "metadata": {},
   "outputs": [
    {
     "name": "stdout",
     "output_type": "stream",
     "text": [
      "T-Test Statistics an der Stelle Pz fuer P2:\n"
     ]
    },
    {
     "data": {
      "text/plain": [
       "Ttest_indResult(statistic=array([0.86774174]), pvalue=array([0.3941297]))"
      ]
     },
     "execution_count": 23,
     "metadata": {},
     "output_type": "execute_result"
    }
   ],
   "source": [
    "array_a = patienten_pz_sues_p2\n",
    "array_b = gesunde_pz_sues_p2\n",
    "\n",
    "result = stats.ttest_ind(array_a, array_b)\n",
    "print(\"T-Test Statistics an der Stelle Pz fuer P2:\")\n",
    "result"
   ]
  },
  {
   "cell_type": "markdown",
   "id": "7d69b366",
   "metadata": {},
   "source": [
    "## Tests fuer Position Fz - Suess\n",
    "Fazit: Keine Signifikanten Unterschiede in Latenzen zwischen Gesunden und Patienten"
   ]
  },
  {
   "cell_type": "code",
   "execution_count": 24,
   "id": "c3a5d5e8",
   "metadata": {},
   "outputs": [
    {
     "name": "stdout",
     "output_type": "stream",
     "text": [
      "16 Messungen vorhanden fuer patienten_fz_sues_p1\n",
      "16 Messungen vorhanden fuer patienten_fz_sues_n1\n",
      "16 Messungen vorhanden fuer patienten_fz_sues_p2\n",
      "9 Messungen vorhanden fuer gesunde_fz_sues_p1\n",
      "9 Messungen vorhanden fuer gesunde_fz_sues_n1\n",
      "9 Messungen vorhanden fuer gesunde_fz_sues_p2\n"
     ]
    }
   ],
   "source": [
    "patienten_fz_sues_p1 = patienten[[\"Suess_Fz_Lat_P1\", \"Patientennummer\"]].dropna() # dropna() wirft leere Zeilen raus\n",
    "patienten_fz_sues_n1 = patienten[[\"Suess_Fz_Lat_N1\", \"Patientennummer\"]].dropna()\n",
    "patienten_fz_sues_p2 = patienten[[\"Suess_Fz_Lat_P2\", \"Patientennummer\"]].dropna()\n",
    "\n",
    "gesunde_fz_sues_p1 = gesunde[[\"Suess_Fz_Lat_P1\", \"Patientennummer\"]].dropna() # dropna() wirft leere Zeilen raus\n",
    "gesunde_fz_sues_n1 = gesunde[[\"Suess_Fz_Lat_N1\", \"Patientennummer\"]].dropna()\n",
    "gesunde_fz_sues_p2 = gesunde[[\"Suess_Fz_Lat_P2\", \"Patientennummer\"]].dropna()\n",
    "\n",
    "print(f\"{len(patienten_fz_sues_p1)} Messungen vorhanden fuer patienten_fz_sues_p1\")\n",
    "print(f\"{len(patienten_fz_sues_n1)} Messungen vorhanden fuer patienten_fz_sues_n1\")\n",
    "print(f\"{len(patienten_fz_sues_p2)} Messungen vorhanden fuer patienten_fz_sues_p2\")\n",
    "\n",
    "print(f\"{len(gesunde_fz_sues_p1)} Messungen vorhanden fuer gesunde_fz_sues_p1\")\n",
    "print(f\"{len(gesunde_fz_sues_n1)} Messungen vorhanden fuer gesunde_fz_sues_n1\")\n",
    "print(f\"{len(gesunde_fz_sues_p2)} Messungen vorhanden fuer gesunde_fz_sues_p2\")\n",
    "\n",
    "patienten_fz_sues_p1.drop(columns=\"Patientennummer\", inplace=True)\n",
    "patienten_fz_sues_n1.drop(columns=\"Patientennummer\", inplace=True)\n",
    "patienten_fz_sues_p2.drop(columns=\"Patientennummer\", inplace=True)\n",
    "gesunde_fz_sues_p1.drop(columns=\"Patientennummer\", inplace=True)\n",
    "gesunde_fz_sues_n1.drop(columns=\"Patientennummer\", inplace=True)\n",
    "gesunde_fz_sues_p2.drop(columns=\"Patientennummer\", inplace=True)"
   ]
  },
  {
   "cell_type": "code",
   "execution_count": 25,
   "id": "1af1c8fa",
   "metadata": {},
   "outputs": [
    {
     "name": "stdout",
     "output_type": "stream",
     "text": [
      "T-Test Statistics an der Stelle Fz fuer P1:\n"
     ]
    },
    {
     "data": {
      "text/plain": [
       "Ttest_indResult(statistic=array([-0.21211391]), pvalue=array([0.83388668]))"
      ]
     },
     "execution_count": 25,
     "metadata": {},
     "output_type": "execute_result"
    }
   ],
   "source": [
    "array_a = patienten_fz_sues_p1\n",
    "array_b = gesunde_fz_sues_p1\n",
    "\n",
    "result = stats.ttest_ind(array_a, array_b)\n",
    "print(\"T-Test Statistics an der Stelle Fz fuer P1:\")\n",
    "result"
   ]
  },
  {
   "cell_type": "code",
   "execution_count": 26,
   "id": "9240e83b",
   "metadata": {},
   "outputs": [
    {
     "name": "stdout",
     "output_type": "stream",
     "text": [
      "T-Test Statistics an der Stelle Fz fuer N1:\n"
     ]
    },
    {
     "data": {
      "text/plain": [
       "Ttest_indResult(statistic=array([-0.2776235]), pvalue=array([0.7837816]))"
      ]
     },
     "execution_count": 26,
     "metadata": {},
     "output_type": "execute_result"
    }
   ],
   "source": [
    "array_a = patienten_fz_sues_n1\n",
    "array_b = gesunde_fz_sues_n1\n",
    "\n",
    "result = stats.ttest_ind(array_a, array_b)\n",
    "print(\"T-Test Statistics an der Stelle Fz fuer N1:\")\n",
    "result"
   ]
  },
  {
   "cell_type": "code",
   "execution_count": 27,
   "id": "6b32852d",
   "metadata": {},
   "outputs": [
    {
     "name": "stdout",
     "output_type": "stream",
     "text": [
      "T-Test Statistics an der Stelle Fz fuer P2:\n"
     ]
    },
    {
     "data": {
      "text/plain": [
       "Ttest_indResult(statistic=array([0.43816346]), pvalue=array([0.66535553]))"
      ]
     },
     "execution_count": 27,
     "metadata": {},
     "output_type": "execute_result"
    }
   ],
   "source": [
    "array_a = patienten_fz_sues_p2\n",
    "array_b = gesunde_fz_sues_p2\n",
    "\n",
    "result = stats.ttest_ind(array_a, array_b)\n",
    "print(\"T-Test Statistics an der Stelle Fz fuer P2:\")\n",
    "result"
   ]
  },
  {
   "cell_type": "markdown",
   "id": "abe7fa8c",
   "metadata": {},
   "source": [
    "## Tests fuer Position Cz - Salzig\n",
    "Fazit: Keine Signifikanten Unterschiede in Latenzen zwischen Gesunden und Patienten"
   ]
  },
  {
   "cell_type": "code",
   "execution_count": 28,
   "id": "e820e8eb",
   "metadata": {},
   "outputs": [
    {
     "name": "stdout",
     "output_type": "stream",
     "text": [
      "23 Messungen vorhanden fuer patienten_cz_salz_p1\n",
      "23 Messungen vorhanden fuer patienten_cz_salz_n1\n",
      "23 Messungen vorhanden fuer patienten_cz_salz_p2\n",
      "15 Messungen vorhanden fuer gesunde_cz_salz_p1\n",
      "15 Messungen vorhanden fuer gesunde_cz_salz_n1\n",
      "15 Messungen vorhanden fuer gesunde_cz_salz_p2\n"
     ]
    }
   ],
   "source": [
    "patienten_cz_salz_p1 = patienten[[\"Salz_Cz_Lat_P1\", \"Patientennummer\"]].dropna() # dropna() wirft leere Zeilen raus\n",
    "patienten_cz_salz_n1 = patienten[[\"Salz_Cz_Lat_N1\", \"Patientennummer\"]].dropna()\n",
    "patienten_cz_salz_p2 = patienten[[\"Salz_Cz_Lat_p2\", \"Patientennummer\"]].dropna()\n",
    "\n",
    "gesunde_cz_salz_p1 = gesunde[[\"Salz_Cz_Lat_P1\", \"Patientennummer\"]].dropna() # dropna() wirft leere Zeilen raus\n",
    "gesunde_cz_salz_n1 = gesunde[[\"Salz_Cz_Lat_N1\", \"Patientennummer\"]].dropna()\n",
    "gesunde_cz_salz_p2 = gesunde[[\"Salz_Cz_Lat_p2\", \"Patientennummer\"]].dropna()\n",
    "\n",
    "print(f\"{len(patienten_cz_salz_p1)} Messungen vorhanden fuer patienten_cz_salz_p1\")\n",
    "print(f\"{len(patienten_cz_salz_n1)} Messungen vorhanden fuer patienten_cz_salz_n1\")\n",
    "print(f\"{len(patienten_cz_salz_p2)} Messungen vorhanden fuer patienten_cz_salz_p2\")\n",
    "\n",
    "print(f\"{len(gesunde_cz_salz_p1)} Messungen vorhanden fuer gesunde_cz_salz_p1\")\n",
    "print(f\"{len(gesunde_cz_salz_n1)} Messungen vorhanden fuer gesunde_cz_salz_n1\")\n",
    "print(f\"{len(gesunde_cz_salz_p2)} Messungen vorhanden fuer gesunde_cz_salz_p2\")\n",
    "\n",
    "patienten_cz_salz_p1.drop(columns=\"Patientennummer\", inplace=True)\n",
    "patienten_cz_salz_n1.drop(columns=\"Patientennummer\", inplace=True)\n",
    "patienten_cz_salz_p2.drop(columns=\"Patientennummer\", inplace=True)\n",
    "gesunde_cz_salz_p1.drop(columns=\"Patientennummer\", inplace=True)\n",
    "gesunde_cz_salz_n1.drop(columns=\"Patientennummer\", inplace=True)\n",
    "gesunde_cz_salz_p2.drop(columns=\"Patientennummer\", inplace=True)"
   ]
  },
  {
   "cell_type": "code",
   "execution_count": 29,
   "id": "f6a5146f",
   "metadata": {},
   "outputs": [
    {
     "name": "stdout",
     "output_type": "stream",
     "text": [
      "T-Test Statistics an der Stelle Cz fuer P1:\n"
     ]
    },
    {
     "data": {
      "text/plain": [
       "Ttest_indResult(statistic=array([0.46893328]), pvalue=array([0.6419448]))"
      ]
     },
     "execution_count": 29,
     "metadata": {},
     "output_type": "execute_result"
    }
   ],
   "source": [
    "array_a = patienten_cz_salz_p1\n",
    "array_b = gesunde_cz_salz_p1\n",
    "\n",
    "result = stats.ttest_ind(array_a, array_b)\n",
    "print(\"T-Test Statistics an der Stelle Cz fuer P1:\")\n",
    "result"
   ]
  },
  {
   "cell_type": "code",
   "execution_count": 30,
   "id": "38fbe477",
   "metadata": {},
   "outputs": [
    {
     "name": "stdout",
     "output_type": "stream",
     "text": [
      "T-Test Statistics an der Stelle Cz fuer N1:\n"
     ]
    },
    {
     "data": {
      "text/plain": [
       "Ttest_indResult(statistic=array([0.75290455]), pvalue=array([0.45640283]))"
      ]
     },
     "execution_count": 30,
     "metadata": {},
     "output_type": "execute_result"
    }
   ],
   "source": [
    "array_a = patienten_cz_salz_n1\n",
    "array_b = gesunde_cz_salz_n1\n",
    "\n",
    "result = stats.ttest_ind(array_a, array_b)\n",
    "print(\"T-Test Statistics an der Stelle Cz fuer N1:\")\n",
    "result"
   ]
  },
  {
   "cell_type": "code",
   "execution_count": 31,
   "id": "19f584ed",
   "metadata": {},
   "outputs": [
    {
     "name": "stdout",
     "output_type": "stream",
     "text": [
      "T-Test Statistics an der Stelle Cz fuer P2:\n"
     ]
    },
    {
     "data": {
      "text/plain": [
       "Ttest_indResult(statistic=array([1.14342364]), pvalue=array([0.26040957]))"
      ]
     },
     "execution_count": 31,
     "metadata": {},
     "output_type": "execute_result"
    }
   ],
   "source": [
    "array_a = patienten_cz_salz_p2\n",
    "array_b = gesunde_cz_salz_p2\n",
    "\n",
    "result = stats.ttest_ind(array_a, array_b)\n",
    "print(\"T-Test Statistics an der Stelle Cz fuer P2:\")\n",
    "result"
   ]
  },
  {
   "cell_type": "markdown",
   "id": "ab4554d0",
   "metadata": {},
   "source": [
    "## Tests fuer Position Pz - Salzig\n",
    "Fazit: Keine Signifikanten Unterschiede in Latenzen zwischen Gesunden und Patienten"
   ]
  },
  {
   "cell_type": "code",
   "execution_count": 22,
   "id": "f392d5a2",
   "metadata": {},
   "outputs": [
    {
     "name": "stdout",
     "output_type": "stream",
     "text": [
      "22 Messungen vorhanden fuer patienten_pz_salz_p1\n",
      "22 Messungen vorhanden fuer patienten_pz_salz_n1\n",
      "22 Messungen vorhanden fuer patienten_pz_salz_p2\n",
      "15 Messungen vorhanden fuer gesunde_pz_salz_p1\n",
      "15 Messungen vorhanden fuer gesunde_pz_salz_n1\n",
      "15 Messungen vorhanden fuer gesunde_pz_salz_p2\n"
     ]
    }
   ],
   "source": [
    "patienten_pz_salz_p1 = patienten[[\"Salz_Pz_Lat_P1\", \"Patientennummer\"]].dropna() # dropna() wirft leere Zeilen raus\n",
    "patienten_pz_salz_n1 = patienten[[\"Salz_Pz_Lat_N1\", \"Patientennummer\"]].dropna()\n",
    "patienten_pz_salz_p2 = patienten[[\"Salz_Pz_Lat_P2\", \"Patientennummer\"]].dropna()\n",
    "\n",
    "gesunde_pz_salz_p1 = gesunde[[\"Salz_Pz_Lat_P1\", \"Patientennummer\"]].dropna() # dropna() wirft leere Zeilen raus\n",
    "gesunde_pz_salz_n1 = gesunde[[\"Salz_Pz_Lat_N1\", \"Patientennummer\"]].dropna()\n",
    "gesunde_pz_salz_p2 = gesunde[[\"Salz_Pz_Lat_P2\", \"Patientennummer\"]].dropna()\n",
    "\n",
    "print(f\"{len(patienten_pz_salz_p1)} Messungen vorhanden fuer patienten_pz_salz_p1\")\n",
    "print(f\"{len(patienten_pz_salz_n1)} Messungen vorhanden fuer patienten_pz_salz_n1\")\n",
    "print(f\"{len(patienten_pz_salz_p2)} Messungen vorhanden fuer patienten_pz_salz_p2\")\n",
    "\n",
    "print(f\"{len(gesunde_pz_salz_p1)} Messungen vorhanden fuer gesunde_pz_salz_p1\")\n",
    "print(f\"{len(gesunde_pz_salz_n1)} Messungen vorhanden fuer gesunde_pz_salz_n1\")\n",
    "print(f\"{len(gesunde_pz_salz_p2)} Messungen vorhanden fuer gesunde_pz_salz_p2\")\n",
    "\n",
    "patienten_pz_salz_p1.drop(columns=\"Patientennummer\", inplace=True)\n",
    "patienten_pz_salz_n1.drop(columns=\"Patientennummer\", inplace=True)\n",
    "patienten_pz_salz_p2.drop(columns=\"Patientennummer\", inplace=True)\n",
    "gesunde_pz_salz_p1.drop(columns=\"Patientennummer\", inplace=True)\n",
    "gesunde_pz_salz_n1.drop(columns=\"Patientennummer\", inplace=True)\n",
    "gesunde_pz_salz_p2.drop(columns=\"Patientennummer\", inplace=True)"
   ]
  },
  {
   "cell_type": "code",
   "execution_count": 23,
   "id": "2936e710",
   "metadata": {},
   "outputs": [
    {
     "name": "stdout",
     "output_type": "stream",
     "text": [
      "T-Test Statistics an der Stelle Pz fuer P1:\n"
     ]
    },
    {
     "data": {
      "text/plain": [
       "Ttest_indResult(statistic=array([0.70122063]), pvalue=array([0.48780175]))"
      ]
     },
     "execution_count": 23,
     "metadata": {},
     "output_type": "execute_result"
    }
   ],
   "source": [
    "array_a = patienten_pz_salz_p1\n",
    "array_b = gesunde_pz_salz_p1\n",
    "\n",
    "result = stats.ttest_ind(array_a, array_b)\n",
    "print(\"T-Test Statistics an der Stelle Pz fuer P1:\")\n",
    "result"
   ]
  },
  {
   "cell_type": "code",
   "execution_count": 24,
   "id": "b019ea11",
   "metadata": {},
   "outputs": [
    {
     "name": "stdout",
     "output_type": "stream",
     "text": [
      "T-Test Statistics an der Stelle Pz fuer N1:\n"
     ]
    },
    {
     "data": {
      "text/plain": [
       "Ttest_indResult(statistic=array([1.02062178]), pvalue=array([0.31443689]))"
      ]
     },
     "execution_count": 24,
     "metadata": {},
     "output_type": "execute_result"
    }
   ],
   "source": [
    "array_a = patienten_pz_salz_n1\n",
    "array_b = gesunde_pz_salz_n1\n",
    "\n",
    "result = stats.ttest_ind(array_a, array_b)\n",
    "print(\"T-Test Statistics an der Stelle Pz fuer N1:\")\n",
    "result"
   ]
  },
  {
   "cell_type": "code",
   "execution_count": 25,
   "id": "6a11fe83",
   "metadata": {},
   "outputs": [
    {
     "name": "stdout",
     "output_type": "stream",
     "text": [
      "T-Test Statistics an der Stelle Pz fuer P2:\n"
     ]
    },
    {
     "data": {
      "text/plain": [
       "Ttest_indResult(statistic=array([1.45182281]), pvalue=array([0.15545663]))"
      ]
     },
     "execution_count": 25,
     "metadata": {},
     "output_type": "execute_result"
    }
   ],
   "source": [
    "array_a = patienten_pz_salz_p2\n",
    "array_b = gesunde_pz_salz_p2\n",
    "\n",
    "result = stats.ttest_ind(array_a, array_b)\n",
    "print(\"T-Test Statistics an der Stelle Pz fuer P2:\")\n",
    "result"
   ]
  },
  {
   "cell_type": "markdown",
   "id": "75e34e76",
   "metadata": {},
   "source": [
    "## Tests fuer Position Fz - Salzig\n",
    "Fazit: Keine Signifikanten Unterschiede in Latenzen zwischen Gesunden und Patienten"
   ]
  },
  {
   "cell_type": "code",
   "execution_count": 26,
   "id": "0f4d2be0",
   "metadata": {},
   "outputs": [
    {
     "name": "stdout",
     "output_type": "stream",
     "text": [
      "23 Messungen vorhanden fuer patienten_fz_salz_p1\n",
      "23 Messungen vorhanden fuer patienten_fz_salz_n1\n",
      "22 Messungen vorhanden fuer patienten_fz_salz_p2\n",
      "15 Messungen vorhanden fuer gesunde_fz_salz_p1\n",
      "15 Messungen vorhanden fuer gesunde_fz_salz_n1\n",
      "15 Messungen vorhanden fuer gesunde_fz_salz_p2\n"
     ]
    }
   ],
   "source": [
    "patienten_fz_salz_p1 = patienten[[\"Salz_Fz_Lat_P1\", \"Patientennummer\"]].dropna() # dropna() wirft leere Zeilen raus\n",
    "patienten_fz_salz_n1 = patienten[[\"Salz_Fz_Lat_N1\", \"Patientennummer\"]].dropna()\n",
    "patienten_fz_salz_p2 = patienten[[\"Salz_Fz_Lat_P2\", \"Patientennummer\"]].dropna()\n",
    "\n",
    "gesunde_fz_salz_p1 = gesunde[[\"Salz_Fz_Lat_P1\", \"Patientennummer\"]].dropna() # dropna() wirft leere Zeilen raus\n",
    "gesunde_fz_salz_n1 = gesunde[[\"Salz_Fz_Lat_N1\", \"Patientennummer\"]].dropna()\n",
    "gesunde_fz_salz_p2 = gesunde[[\"Salz_Fz_Lat_P2\", \"Patientennummer\"]].dropna()\n",
    "\n",
    "print(f\"{len(patienten_fz_salz_p1)} Messungen vorhanden fuer patienten_fz_salz_p1\")\n",
    "print(f\"{len(patienten_fz_salz_n1)} Messungen vorhanden fuer patienten_fz_salz_n1\")\n",
    "print(f\"{len(patienten_fz_salz_p2)} Messungen vorhanden fuer patienten_fz_salz_p2\")\n",
    "\n",
    "print(f\"{len(gesunde_fz_salz_p1)} Messungen vorhanden fuer gesunde_fz_salz_p1\")\n",
    "print(f\"{len(gesunde_fz_salz_n1)} Messungen vorhanden fuer gesunde_fz_salz_n1\")\n",
    "print(f\"{len(gesunde_fz_salz_p2)} Messungen vorhanden fuer gesunde_fz_salz_p2\")\n",
    "\n",
    "patienten_fz_salz_p1.drop(columns=\"Patientennummer\", inplace=True)\n",
    "patienten_fz_salz_n1.drop(columns=\"Patientennummer\", inplace=True)\n",
    "patienten_fz_salz_p2.drop(columns=\"Patientennummer\", inplace=True)\n",
    "gesunde_fz_salz_p1.drop(columns=\"Patientennummer\", inplace=True)\n",
    "gesunde_fz_salz_n1.drop(columns=\"Patientennummer\", inplace=True)\n",
    "gesunde_fz_salz_p2.drop(columns=\"Patientennummer\", inplace=True)"
   ]
  },
  {
   "cell_type": "code",
   "execution_count": 27,
   "id": "9b129c08",
   "metadata": {},
   "outputs": [
    {
     "name": "stdout",
     "output_type": "stream",
     "text": [
      "T-Test Statistics an der Stelle Fz fuer P1:\n"
     ]
    },
    {
     "data": {
      "text/plain": [
       "Ttest_indResult(statistic=array([0.69920471]), pvalue=array([0.48891735]))"
      ]
     },
     "execution_count": 27,
     "metadata": {},
     "output_type": "execute_result"
    }
   ],
   "source": [
    "array_a = patienten_fz_salz_p1\n",
    "array_b = gesunde_fz_salz_p1\n",
    "\n",
    "result = stats.ttest_ind(array_a, array_b)\n",
    "print(\"T-Test Statistics an der Stelle Fz fuer P1:\")\n",
    "result"
   ]
  },
  {
   "cell_type": "code",
   "execution_count": 28,
   "id": "a0345aa7",
   "metadata": {},
   "outputs": [
    {
     "name": "stdout",
     "output_type": "stream",
     "text": [
      "T-Test Statistics an der Stelle Fz fuer N1:\n"
     ]
    },
    {
     "data": {
      "text/plain": [
       "Ttest_indResult(statistic=array([1.07507469]), pvalue=array([0.28949411]))"
      ]
     },
     "execution_count": 28,
     "metadata": {},
     "output_type": "execute_result"
    }
   ],
   "source": [
    "array_a = patienten_fz_salz_n1\n",
    "array_b = gesunde_fz_salz_n1\n",
    "\n",
    "result = stats.ttest_ind(array_a, array_b)\n",
    "print(\"T-Test Statistics an der Stelle Fz fuer N1:\")\n",
    "result"
   ]
  },
  {
   "cell_type": "code",
   "execution_count": 29,
   "id": "6f3d4886",
   "metadata": {},
   "outputs": [
    {
     "name": "stdout",
     "output_type": "stream",
     "text": [
      "T-Test Statistics an der Stelle Fz fuer P2:\n"
     ]
    },
    {
     "data": {
      "text/plain": [
       "Ttest_indResult(statistic=array([1.44308583]), pvalue=array([0.15788728]))"
      ]
     },
     "execution_count": 29,
     "metadata": {},
     "output_type": "execute_result"
    }
   ],
   "source": [
    "array_a = patienten_fz_salz_p2\n",
    "array_b = gesunde_fz_salz_p2\n",
    "\n",
    "result = stats.ttest_ind(array_a, array_b)\n",
    "print(\"T-Test Statistics an der Stelle Fz fuer P2:\")\n",
    "result"
   ]
  },
  {
   "cell_type": "markdown",
   "id": "48d25572",
   "metadata": {},
   "source": [
    "## Um etwaige Tendenzen zu erkennen, koennen wir uns noch anschauen wir einige allgemeine Kenngroesen der Daten so aussehen"
   ]
  },
  {
   "cell_type": "code",
   "execution_count": 30,
   "id": "c2005d2b",
   "metadata": {},
   "outputs": [
    {
     "data": {
      "text/html": [
       "<div>\n",
       "<style scoped>\n",
       "    .dataframe tbody tr th:only-of-type {\n",
       "        vertical-align: middle;\n",
       "    }\n",
       "\n",
       "    .dataframe tbody tr th {\n",
       "        vertical-align: top;\n",
       "    }\n",
       "\n",
       "    .dataframe thead th {\n",
       "        text-align: right;\n",
       "    }\n",
       "</style>\n",
       "<table border=\"1\" class=\"dataframe\">\n",
       "  <thead>\n",
       "    <tr style=\"text-align: right;\">\n",
       "      <th></th>\n",
       "      <th>Salz_Cz_Lat_P1</th>\n",
       "      <th>Salz_Cz_Lat_N1</th>\n",
       "      <th>Salz_Cz_Lat_p2</th>\n",
       "      <th>Salz_Pz_Lat_P1</th>\n",
       "      <th>Salz_Pz_Lat_N1</th>\n",
       "      <th>Salz_Pz_Lat_P2</th>\n",
       "      <th>Salz_Fz_Lat_P1</th>\n",
       "      <th>Salz_Fz_Lat_N1</th>\n",
       "      <th>Salz_Fz_Lat_P2</th>\n",
       "    </tr>\n",
       "  </thead>\n",
       "  <tbody>\n",
       "    <tr>\n",
       "      <th>count</th>\n",
       "      <td>21.000000</td>\n",
       "      <td>21.000000</td>\n",
       "      <td>21.000000</td>\n",
       "      <td>21.000000</td>\n",
       "      <td>21.000000</td>\n",
       "      <td>21.000000</td>\n",
       "      <td>21.000000</td>\n",
       "      <td>21.000000</td>\n",
       "      <td>21.000000</td>\n",
       "    </tr>\n",
       "    <tr>\n",
       "      <th>mean</th>\n",
       "      <td>744.428571</td>\n",
       "      <td>794.428571</td>\n",
       "      <td>886.952381</td>\n",
       "      <td>749.000000</td>\n",
       "      <td>799.523810</td>\n",
       "      <td>892.857143</td>\n",
       "      <td>750.142857</td>\n",
       "      <td>806.952381</td>\n",
       "      <td>905.333333</td>\n",
       "    </tr>\n",
       "    <tr>\n",
       "      <th>std</th>\n",
       "      <td>80.164563</td>\n",
       "      <td>92.761830</td>\n",
       "      <td>113.886556</td>\n",
       "      <td>78.848589</td>\n",
       "      <td>89.302082</td>\n",
       "      <td>112.166522</td>\n",
       "      <td>79.048267</td>\n",
       "      <td>92.377744</td>\n",
       "      <td>123.352476</td>\n",
       "    </tr>\n",
       "    <tr>\n",
       "      <th>min</th>\n",
       "      <td>614.000000</td>\n",
       "      <td>642.000000</td>\n",
       "      <td>698.000000</td>\n",
       "      <td>615.000000</td>\n",
       "      <td>642.000000</td>\n",
       "      <td>699.000000</td>\n",
       "      <td>614.000000</td>\n",
       "      <td>646.000000</td>\n",
       "      <td>698.000000</td>\n",
       "    </tr>\n",
       "    <tr>\n",
       "      <th>25%</th>\n",
       "      <td>682.000000</td>\n",
       "      <td>712.000000</td>\n",
       "      <td>814.000000</td>\n",
       "      <td>697.000000</td>\n",
       "      <td>727.000000</td>\n",
       "      <td>828.000000</td>\n",
       "      <td>699.000000</td>\n",
       "      <td>726.000000</td>\n",
       "      <td>826.000000</td>\n",
       "    </tr>\n",
       "    <tr>\n",
       "      <th>50%</th>\n",
       "      <td>719.000000</td>\n",
       "      <td>768.000000</td>\n",
       "      <td>861.000000</td>\n",
       "      <td>765.000000</td>\n",
       "      <td>816.000000</td>\n",
       "      <td>866.000000</td>\n",
       "      <td>761.000000</td>\n",
       "      <td>842.000000</td>\n",
       "      <td>888.000000</td>\n",
       "    </tr>\n",
       "    <tr>\n",
       "      <th>75%</th>\n",
       "      <td>821.000000</td>\n",
       "      <td>884.000000</td>\n",
       "      <td>995.000000</td>\n",
       "      <td>819.000000</td>\n",
       "      <td>879.000000</td>\n",
       "      <td>999.000000</td>\n",
       "      <td>816.000000</td>\n",
       "      <td>882.000000</td>\n",
       "      <td>1002.000000</td>\n",
       "    </tr>\n",
       "    <tr>\n",
       "      <th>max</th>\n",
       "      <td>885.000000</td>\n",
       "      <td>958.000000</td>\n",
       "      <td>1137.000000</td>\n",
       "      <td>888.000000</td>\n",
       "      <td>958.000000</td>\n",
       "      <td>1141.000000</td>\n",
       "      <td>888.000000</td>\n",
       "      <td>958.000000</td>\n",
       "      <td>1151.000000</td>\n",
       "    </tr>\n",
       "  </tbody>\n",
       "</table>\n",
       "</div>"
      ],
      "text/plain": [
       "       Salz_Cz_Lat_P1  Salz_Cz_Lat_N1  Salz_Cz_Lat_p2  Salz_Pz_Lat_P1  \\\n",
       "count       21.000000       21.000000       21.000000       21.000000   \n",
       "mean       744.428571      794.428571      886.952381      749.000000   \n",
       "std         80.164563       92.761830      113.886556       78.848589   \n",
       "min        614.000000      642.000000      698.000000      615.000000   \n",
       "25%        682.000000      712.000000      814.000000      697.000000   \n",
       "50%        719.000000      768.000000      861.000000      765.000000   \n",
       "75%        821.000000      884.000000      995.000000      819.000000   \n",
       "max        885.000000      958.000000     1137.000000      888.000000   \n",
       "\n",
       "       Salz_Pz_Lat_N1  Salz_Pz_Lat_P2  Salz_Fz_Lat_P1  Salz_Fz_Lat_N1  \\\n",
       "count       21.000000       21.000000       21.000000       21.000000   \n",
       "mean       799.523810      892.857143      750.142857      806.952381   \n",
       "std         89.302082      112.166522       79.048267       92.377744   \n",
       "min        642.000000      699.000000      614.000000      646.000000   \n",
       "25%        727.000000      828.000000      699.000000      726.000000   \n",
       "50%        816.000000      866.000000      761.000000      842.000000   \n",
       "75%        879.000000      999.000000      816.000000      882.000000   \n",
       "max        958.000000     1141.000000      888.000000      958.000000   \n",
       "\n",
       "       Salz_Fz_Lat_P2  \n",
       "count       21.000000  \n",
       "mean       905.333333  \n",
       "std        123.352476  \n",
       "min        698.000000  \n",
       "25%        826.000000  \n",
       "50%        888.000000  \n",
       "75%       1002.000000  \n",
       "max       1151.000000  "
      ]
     },
     "execution_count": 30,
     "metadata": {},
     "output_type": "execute_result"
    }
   ],
   "source": [
    "columns = [\"Salz_Cz_Lat_P1\", \"Salz_Cz_Lat_N1\", \"Salz_Cz_Lat_p2\" ,\"Salz_Pz_Lat_P1\", \"Salz_Pz_Lat_N1\", \"Salz_Pz_Lat_P2\", \"Salz_Fz_Lat_P1\", \"Salz_Fz_Lat_N1\", \"Salz_Fz_Lat_P2\"]\n",
    "patienten[columns].dropna().describe()"
   ]
  },
  {
   "cell_type": "code",
   "execution_count": 31,
   "id": "c3f5b7d8",
   "metadata": {},
   "outputs": [
    {
     "data": {
      "text/html": [
       "<div>\n",
       "<style scoped>\n",
       "    .dataframe tbody tr th:only-of-type {\n",
       "        vertical-align: middle;\n",
       "    }\n",
       "\n",
       "    .dataframe tbody tr th {\n",
       "        vertical-align: top;\n",
       "    }\n",
       "\n",
       "    .dataframe thead th {\n",
       "        text-align: right;\n",
       "    }\n",
       "</style>\n",
       "<table border=\"1\" class=\"dataframe\">\n",
       "  <thead>\n",
       "    <tr style=\"text-align: right;\">\n",
       "      <th></th>\n",
       "      <th>Salz_Cz_Lat_P1</th>\n",
       "      <th>Salz_Cz_Lat_N1</th>\n",
       "      <th>Salz_Cz_Lat_p2</th>\n",
       "      <th>Salz_Pz_Lat_P1</th>\n",
       "      <th>Salz_Pz_Lat_N1</th>\n",
       "      <th>Salz_Pz_Lat_P2</th>\n",
       "      <th>Salz_Fz_Lat_P1</th>\n",
       "      <th>Salz_Fz_Lat_N1</th>\n",
       "      <th>Salz_Fz_Lat_P2</th>\n",
       "    </tr>\n",
       "  </thead>\n",
       "  <tbody>\n",
       "    <tr>\n",
       "      <th>count</th>\n",
       "      <td>15.000000</td>\n",
       "      <td>15.000000</td>\n",
       "      <td>15.00000</td>\n",
       "      <td>15.000000</td>\n",
       "      <td>15.000000</td>\n",
       "      <td>15.000000</td>\n",
       "      <td>15.000000</td>\n",
       "      <td>15.000000</td>\n",
       "      <td>15.00000</td>\n",
       "    </tr>\n",
       "    <tr>\n",
       "      <th>mean</th>\n",
       "      <td>729.666667</td>\n",
       "      <td>770.200000</td>\n",
       "      <td>843.40000</td>\n",
       "      <td>730.466667</td>\n",
       "      <td>771.466667</td>\n",
       "      <td>843.000000</td>\n",
       "      <td>729.000000</td>\n",
       "      <td>771.400000</td>\n",
       "      <td>843.80000</td>\n",
       "    </tr>\n",
       "    <tr>\n",
       "      <th>std</th>\n",
       "      <td>88.321383</td>\n",
       "      <td>88.657608</td>\n",
       "      <td>89.34028</td>\n",
       "      <td>88.141013</td>\n",
       "      <td>88.239015</td>\n",
       "      <td>89.315652</td>\n",
       "      <td>89.163574</td>\n",
       "      <td>91.790756</td>\n",
       "      <td>89.53467</td>\n",
       "    </tr>\n",
       "    <tr>\n",
       "      <th>min</th>\n",
       "      <td>634.000000</td>\n",
       "      <td>670.000000</td>\n",
       "      <td>719.00000</td>\n",
       "      <td>634.000000</td>\n",
       "      <td>669.000000</td>\n",
       "      <td>721.000000</td>\n",
       "      <td>631.000000</td>\n",
       "      <td>671.000000</td>\n",
       "      <td>720.00000</td>\n",
       "    </tr>\n",
       "    <tr>\n",
       "      <th>25%</th>\n",
       "      <td>658.000000</td>\n",
       "      <td>691.500000</td>\n",
       "      <td>779.00000</td>\n",
       "      <td>659.500000</td>\n",
       "      <td>691.000000</td>\n",
       "      <td>776.500000</td>\n",
       "      <td>656.500000</td>\n",
       "      <td>690.500000</td>\n",
       "      <td>782.00000</td>\n",
       "    </tr>\n",
       "    <tr>\n",
       "      <th>50%</th>\n",
       "      <td>691.000000</td>\n",
       "      <td>765.000000</td>\n",
       "      <td>847.00000</td>\n",
       "      <td>694.000000</td>\n",
       "      <td>768.000000</td>\n",
       "      <td>845.000000</td>\n",
       "      <td>689.000000</td>\n",
       "      <td>766.000000</td>\n",
       "      <td>843.00000</td>\n",
       "    </tr>\n",
       "    <tr>\n",
       "      <th>75%</th>\n",
       "      <td>778.000000</td>\n",
       "      <td>819.000000</td>\n",
       "      <td>881.00000</td>\n",
       "      <td>779.500000</td>\n",
       "      <td>818.500000</td>\n",
       "      <td>883.000000</td>\n",
       "      <td>777.500000</td>\n",
       "      <td>821.000000</td>\n",
       "      <td>881.50000</td>\n",
       "    </tr>\n",
       "    <tr>\n",
       "      <th>max</th>\n",
       "      <td>916.000000</td>\n",
       "      <td>932.000000</td>\n",
       "      <td>1026.00000</td>\n",
       "      <td>917.000000</td>\n",
       "      <td>932.000000</td>\n",
       "      <td>1028.000000</td>\n",
       "      <td>918.000000</td>\n",
       "      <td>951.000000</td>\n",
       "      <td>1031.00000</td>\n",
       "    </tr>\n",
       "  </tbody>\n",
       "</table>\n",
       "</div>"
      ],
      "text/plain": [
       "       Salz_Cz_Lat_P1  Salz_Cz_Lat_N1  Salz_Cz_Lat_p2  Salz_Pz_Lat_P1  \\\n",
       "count       15.000000       15.000000        15.00000       15.000000   \n",
       "mean       729.666667      770.200000       843.40000      730.466667   \n",
       "std         88.321383       88.657608        89.34028       88.141013   \n",
       "min        634.000000      670.000000       719.00000      634.000000   \n",
       "25%        658.000000      691.500000       779.00000      659.500000   \n",
       "50%        691.000000      765.000000       847.00000      694.000000   \n",
       "75%        778.000000      819.000000       881.00000      779.500000   \n",
       "max        916.000000      932.000000      1026.00000      917.000000   \n",
       "\n",
       "       Salz_Pz_Lat_N1  Salz_Pz_Lat_P2  Salz_Fz_Lat_P1  Salz_Fz_Lat_N1  \\\n",
       "count       15.000000       15.000000       15.000000       15.000000   \n",
       "mean       771.466667      843.000000      729.000000      771.400000   \n",
       "std         88.239015       89.315652       89.163574       91.790756   \n",
       "min        669.000000      721.000000      631.000000      671.000000   \n",
       "25%        691.000000      776.500000      656.500000      690.500000   \n",
       "50%        768.000000      845.000000      689.000000      766.000000   \n",
       "75%        818.500000      883.000000      777.500000      821.000000   \n",
       "max        932.000000     1028.000000      918.000000      951.000000   \n",
       "\n",
       "       Salz_Fz_Lat_P2  \n",
       "count        15.00000  \n",
       "mean        843.80000  \n",
       "std          89.53467  \n",
       "min         720.00000  \n",
       "25%         782.00000  \n",
       "50%         843.00000  \n",
       "75%         881.50000  \n",
       "max        1031.00000  "
      ]
     },
     "execution_count": 31,
     "metadata": {},
     "output_type": "execute_result"
    }
   ],
   "source": [
    "columns = [\"Salz_Cz_Lat_P1\", \"Salz_Cz_Lat_N1\", \"Salz_Cz_Lat_p2\" ,\"Salz_Pz_Lat_P1\", \"Salz_Pz_Lat_N1\", \"Salz_Pz_Lat_P2\", \"Salz_Fz_Lat_P1\", \"Salz_Fz_Lat_N1\", \"Salz_Fz_Lat_P2\"]\n",
    "gesunde[columns].dropna().describe()"
   ]
  },
  {
   "cell_type": "code",
   "execution_count": 32,
   "id": "698d0b48",
   "metadata": {},
   "outputs": [
    {
     "data": {
      "text/html": [
       "<div>\n",
       "<style scoped>\n",
       "    .dataframe tbody tr th:only-of-type {\n",
       "        vertical-align: middle;\n",
       "    }\n",
       "\n",
       "    .dataframe tbody tr th {\n",
       "        vertical-align: top;\n",
       "    }\n",
       "\n",
       "    .dataframe thead th {\n",
       "        text-align: right;\n",
       "    }\n",
       "</style>\n",
       "<table border=\"1\" class=\"dataframe\">\n",
       "  <thead>\n",
       "    <tr style=\"text-align: right;\">\n",
       "      <th></th>\n",
       "      <th>Suess_Cz_Lat_P1</th>\n",
       "      <th>Suess_Cz_Lat_N1</th>\n",
       "      <th>Suess_Cz_Lat_p2</th>\n",
       "      <th>Suess_Pz_Lat_P1</th>\n",
       "      <th>Suess_Pz_Lat_N1</th>\n",
       "      <th>Suess_Pz_Lat_P2</th>\n",
       "      <th>Suess_Fz_Lat_P1</th>\n",
       "      <th>Suess_Fz_Lat_N1</th>\n",
       "      <th>Suess_Fz_Lat_P2</th>\n",
       "    </tr>\n",
       "  </thead>\n",
       "  <tbody>\n",
       "    <tr>\n",
       "      <th>count</th>\n",
       "      <td>16.000000</td>\n",
       "      <td>16.000000</td>\n",
       "      <td>16.000000</td>\n",
       "      <td>16.00000</td>\n",
       "      <td>16.000000</td>\n",
       "      <td>16.000000</td>\n",
       "      <td>16.000000</td>\n",
       "      <td>16.000000</td>\n",
       "      <td>16.00000</td>\n",
       "    </tr>\n",
       "    <tr>\n",
       "      <th>mean</th>\n",
       "      <td>707.937500</td>\n",
       "      <td>763.250000</td>\n",
       "      <td>853.875000</td>\n",
       "      <td>709.75000</td>\n",
       "      <td>759.437500</td>\n",
       "      <td>856.062500</td>\n",
       "      <td>708.625000</td>\n",
       "      <td>765.125000</td>\n",
       "      <td>850.00000</td>\n",
       "    </tr>\n",
       "    <tr>\n",
       "      <th>std</th>\n",
       "      <td>72.350507</td>\n",
       "      <td>72.314591</td>\n",
       "      <td>95.378457</td>\n",
       "      <td>70.45424</td>\n",
       "      <td>71.402118</td>\n",
       "      <td>96.440979</td>\n",
       "      <td>71.157923</td>\n",
       "      <td>72.421797</td>\n",
       "      <td>98.26427</td>\n",
       "    </tr>\n",
       "    <tr>\n",
       "      <th>min</th>\n",
       "      <td>601.000000</td>\n",
       "      <td>657.000000</td>\n",
       "      <td>703.000000</td>\n",
       "      <td>603.00000</td>\n",
       "      <td>656.000000</td>\n",
       "      <td>701.000000</td>\n",
       "      <td>605.000000</td>\n",
       "      <td>656.000000</td>\n",
       "      <td>706.00000</td>\n",
       "    </tr>\n",
       "    <tr>\n",
       "      <th>25%</th>\n",
       "      <td>661.500000</td>\n",
       "      <td>724.000000</td>\n",
       "      <td>802.500000</td>\n",
       "      <td>664.00000</td>\n",
       "      <td>722.750000</td>\n",
       "      <td>802.750000</td>\n",
       "      <td>663.750000</td>\n",
       "      <td>723.500000</td>\n",
       "      <td>788.75000</td>\n",
       "    </tr>\n",
       "    <tr>\n",
       "      <th>50%</th>\n",
       "      <td>693.000000</td>\n",
       "      <td>747.500000</td>\n",
       "      <td>840.500000</td>\n",
       "      <td>690.00000</td>\n",
       "      <td>740.000000</td>\n",
       "      <td>848.000000</td>\n",
       "      <td>692.000000</td>\n",
       "      <td>744.000000</td>\n",
       "      <td>832.50000</td>\n",
       "    </tr>\n",
       "    <tr>\n",
       "      <th>75%</th>\n",
       "      <td>752.750000</td>\n",
       "      <td>832.250000</td>\n",
       "      <td>905.750000</td>\n",
       "      <td>755.75000</td>\n",
       "      <td>827.250000</td>\n",
       "      <td>910.500000</td>\n",
       "      <td>753.000000</td>\n",
       "      <td>832.250000</td>\n",
       "      <td>908.50000</td>\n",
       "    </tr>\n",
       "    <tr>\n",
       "      <th>max</th>\n",
       "      <td>852.000000</td>\n",
       "      <td>884.000000</td>\n",
       "      <td>1017.000000</td>\n",
       "      <td>852.00000</td>\n",
       "      <td>883.000000</td>\n",
       "      <td>1020.000000</td>\n",
       "      <td>850.000000</td>\n",
       "      <td>883.000000</td>\n",
       "      <td>1023.00000</td>\n",
       "    </tr>\n",
       "  </tbody>\n",
       "</table>\n",
       "</div>"
      ],
      "text/plain": [
       "       Suess_Cz_Lat_P1  Suess_Cz_Lat_N1  Suess_Cz_Lat_p2  Suess_Pz_Lat_P1  \\\n",
       "count        16.000000        16.000000        16.000000         16.00000   \n",
       "mean        707.937500       763.250000       853.875000        709.75000   \n",
       "std          72.350507        72.314591        95.378457         70.45424   \n",
       "min         601.000000       657.000000       703.000000        603.00000   \n",
       "25%         661.500000       724.000000       802.500000        664.00000   \n",
       "50%         693.000000       747.500000       840.500000        690.00000   \n",
       "75%         752.750000       832.250000       905.750000        755.75000   \n",
       "max         852.000000       884.000000      1017.000000        852.00000   \n",
       "\n",
       "       Suess_Pz_Lat_N1  Suess_Pz_Lat_P2  Suess_Fz_Lat_P1  Suess_Fz_Lat_N1  \\\n",
       "count        16.000000        16.000000        16.000000        16.000000   \n",
       "mean        759.437500       856.062500       708.625000       765.125000   \n",
       "std          71.402118        96.440979        71.157923        72.421797   \n",
       "min         656.000000       701.000000       605.000000       656.000000   \n",
       "25%         722.750000       802.750000       663.750000       723.500000   \n",
       "50%         740.000000       848.000000       692.000000       744.000000   \n",
       "75%         827.250000       910.500000       753.000000       832.250000   \n",
       "max         883.000000      1020.000000       850.000000       883.000000   \n",
       "\n",
       "       Suess_Fz_Lat_P2  \n",
       "count         16.00000  \n",
       "mean         850.00000  \n",
       "std           98.26427  \n",
       "min          706.00000  \n",
       "25%          788.75000  \n",
       "50%          832.50000  \n",
       "75%          908.50000  \n",
       "max         1023.00000  "
      ]
     },
     "execution_count": 32,
     "metadata": {},
     "output_type": "execute_result"
    }
   ],
   "source": [
    "columns = [\"Salz_Cz_Lat_P1\", \"Salz_Cz_Lat_N1\", \"Salz_Cz_Lat_p2\" ,\"Salz_Pz_Lat_P1\", \"Salz_Pz_Lat_N1\", \"Salz_Pz_Lat_P2\", \"Salz_Fz_Lat_P1\", \"Salz_Fz_Lat_N1\", \"Salz_Fz_Lat_P2\"]\n",
    "columns = [item.replace(\"Salz\", \"Suess\") for item in columns]\n",
    "patienten[columns].dropna().describe()"
   ]
  },
  {
   "cell_type": "code",
   "execution_count": 33,
   "id": "cd33080c",
   "metadata": {},
   "outputs": [
    {
     "data": {
      "text/html": [
       "<div>\n",
       "<style scoped>\n",
       "    .dataframe tbody tr th:only-of-type {\n",
       "        vertical-align: middle;\n",
       "    }\n",
       "\n",
       "    .dataframe tbody tr th {\n",
       "        vertical-align: top;\n",
       "    }\n",
       "\n",
       "    .dataframe thead th {\n",
       "        text-align: right;\n",
       "    }\n",
       "</style>\n",
       "<table border=\"1\" class=\"dataframe\">\n",
       "  <thead>\n",
       "    <tr style=\"text-align: right;\">\n",
       "      <th></th>\n",
       "      <th>Suess_Cz_Lat_P1</th>\n",
       "      <th>Suess_Cz_Lat_N1</th>\n",
       "      <th>Suess_Cz_Lat_p2</th>\n",
       "      <th>Suess_Pz_Lat_P1</th>\n",
       "      <th>Suess_Pz_Lat_N1</th>\n",
       "      <th>Suess_Pz_Lat_P2</th>\n",
       "      <th>Suess_Fz_Lat_P1</th>\n",
       "      <th>Suess_Fz_Lat_N1</th>\n",
       "      <th>Suess_Fz_Lat_P2</th>\n",
       "    </tr>\n",
       "  </thead>\n",
       "  <tbody>\n",
       "    <tr>\n",
       "      <th>count</th>\n",
       "      <td>9.000000</td>\n",
       "      <td>9.000000</td>\n",
       "      <td>9.000000</td>\n",
       "      <td>9.000000</td>\n",
       "      <td>9.000000</td>\n",
       "      <td>9.000000</td>\n",
       "      <td>9.000000</td>\n",
       "      <td>9.000000</td>\n",
       "      <td>9.000000</td>\n",
       "    </tr>\n",
       "    <tr>\n",
       "      <th>mean</th>\n",
       "      <td>714.777778</td>\n",
       "      <td>772.444444</td>\n",
       "      <td>836.111111</td>\n",
       "      <td>718.666667</td>\n",
       "      <td>773.222222</td>\n",
       "      <td>834.777778</td>\n",
       "      <td>715.333333</td>\n",
       "      <td>773.555556</td>\n",
       "      <td>833.444444</td>\n",
       "    </tr>\n",
       "    <tr>\n",
       "      <th>std</th>\n",
       "      <td>85.212643</td>\n",
       "      <td>74.931821</td>\n",
       "      <td>67.138745</td>\n",
       "      <td>84.098157</td>\n",
       "      <td>75.352136</td>\n",
       "      <td>66.069618</td>\n",
       "      <td>84.080319</td>\n",
       "      <td>73.732813</td>\n",
       "      <td>74.409527</td>\n",
       "    </tr>\n",
       "    <tr>\n",
       "      <th>min</th>\n",
       "      <td>593.000000</td>\n",
       "      <td>680.000000</td>\n",
       "      <td>734.000000</td>\n",
       "      <td>601.000000</td>\n",
       "      <td>683.000000</td>\n",
       "      <td>733.000000</td>\n",
       "      <td>593.000000</td>\n",
       "      <td>682.000000</td>\n",
       "      <td>702.000000</td>\n",
       "    </tr>\n",
       "    <tr>\n",
       "      <th>25%</th>\n",
       "      <td>641.000000</td>\n",
       "      <td>694.000000</td>\n",
       "      <td>803.000000</td>\n",
       "      <td>647.000000</td>\n",
       "      <td>692.000000</td>\n",
       "      <td>798.000000</td>\n",
       "      <td>651.000000</td>\n",
       "      <td>696.000000</td>\n",
       "      <td>801.000000</td>\n",
       "    </tr>\n",
       "    <tr>\n",
       "      <th>50%</th>\n",
       "      <td>724.000000</td>\n",
       "      <td>777.000000</td>\n",
       "      <td>828.000000</td>\n",
       "      <td>724.000000</td>\n",
       "      <td>786.000000</td>\n",
       "      <td>828.000000</td>\n",
       "      <td>724.000000</td>\n",
       "      <td>779.000000</td>\n",
       "      <td>828.000000</td>\n",
       "    </tr>\n",
       "    <tr>\n",
       "      <th>75%</th>\n",
       "      <td>761.000000</td>\n",
       "      <td>799.000000</td>\n",
       "      <td>866.000000</td>\n",
       "      <td>760.000000</td>\n",
       "      <td>803.000000</td>\n",
       "      <td>864.000000</td>\n",
       "      <td>761.000000</td>\n",
       "      <td>796.000000</td>\n",
       "      <td>865.000000</td>\n",
       "    </tr>\n",
       "    <tr>\n",
       "      <th>max</th>\n",
       "      <td>856.000000</td>\n",
       "      <td>903.000000</td>\n",
       "      <td>953.000000</td>\n",
       "      <td>856.000000</td>\n",
       "      <td>903.000000</td>\n",
       "      <td>948.000000</td>\n",
       "      <td>854.000000</td>\n",
       "      <td>900.000000</td>\n",
       "      <td>956.000000</td>\n",
       "    </tr>\n",
       "  </tbody>\n",
       "</table>\n",
       "</div>"
      ],
      "text/plain": [
       "       Suess_Cz_Lat_P1  Suess_Cz_Lat_N1  Suess_Cz_Lat_p2  Suess_Pz_Lat_P1  \\\n",
       "count         9.000000         9.000000         9.000000         9.000000   \n",
       "mean        714.777778       772.444444       836.111111       718.666667   \n",
       "std          85.212643        74.931821        67.138745        84.098157   \n",
       "min         593.000000       680.000000       734.000000       601.000000   \n",
       "25%         641.000000       694.000000       803.000000       647.000000   \n",
       "50%         724.000000       777.000000       828.000000       724.000000   \n",
       "75%         761.000000       799.000000       866.000000       760.000000   \n",
       "max         856.000000       903.000000       953.000000       856.000000   \n",
       "\n",
       "       Suess_Pz_Lat_N1  Suess_Pz_Lat_P2  Suess_Fz_Lat_P1  Suess_Fz_Lat_N1  \\\n",
       "count         9.000000         9.000000         9.000000         9.000000   \n",
       "mean        773.222222       834.777778       715.333333       773.555556   \n",
       "std          75.352136        66.069618        84.080319        73.732813   \n",
       "min         683.000000       733.000000       593.000000       682.000000   \n",
       "25%         692.000000       798.000000       651.000000       696.000000   \n",
       "50%         786.000000       828.000000       724.000000       779.000000   \n",
       "75%         803.000000       864.000000       761.000000       796.000000   \n",
       "max         903.000000       948.000000       854.000000       900.000000   \n",
       "\n",
       "       Suess_Fz_Lat_P2  \n",
       "count         9.000000  \n",
       "mean        833.444444  \n",
       "std          74.409527  \n",
       "min         702.000000  \n",
       "25%         801.000000  \n",
       "50%         828.000000  \n",
       "75%         865.000000  \n",
       "max         956.000000  "
      ]
     },
     "execution_count": 33,
     "metadata": {},
     "output_type": "execute_result"
    }
   ],
   "source": [
    "columns = [\"Salz_Cz_Lat_P1\", \"Salz_Cz_Lat_N1\", \"Salz_Cz_Lat_p2\" ,\"Salz_Pz_Lat_P1\", \"Salz_Pz_Lat_N1\", \"Salz_Pz_Lat_P2\", \"Salz_Fz_Lat_P1\", \"Salz_Fz_Lat_N1\", \"Salz_Fz_Lat_P2\"]\n",
    "columns = [item.replace(\"Salz\", \"Suess\") for item in columns]\n",
    "gesunde[columns].dropna().describe()"
   ]
  },
  {
   "cell_type": "markdown",
   "id": "fb20abc0",
   "metadata": {},
   "source": [
    "# Hypothese 2: Patienten weisen unterschiedliche Amplituden für Stimuli auf"
   ]
  },
  {
   "cell_type": "code",
   "execution_count": 5,
   "id": "2a8832e4",
   "metadata": {},
   "outputs": [],
   "source": [
    "from scipy import stats"
   ]
  },
  {
   "cell_type": "code",
   "execution_count": 6,
   "id": "50b4fa8a",
   "metadata": {},
   "outputs": [
    {
     "data": {
      "text/html": [
       "<div>\n",
       "<style scoped>\n",
       "    .dataframe tbody tr th:only-of-type {\n",
       "        vertical-align: middle;\n",
       "    }\n",
       "\n",
       "    .dataframe tbody tr th {\n",
       "        vertical-align: top;\n",
       "    }\n",
       "\n",
       "    .dataframe thead th {\n",
       "        text-align: right;\n",
       "    }\n",
       "</style>\n",
       "<table border=\"1\" class=\"dataframe\">\n",
       "  <thead>\n",
       "    <tr style=\"text-align: right;\">\n",
       "      <th></th>\n",
       "      <th>Suess_Fz_Amp_P1</th>\n",
       "      <th>Suess_Fz_Amp_N1</th>\n",
       "      <th>Suess_Fz_Amp_p2</th>\n",
       "    </tr>\n",
       "  </thead>\n",
       "  <tbody>\n",
       "    <tr>\n",
       "      <th>0</th>\n",
       "      <td>4029.0</td>\n",
       "      <td>-32.0</td>\n",
       "      <td>6623.0</td>\n",
       "    </tr>\n",
       "    <tr>\n",
       "      <th>1</th>\n",
       "      <td>1558.0</td>\n",
       "      <td>-3617.0</td>\n",
       "      <td>3852.0</td>\n",
       "    </tr>\n",
       "    <tr>\n",
       "      <th>2</th>\n",
       "      <td>-866.0</td>\n",
       "      <td>-9133.0</td>\n",
       "      <td>-1466.0</td>\n",
       "    </tr>\n",
       "    <tr>\n",
       "      <th>3</th>\n",
       "      <td>-3000.0</td>\n",
       "      <td>-4324.0</td>\n",
       "      <td>4295.0</td>\n",
       "    </tr>\n",
       "    <tr>\n",
       "      <th>5</th>\n",
       "      <td>356.0</td>\n",
       "      <td>-4999.0</td>\n",
       "      <td>7498.0</td>\n",
       "    </tr>\n",
       "    <tr>\n",
       "      <th>7</th>\n",
       "      <td>-1930.0</td>\n",
       "      <td>-3413.0</td>\n",
       "      <td>724.0</td>\n",
       "    </tr>\n",
       "    <tr>\n",
       "      <th>13</th>\n",
       "      <td>-10928.0</td>\n",
       "      <td>-15643.0</td>\n",
       "      <td>2784.0</td>\n",
       "    </tr>\n",
       "    <tr>\n",
       "      <th>14</th>\n",
       "      <td>2159.0</td>\n",
       "      <td>-279.0</td>\n",
       "      <td>2800.0</td>\n",
       "    </tr>\n",
       "    <tr>\n",
       "      <th>16</th>\n",
       "      <td>948.0</td>\n",
       "      <td>-3051.0</td>\n",
       "      <td>1153.0</td>\n",
       "    </tr>\n",
       "    <tr>\n",
       "      <th>17</th>\n",
       "      <td>-1592.0</td>\n",
       "      <td>-1274.0</td>\n",
       "      <td>-7728.0</td>\n",
       "    </tr>\n",
       "    <tr>\n",
       "      <th>22</th>\n",
       "      <td>-9396.0</td>\n",
       "      <td>-17395.0</td>\n",
       "      <td>-16681.0</td>\n",
       "    </tr>\n",
       "    <tr>\n",
       "      <th>23</th>\n",
       "      <td>-14031.0</td>\n",
       "      <td>-17349.0</td>\n",
       "      <td>-10838.0</td>\n",
       "    </tr>\n",
       "    <tr>\n",
       "      <th>24</th>\n",
       "      <td>-75000999.0</td>\n",
       "      <td>-79904999.0</td>\n",
       "      <td>-75918999.0</td>\n",
       "    </tr>\n",
       "    <tr>\n",
       "      <th>25</th>\n",
       "      <td>-73572.0</td>\n",
       "      <td>-75803.0</td>\n",
       "      <td>-70210.0</td>\n",
       "    </tr>\n",
       "    <tr>\n",
       "      <th>26</th>\n",
       "      <td>-72399.0</td>\n",
       "      <td>-75803.0</td>\n",
       "      <td>-70171.0</td>\n",
       "    </tr>\n",
       "    <tr>\n",
       "      <th>27</th>\n",
       "      <td>-131959.0</td>\n",
       "      <td>-134044.0</td>\n",
       "      <td>-130404.0</td>\n",
       "    </tr>\n",
       "    <tr>\n",
       "      <th>34</th>\n",
       "      <td>-2762.0</td>\n",
       "      <td>-7499.0</td>\n",
       "      <td>-2289.0</td>\n",
       "    </tr>\n",
       "    <tr>\n",
       "      <th>37</th>\n",
       "      <td>2934.0</td>\n",
       "      <td>-5580.0</td>\n",
       "      <td>2193.0</td>\n",
       "    </tr>\n",
       "    <tr>\n",
       "      <th>40</th>\n",
       "      <td>-1846.0</td>\n",
       "      <td>-4615.0</td>\n",
       "      <td>76.0</td>\n",
       "    </tr>\n",
       "    <tr>\n",
       "      <th>43</th>\n",
       "      <td>-654.0</td>\n",
       "      <td>-5076.0</td>\n",
       "      <td>3268.0</td>\n",
       "    </tr>\n",
       "    <tr>\n",
       "      <th>46</th>\n",
       "      <td>2142.0</td>\n",
       "      <td>-600.0</td>\n",
       "      <td>4913.0</td>\n",
       "    </tr>\n",
       "    <tr>\n",
       "      <th>47</th>\n",
       "      <td>1208.0</td>\n",
       "      <td>-3166.0</td>\n",
       "      <td>-666.0</td>\n",
       "    </tr>\n",
       "    <tr>\n",
       "      <th>48</th>\n",
       "      <td>3927.0</td>\n",
       "      <td>-1857.0</td>\n",
       "      <td>3213.0</td>\n",
       "    </tr>\n",
       "    <tr>\n",
       "      <th>51</th>\n",
       "      <td>-3045.0</td>\n",
       "      <td>-5928.0</td>\n",
       "      <td>-2928.0</td>\n",
       "    </tr>\n",
       "    <tr>\n",
       "      <th>53</th>\n",
       "      <td>-128226.0</td>\n",
       "      <td>-131189.0</td>\n",
       "      <td>-126068.0</td>\n",
       "    </tr>\n",
       "  </tbody>\n",
       "</table>\n",
       "</div>"
      ],
      "text/plain": [
       "    Suess_Fz_Amp_P1  Suess_Fz_Amp_N1  Suess_Fz_Amp_p2\n",
       "0            4029.0            -32.0           6623.0\n",
       "1            1558.0          -3617.0           3852.0\n",
       "2            -866.0          -9133.0          -1466.0\n",
       "3           -3000.0          -4324.0           4295.0\n",
       "5             356.0          -4999.0           7498.0\n",
       "7           -1930.0          -3413.0            724.0\n",
       "13         -10928.0         -15643.0           2784.0\n",
       "14           2159.0           -279.0           2800.0\n",
       "16            948.0          -3051.0           1153.0\n",
       "17          -1592.0          -1274.0          -7728.0\n",
       "22          -9396.0         -17395.0         -16681.0\n",
       "23         -14031.0         -17349.0         -10838.0\n",
       "24      -75000999.0      -79904999.0      -75918999.0\n",
       "25         -73572.0         -75803.0         -70210.0\n",
       "26         -72399.0         -75803.0         -70171.0\n",
       "27        -131959.0        -134044.0        -130404.0\n",
       "34          -2762.0          -7499.0          -2289.0\n",
       "37           2934.0          -5580.0           2193.0\n",
       "40          -1846.0          -4615.0             76.0\n",
       "43           -654.0          -5076.0           3268.0\n",
       "46           2142.0           -600.0           4913.0\n",
       "47           1208.0          -3166.0           -666.0\n",
       "48           3927.0          -1857.0           3213.0\n",
       "51          -3045.0          -5928.0          -2928.0\n",
       "53        -128226.0        -131189.0        -126068.0"
      ]
     },
     "execution_count": 6,
     "metadata": {},
     "output_type": "execute_result"
    }
   ],
   "source": [
    "# Wir sehen: Amplitudenmessungen liegen Groessenordnungen auseinander fuer unterschiedliche Probanden - schlecht\n",
    "df[['Suess_Fz_Amp_P1', 'Suess_Fz_Amp_N1', 'Suess_Fz_Amp_p2']].dropna()"
   ]
  },
  {
   "cell_type": "code",
   "execution_count": 7,
   "id": "e1a48d18",
   "metadata": {},
   "outputs": [
    {
     "data": {
      "text/html": [
       "<div>\n",
       "<style scoped>\n",
       "    .dataframe tbody tr th:only-of-type {\n",
       "        vertical-align: middle;\n",
       "    }\n",
       "\n",
       "    .dataframe tbody tr th {\n",
       "        vertical-align: top;\n",
       "    }\n",
       "\n",
       "    .dataframe thead th {\n",
       "        text-align: right;\n",
       "    }\n",
       "</style>\n",
       "<table border=\"1\" class=\"dataframe\">\n",
       "  <thead>\n",
       "    <tr style=\"text-align: right;\">\n",
       "      <th></th>\n",
       "      <th>Suess_Fz_Amp_P1</th>\n",
       "      <th>Suess_Fz_Amp_N1</th>\n",
       "      <th>Suess_Fz_Amp_p2</th>\n",
       "    </tr>\n",
       "  </thead>\n",
       "  <tbody>\n",
       "    <tr>\n",
       "      <th>0</th>\n",
       "      <td>4029.0</td>\n",
       "      <td>-32.0</td>\n",
       "      <td>6623.0</td>\n",
       "    </tr>\n",
       "    <tr>\n",
       "      <th>1</th>\n",
       "      <td>1558.0</td>\n",
       "      <td>-3617.0</td>\n",
       "      <td>3852.0</td>\n",
       "    </tr>\n",
       "    <tr>\n",
       "      <th>2</th>\n",
       "      <td>-866.0</td>\n",
       "      <td>-9133.0</td>\n",
       "      <td>-1466.0</td>\n",
       "    </tr>\n",
       "    <tr>\n",
       "      <th>3</th>\n",
       "      <td>-3000.0</td>\n",
       "      <td>-4324.0</td>\n",
       "      <td>4295.0</td>\n",
       "    </tr>\n",
       "    <tr>\n",
       "      <th>5</th>\n",
       "      <td>356.0</td>\n",
       "      <td>-4999.0</td>\n",
       "      <td>7498.0</td>\n",
       "    </tr>\n",
       "    <tr>\n",
       "      <th>7</th>\n",
       "      <td>-1930.0</td>\n",
       "      <td>-3413.0</td>\n",
       "      <td>724.0</td>\n",
       "    </tr>\n",
       "    <tr>\n",
       "      <th>13</th>\n",
       "      <td>-10928.0</td>\n",
       "      <td>-15643.0</td>\n",
       "      <td>2784.0</td>\n",
       "    </tr>\n",
       "    <tr>\n",
       "      <th>14</th>\n",
       "      <td>2159.0</td>\n",
       "      <td>-279.0</td>\n",
       "      <td>2800.0</td>\n",
       "    </tr>\n",
       "    <tr>\n",
       "      <th>16</th>\n",
       "      <td>948.0</td>\n",
       "      <td>-3051.0</td>\n",
       "      <td>1153.0</td>\n",
       "    </tr>\n",
       "    <tr>\n",
       "      <th>17</th>\n",
       "      <td>-1592.0</td>\n",
       "      <td>-1274.0</td>\n",
       "      <td>-7728.0</td>\n",
       "    </tr>\n",
       "    <tr>\n",
       "      <th>22</th>\n",
       "      <td>-9396.0</td>\n",
       "      <td>-17395.0</td>\n",
       "      <td>-16681.0</td>\n",
       "    </tr>\n",
       "    <tr>\n",
       "      <th>23</th>\n",
       "      <td>-14031.0</td>\n",
       "      <td>-17349.0</td>\n",
       "      <td>-10838.0</td>\n",
       "    </tr>\n",
       "    <tr>\n",
       "      <th>24</th>\n",
       "      <td>-75000999.0</td>\n",
       "      <td>-79904999.0</td>\n",
       "      <td>-75918999.0</td>\n",
       "    </tr>\n",
       "    <tr>\n",
       "      <th>25</th>\n",
       "      <td>-73572.0</td>\n",
       "      <td>-75803.0</td>\n",
       "      <td>-70210.0</td>\n",
       "    </tr>\n",
       "    <tr>\n",
       "      <th>26</th>\n",
       "      <td>-72399.0</td>\n",
       "      <td>-75803.0</td>\n",
       "      <td>-70171.0</td>\n",
       "    </tr>\n",
       "    <tr>\n",
       "      <th>27</th>\n",
       "      <td>-131959.0</td>\n",
       "      <td>-134044.0</td>\n",
       "      <td>-130404.0</td>\n",
       "    </tr>\n",
       "  </tbody>\n",
       "</table>\n",
       "</div>"
      ],
      "text/plain": [
       "    Suess_Fz_Amp_P1  Suess_Fz_Amp_N1  Suess_Fz_Amp_p2\n",
       "0            4029.0            -32.0           6623.0\n",
       "1            1558.0          -3617.0           3852.0\n",
       "2            -866.0          -9133.0          -1466.0\n",
       "3           -3000.0          -4324.0           4295.0\n",
       "5             356.0          -4999.0           7498.0\n",
       "7           -1930.0          -3413.0            724.0\n",
       "13         -10928.0         -15643.0           2784.0\n",
       "14           2159.0           -279.0           2800.0\n",
       "16            948.0          -3051.0           1153.0\n",
       "17          -1592.0          -1274.0          -7728.0\n",
       "22          -9396.0         -17395.0         -16681.0\n",
       "23         -14031.0         -17349.0         -10838.0\n",
       "24      -75000999.0      -79904999.0      -75918999.0\n",
       "25         -73572.0         -75803.0         -70210.0\n",
       "26         -72399.0         -75803.0         -70171.0\n",
       "27        -131959.0        -134044.0        -130404.0"
      ]
     },
     "execution_count": 7,
     "metadata": {},
     "output_type": "execute_result"
    }
   ],
   "source": [
    "patienten[['Suess_Fz_Amp_P1', 'Suess_Fz_Amp_N1', 'Suess_Fz_Amp_p2']].dropna()"
   ]
  },
  {
   "cell_type": "code",
   "execution_count": 15,
   "id": "2e714294",
   "metadata": {},
   "outputs": [
    {
     "data": {
      "text/html": [
       "<div>\n",
       "<style scoped>\n",
       "    .dataframe tbody tr th:only-of-type {\n",
       "        vertical-align: middle;\n",
       "    }\n",
       "\n",
       "    .dataframe tbody tr th {\n",
       "        vertical-align: top;\n",
       "    }\n",
       "\n",
       "    .dataframe thead th {\n",
       "        text-align: right;\n",
       "    }\n",
       "</style>\n",
       "<table border=\"1\" class=\"dataframe\">\n",
       "  <thead>\n",
       "    <tr style=\"text-align: right;\">\n",
       "      <th></th>\n",
       "      <th>Suess_Fz_Amp_P1</th>\n",
       "      <th>Suess_Fz_Amp_N1</th>\n",
       "      <th>Suess_Fz_Amp_p2</th>\n",
       "    </tr>\n",
       "  </thead>\n",
       "  <tbody>\n",
       "    <tr>\n",
       "      <th>34</th>\n",
       "      <td>-2762.0</td>\n",
       "      <td>-7499.0</td>\n",
       "      <td>-2289.0</td>\n",
       "    </tr>\n",
       "    <tr>\n",
       "      <th>37</th>\n",
       "      <td>2934.0</td>\n",
       "      <td>-5580.0</td>\n",
       "      <td>2193.0</td>\n",
       "    </tr>\n",
       "    <tr>\n",
       "      <th>40</th>\n",
       "      <td>-1846.0</td>\n",
       "      <td>-4615.0</td>\n",
       "      <td>76.0</td>\n",
       "    </tr>\n",
       "    <tr>\n",
       "      <th>43</th>\n",
       "      <td>-654.0</td>\n",
       "      <td>-5076.0</td>\n",
       "      <td>3268.0</td>\n",
       "    </tr>\n",
       "    <tr>\n",
       "      <th>46</th>\n",
       "      <td>2142.0</td>\n",
       "      <td>-600.0</td>\n",
       "      <td>4913.0</td>\n",
       "    </tr>\n",
       "    <tr>\n",
       "      <th>47</th>\n",
       "      <td>1208.0</td>\n",
       "      <td>-3166.0</td>\n",
       "      <td>-666.0</td>\n",
       "    </tr>\n",
       "    <tr>\n",
       "      <th>48</th>\n",
       "      <td>3927.0</td>\n",
       "      <td>-1857.0</td>\n",
       "      <td>3213.0</td>\n",
       "    </tr>\n",
       "    <tr>\n",
       "      <th>51</th>\n",
       "      <td>-3045.0</td>\n",
       "      <td>-5928.0</td>\n",
       "      <td>-2928.0</td>\n",
       "    </tr>\n",
       "    <tr>\n",
       "      <th>53</th>\n",
       "      <td>-128226.0</td>\n",
       "      <td>-131189.0</td>\n",
       "      <td>-126068.0</td>\n",
       "    </tr>\n",
       "  </tbody>\n",
       "</table>\n",
       "</div>"
      ],
      "text/plain": [
       "    Suess_Fz_Amp_P1  Suess_Fz_Amp_N1  Suess_Fz_Amp_p2\n",
       "34          -2762.0          -7499.0          -2289.0\n",
       "37           2934.0          -5580.0           2193.0\n",
       "40          -1846.0          -4615.0             76.0\n",
       "43           -654.0          -5076.0           3268.0\n",
       "46           2142.0           -600.0           4913.0\n",
       "47           1208.0          -3166.0           -666.0\n",
       "48           3927.0          -1857.0           3213.0\n",
       "51          -3045.0          -5928.0          -2928.0\n",
       "53        -128226.0        -131189.0        -126068.0"
      ]
     },
     "execution_count": 15,
     "metadata": {},
     "output_type": "execute_result"
    }
   ],
   "source": [
    "gesunde[['Suess_Fz_Amp_P1', 'Suess_Fz_Amp_N1', 'Suess_Fz_Amp_p2']].dropna()"
   ]
  },
  {
   "cell_type": "markdown",
   "id": "2319baee",
   "metadata": {},
   "source": [
    "### Zwischenbeobachtung: Amplituden der Patienten haben deutlich stärkere Schwankungen / Standardabweichungen"
   ]
  },
  {
   "cell_type": "code",
   "execution_count": 14,
   "id": "4c693423",
   "metadata": {},
   "outputs": [
    {
     "data": {
      "text/plain": [
       "Suess_Fz_Amp_P1    1.874511e+07\n",
       "Suess_Fz_Amp_N1    1.997018e+07\n",
       "Suess_Fz_Amp_p2    1.897516e+07\n",
       "dtype: float64"
      ]
     },
     "execution_count": 14,
     "metadata": {},
     "output_type": "execute_result"
    }
   ],
   "source": [
    "# Wie sieht denn die Standardabweichung aus?\n",
    "patienten[['Suess_Fz_Amp_P1', 'Suess_Fz_Amp_N1', 'Suess_Fz_Amp_p2']].std()"
   ]
  },
  {
   "cell_type": "code",
   "execution_count": 16,
   "id": "1ad6e4ee",
   "metadata": {},
   "outputs": [
    {
     "data": {
      "text/plain": [
       "Suess_Fz_Amp_P1    42894.773530\n",
       "Suess_Fz_Amp_N1    42353.030311\n",
       "Suess_Fz_Amp_p2    42430.355208\n",
       "dtype: float64"
      ]
     },
     "execution_count": 16,
     "metadata": {},
     "output_type": "execute_result"
    }
   ],
   "source": [
    "gesunde[['Suess_Fz_Amp_P1', 'Suess_Fz_Amp_N1', 'Suess_Fz_Amp_p2']].std()"
   ]
  },
  {
   "cell_type": "code",
   "execution_count": 17,
   "id": "56856479",
   "metadata": {},
   "outputs": [
    {
     "data": {
      "text/plain": [
       "Suess_Cz_Amp_P1    4.017000e+06\n",
       "Suess_Cz_Amp_N1    3.329845e+07\n",
       "Suess_Cz_Amp_p2    3.082547e+08\n",
       "dtype: float64"
      ]
     },
     "execution_count": 17,
     "metadata": {},
     "output_type": "execute_result"
    }
   ],
   "source": [
    "patienten[['Suess_Cz_Amp_P1', 'Suess_Cz_Amp_N1', 'Suess_Cz_Amp_p2']].std()"
   ]
  },
  {
   "cell_type": "code",
   "execution_count": 18,
   "id": "9bfb49fa",
   "metadata": {},
   "outputs": [
    {
     "data": {
      "text/plain": [
       "Suess_Cz_Amp_P1    39670.260393\n",
       "Suess_Cz_Amp_N1    38730.521129\n",
       "Suess_Cz_Amp_p2    39134.575686\n",
       "dtype: float64"
      ]
     },
     "execution_count": 18,
     "metadata": {},
     "output_type": "execute_result"
    }
   ],
   "source": [
    "gesunde[['Suess_Cz_Amp_P1', 'Suess_Cz_Amp_N1', 'Suess_Cz_Amp_p2']].std()"
   ]
  },
  {
   "cell_type": "code",
   "execution_count": 19,
   "id": "55119e9b",
   "metadata": {},
   "outputs": [
    {
     "data": {
      "text/plain": [
       "Suess_Pz_Amp_P1    4.837415e+08\n",
       "Suess_Pz_Amp_N1    2.719501e+08\n",
       "Suess_Pz_Amp_p2    2.722062e+08\n",
       "dtype: float64"
      ]
     },
     "execution_count": 19,
     "metadata": {},
     "output_type": "execute_result"
    }
   ],
   "source": [
    "patienten[['Suess_Pz_Amp_P1', 'Suess_Pz_Amp_N1', 'Suess_Pz_Amp_p2']].std()"
   ]
  },
  {
   "cell_type": "code",
   "execution_count": 20,
   "id": "b18bbe59",
   "metadata": {},
   "outputs": [
    {
     "data": {
      "text/plain": [
       "Suess_Pz_Amp_P1    35933.799280\n",
       "Suess_Pz_Amp_N1    34905.110859\n",
       "Suess_Pz_Amp_p2    35674.055961\n",
       "dtype: float64"
      ]
     },
     "execution_count": 20,
     "metadata": {},
     "output_type": "execute_result"
    }
   ],
   "source": [
    "gesunde[['Suess_Pz_Amp_P1', 'Suess_Pz_Amp_N1', 'Suess_Pz_Amp_p2']].std()"
   ]
  },
  {
   "cell_type": "code",
   "execution_count": 13,
   "id": "de97c0b4",
   "metadata": {},
   "outputs": [
    {
     "data": {
      "image/png": "[encoded data removed]",
      "text/plain": [
       "<Figure size 720x504 with 1 Axes>"
      ]
     },
     "metadata": {
      "needs_background": "light"
     },
     "output_type": "display_data"
    }
   ],
   "source": [
    "# Dieser Plot ist mit Vorsicht zu genießen, da wir den automatischen Ausreißer-Filter von Matplotlib verwenden\n",
    "variable = \"Suess_Fz_Amp_P1\"\n",
    "array_a = patienten[variable].dropna()\n",
    "array_b = gesunde[variable].dropna()\n",
    "fig = plt.figure(figsize =(10, 7))\n",
    "plt.boxplot([array_a, array_b], showfliers=False)\n",
    "plt.title(f\"Boxplot für {variable}\")\n",
    "plt.ylabel('Zeitdifferenz [ms]')\n",
    "plt.xticks([1, 2], ['Patienten', 'Gesunde'])\n",
    "plt.show()"
   ]
  },
  {
   "cell_type": "code",
   "execution_count": 32,
   "id": "85e1c2ee",
   "metadata": {},
   "outputs": [],
   "source": [
    "# Nun berechnen wir die ABSOLUTEN Amplitudendifferenzen fuer alle Probanden\n",
    "df['Suess_Fz_Amp_P1_minus_N1'] = (df['Suess_Fz_Amp_P1'] - df['Suess_Fz_Amp_N1']).abs()\n",
    "df['Suess_Fz_Amp_N1_minus_P2'] = (df['Suess_Fz_Amp_N1'] - df['Suess_Fz_Amp_p2']).abs()\n",
    "df['Suess_Cz_Amp_P1_minus_N1'] = (df['Suess_Cz_Amp_P1'] - df['Suess_Cz_Amp_N1']).abs()\n",
    "df['Suess_Cz_Amp_N1_minus_P2'] = (df['Suess_Cz_Amp_N1'] - df['Suess_Cz_Amp_p2']).abs()\n",
    "df['Suess_Pz_Amp_P1_minus_N1'] = (df['Suess_Pz_Amp_P1'] - df['Suess_Pz_Amp_N1']).abs()\n",
    "df['Suess_Pz_Amp_N1_minus_P2'] = (df['Suess_Pz_Amp_N1'] - df['Suess_Pz_Amp_p2']).abs()\n",
    "\n",
    "df['Salz_Fz_Amp_P1_minus_N1'] = (df['Salz_Fz_Amp_P1'] - df['Salz_Fz_Amp_N1']).abs()\n",
    "df['Salz_Fz_Amp_N1_minus_P2'] = (df['Salz_Fz_Amp_N1'] - df['Salz_Fz_Amp_p2']).abs()\n",
    "df['Salz_Cz_Amp_P1_minus_N1'] = (df['Salz_Cz_Amp_P1'] - df['Salz_Cz_Amp_N1']).abs()\n",
    "df['Salz_Cz_Amp_N1_minus_P2'] = (df['Salz_Cz_Amp_N1'] - df['Salz_Cz_Amp_p2']).abs()\n",
    "df['Salz_Pz_Amp_P1_minus_N1'] = (df['Salz_Pz_Amp_P1'] - df['Salz_Pz_Amp_N1']).abs()\n",
    "df['Salz_Pz_Amp_N1_minus_P2'] = (df['Salz_Pz_Amp_N1'] - df['Salz_Pz_Amp_p2']).abs()"
   ]
  },
  {
   "cell_type": "code",
   "execution_count": 33,
   "id": "455e2a8d",
   "metadata": {},
   "outputs": [],
   "source": [
    "columns = ['Status ', \"Patientennummer\", \"Suess_Fz_Amp_P1\", \"Suess_Fz_Amp_N1\", \"Suess_Fz_Amp_p2\",\"Suess_Fz_Amp_P1_minus_N1\", \n",
    "            \"Suess_Fz_Amp_N1_minus_P2\", \"Suess_Cz_Amp_P1\", \"Suess_Cz_Amp_N1\", \"Suess_Cz_Amp_p2\",\n",
    "            \"Suess_Cz_Amp_P1_minus_N1\", \"Suess_Cz_Amp_N1_minus_P2\", \"Suess_Pz_Amp_P1\", \"Suess_Pz_Amp_N1\",\n",
    "            \"Suess_Pz_Amp_p2\", \"Suess_Pz_Amp_P1_minus_N1\", \"Suess_Pz_Amp_N1_minus_P2\",\n",
    "           \"Salz_Fz_Amp_P1\", \"Salz_Fz_Amp_N1\", \"Salz_Fz_Amp_p2\", \"Salz_Fz_Amp_P1_minus_N1\",\n",
    "            \"Salz_Fz_Amp_N1_minus_P2\", \"Salz_Cz_Amp_P1\", \"Salz_Cz_Amp_N1\", \"Salz_Cz_Amp_p2\",\n",
    "           \"Salz_Cz_Amp_P1_minus_N1\", \"Salz_Cz_Amp_N1_minus_P2\", \"Salz_Pz_Amp_P1\", \"Salz_Pz_Amp_N1\",\n",
    "           \"Salz_Pz_Amp_p2\", \"Salz_Pz_Amp_P1_minus_N1\", \"Salz_Pz_Amp_N1_minus_P2\"]\n",
    "df[columns].dropna(thresh=10).reset_index(drop=True).to_csv(\"Amplituden.csv\")"
   ]
  },
  {
   "cell_type": "code",
   "execution_count": 34,
   "id": "bd1b1034",
   "metadata": {},
   "outputs": [
    {
     "data": {
      "text/html": [
       "<div>\n",
       "<style scoped>\n",
       "    .dataframe tbody tr th:only-of-type {\n",
       "        vertical-align: middle;\n",
       "    }\n",
       "\n",
       "    .dataframe tbody tr th {\n",
       "        vertical-align: top;\n",
       "    }\n",
       "\n",
       "    .dataframe thead th {\n",
       "        text-align: right;\n",
       "    }\n",
       "</style>\n",
       "<table border=\"1\" class=\"dataframe\">\n",
       "  <thead>\n",
       "    <tr style=\"text-align: right;\">\n",
       "      <th></th>\n",
       "      <th>Suess_Fz_Amp_P1_minus_N1</th>\n",
       "      <th>Suess_Fz_Amp_N1_minus_P2</th>\n",
       "    </tr>\n",
       "  </thead>\n",
       "  <tbody>\n",
       "    <tr>\n",
       "      <th>0</th>\n",
       "      <td>4061.0</td>\n",
       "      <td>6655.0</td>\n",
       "    </tr>\n",
       "    <tr>\n",
       "      <th>1</th>\n",
       "      <td>5175.0</td>\n",
       "      <td>7469.0</td>\n",
       "    </tr>\n",
       "    <tr>\n",
       "      <th>2</th>\n",
       "      <td>8267.0</td>\n",
       "      <td>7667.0</td>\n",
       "    </tr>\n",
       "    <tr>\n",
       "      <th>3</th>\n",
       "      <td>1324.0</td>\n",
       "      <td>8619.0</td>\n",
       "    </tr>\n",
       "    <tr>\n",
       "      <th>5</th>\n",
       "      <td>5355.0</td>\n",
       "      <td>12497.0</td>\n",
       "    </tr>\n",
       "    <tr>\n",
       "      <th>7</th>\n",
       "      <td>1483.0</td>\n",
       "      <td>4137.0</td>\n",
       "    </tr>\n",
       "    <tr>\n",
       "      <th>13</th>\n",
       "      <td>4715.0</td>\n",
       "      <td>18427.0</td>\n",
       "    </tr>\n",
       "    <tr>\n",
       "      <th>14</th>\n",
       "      <td>2438.0</td>\n",
       "      <td>3079.0</td>\n",
       "    </tr>\n",
       "    <tr>\n",
       "      <th>16</th>\n",
       "      <td>3999.0</td>\n",
       "      <td>4204.0</td>\n",
       "    </tr>\n",
       "    <tr>\n",
       "      <th>17</th>\n",
       "      <td>318.0</td>\n",
       "      <td>6454.0</td>\n",
       "    </tr>\n",
       "    <tr>\n",
       "      <th>22</th>\n",
       "      <td>7999.0</td>\n",
       "      <td>714.0</td>\n",
       "    </tr>\n",
       "    <tr>\n",
       "      <th>23</th>\n",
       "      <td>3318.0</td>\n",
       "      <td>6511.0</td>\n",
       "    </tr>\n",
       "    <tr>\n",
       "      <th>25</th>\n",
       "      <td>2231.0</td>\n",
       "      <td>5593.0</td>\n",
       "    </tr>\n",
       "    <tr>\n",
       "      <th>26</th>\n",
       "      <td>3404.0</td>\n",
       "      <td>5632.0</td>\n",
       "    </tr>\n",
       "    <tr>\n",
       "      <th>27</th>\n",
       "      <td>2085.0</td>\n",
       "      <td>3640.0</td>\n",
       "    </tr>\n",
       "    <tr>\n",
       "      <th>34</th>\n",
       "      <td>4737.0</td>\n",
       "      <td>5210.0</td>\n",
       "    </tr>\n",
       "    <tr>\n",
       "      <th>37</th>\n",
       "      <td>8514.0</td>\n",
       "      <td>7773.0</td>\n",
       "    </tr>\n",
       "    <tr>\n",
       "      <th>40</th>\n",
       "      <td>2769.0</td>\n",
       "      <td>4691.0</td>\n",
       "    </tr>\n",
       "    <tr>\n",
       "      <th>43</th>\n",
       "      <td>4422.0</td>\n",
       "      <td>8344.0</td>\n",
       "    </tr>\n",
       "    <tr>\n",
       "      <th>46</th>\n",
       "      <td>2742.0</td>\n",
       "      <td>5513.0</td>\n",
       "    </tr>\n",
       "    <tr>\n",
       "      <th>47</th>\n",
       "      <td>4374.0</td>\n",
       "      <td>2500.0</td>\n",
       "    </tr>\n",
       "    <tr>\n",
       "      <th>48</th>\n",
       "      <td>5784.0</td>\n",
       "      <td>5070.0</td>\n",
       "    </tr>\n",
       "    <tr>\n",
       "      <th>51</th>\n",
       "      <td>2883.0</td>\n",
       "      <td>3000.0</td>\n",
       "    </tr>\n",
       "    <tr>\n",
       "      <th>53</th>\n",
       "      <td>2963.0</td>\n",
       "      <td>5121.0</td>\n",
       "    </tr>\n",
       "  </tbody>\n",
       "</table>\n",
       "</div>"
      ],
      "text/plain": [
       "    Suess_Fz_Amp_P1_minus_N1  Suess_Fz_Amp_N1_minus_P2\n",
       "0                     4061.0                    6655.0\n",
       "1                     5175.0                    7469.0\n",
       "2                     8267.0                    7667.0\n",
       "3                     1324.0                    8619.0\n",
       "5                     5355.0                   12497.0\n",
       "7                     1483.0                    4137.0\n",
       "13                    4715.0                   18427.0\n",
       "14                    2438.0                    3079.0\n",
       "16                    3999.0                    4204.0\n",
       "17                     318.0                    6454.0\n",
       "22                    7999.0                     714.0\n",
       "23                    3318.0                    6511.0\n",
       "25                    2231.0                    5593.0\n",
       "26                    3404.0                    5632.0\n",
       "27                    2085.0                    3640.0\n",
       "34                    4737.0                    5210.0\n",
       "37                    8514.0                    7773.0\n",
       "40                    2769.0                    4691.0\n",
       "43                    4422.0                    8344.0\n",
       "46                    2742.0                    5513.0\n",
       "47                    4374.0                    2500.0\n",
       "48                    5784.0                    5070.0\n",
       "51                    2883.0                    3000.0\n",
       "53                    2963.0                    5121.0"
      ]
     },
     "execution_count": 34,
     "metadata": {},
     "output_type": "execute_result"
    }
   ],
   "source": [
    "# Sieht gut aus so\n",
    "df[[\"Suess_Fz_Amp_P1_minus_N1\", \"Suess_Fz_Amp_N1_minus_P2\"]].dropna()"
   ]
  },
  {
   "cell_type": "code",
   "execution_count": 39,
   "id": "ee0c0b0d",
   "metadata": {},
   "outputs": [],
   "source": [
    "# Fuer die Ausreisser brauchen wir noch einen Filter\n",
    "# Dafür werfen wir einfach mal alle Werte raus, deren absoluter Wert mindestens 50x grösser ist als der Median \n",
    "import numpy as np\n",
    "def filter_outliers(series):\n",
    "    \"\"\"\n",
    "    Takes pd.Series as input and returns a python list of filtered values.\n",
    "    \"\"\"\n",
    "    median = series.median()\n",
    "    values = series.tolist()\n",
    "    filtered_values = [value for value in values if abs(value) < 50 * abs(median)]\n",
    "    removed_values = [value for value in values if value not in filtered_values]\n",
    "    print(f\"Removed {removed_values}, filter median was {median}\")\n",
    "    return filtered_values\n",
    "\n",
    "def mean(values):\n",
    "    return sum(values) / len(values)"
   ]
  },
  {
   "cell_type": "code",
   "execution_count": 11,
   "id": "d40ea945",
   "metadata": {},
   "outputs": [
    {
     "name": "stdout",
     "output_type": "stream",
     "text": [
      "Patienten Dataframe: (33, 244)\n",
      "Gesunden Dataframe: (21, 244)\n"
     ]
    }
   ],
   "source": [
    "# Jetzt schauen wir uns unterschiede zwischen patienten/gesunden an\n",
    "gesunde = df[df['Status '] == 0]\n",
    "patienten = df[df['Status '] == 1]\n",
    "print(\"Patienten Dataframe:\", patienten.shape)\n",
    "print(\"Gesunden Dataframe:\", gesunde.shape)"
   ]
  },
  {
   "cell_type": "markdown",
   "id": "5e8e69c0",
   "metadata": {},
   "source": [
    "## T-tests fuer suess"
   ]
  },
  {
   "cell_type": "code",
   "execution_count": 26,
   "id": "d1c036d0",
   "metadata": {},
   "outputs": [
    {
     "name": "stdout",
     "output_type": "stream",
     "text": [
      "16 Patienten übrig nachdem auf fehlende Werte für Suess_Fz_Amp_P1_minus_N1 korrigiert wurde.\n",
      "9 Gesunde übrig nachdem auf fehlende Werte für Suess_Fz_Amp_P1_minus_N1 korrigiert wurde.\n",
      "\n",
      "Removed [4904000.0], filter median was 3701.5\n",
      "Removed [], filter median was 4374.0\n",
      "15 Patienten übrig nach dem Ausreißer Filter für Suess_Fz_Amp_P1_minus_N1.\n",
      "9 Gesunde übrig nach dem Ausreißer Filter für Suess_Fz_Amp_P1_minus_N1.\n",
      "\n",
      "T-Test statistics for Suess_Fz_Amp_P1_minus_N1 for the folowing means:\n",
      "Patienten: 3744.8\n",
      "Gesunde: 4354.222222222223\n"
     ]
    },
    {
     "data": {
      "text/plain": [
       "Ttest_indResult(statistic=-0.6687216201399151, pvalue=0.510629663541722)"
      ]
     },
     "execution_count": 26,
     "metadata": {},
     "output_type": "execute_result"
    }
   ],
   "source": [
    "variable = \"Suess_Fz_Amp_P1_minus_N1\"\n",
    "array_a = patienten[variable].dropna()\n",
    "array_b = gesunde[variable].dropna()\n",
    "print(f\"{len(array_a)} Patienten übrig nachdem auf fehlende Werte für {variable} korrigiert wurde.\")\n",
    "print(f\"{len(array_b)} Gesunde übrig nachdem auf fehlende Werte für {variable} korrigiert wurde.\")\n",
    "print()\n",
    "array_a = filter_outliers(array_a)\n",
    "array_b = filter_outliers(array_b)\n",
    "print(f\"{len(array_a)} Patienten übrig nach dem Ausreißer Filter für {variable}.\")\n",
    "print(f\"{len(array_b)} Gesunde übrig nach dem Ausreißer Filter für {variable}.\")\n",
    "print()\n",
    "\n",
    "print(f\"T-Test statistics for {variable} for the folowing means:\")\n",
    "print(f'Patienten: {mean(array_a)}')\n",
    "print(f'Gesunde: {mean(array_b)}')\n",
    "\n",
    "result = stats.ttest_ind(array_a, array_b)\n",
    "result"
   ]
  },
  {
   "cell_type": "code",
   "execution_count": 27,
   "id": "8a1b31fe",
   "metadata": {},
   "outputs": [
    {
     "name": "stdout",
     "output_type": "stream",
     "text": [
      "16 Patienten übrig nachdem auf fehlende Werte für Suess_Fz_Amp_N1_minus_P2 korrigiert wurde.\n",
      "9 Gesunde übrig nachdem auf fehlende Werte für Suess_Fz_Amp_N1_minus_P2 korrigiert wurde.\n",
      "\n",
      "Removed [3986000.0], filter median was 6482.5\n",
      "Removed [], filter median was 5121.0\n",
      "15 Patienten übrig nach dem Ausreißer Filter für Suess_Fz_Amp_N1_minus_P2.\n",
      "9 Gesunde übrig nach dem Ausreißer Filter für Suess_Fz_Amp_N1_minus_P2.\n",
      "\n",
      "T-Test statistics for Suess_Fz_Amp_N1_minus_P2 for the folowing means:\n",
      "Patienten: 6753.2\n",
      "Gesunde: 5246.888888888889\n"
     ]
    },
    {
     "data": {
      "text/plain": [
       "Ttest_indResult(statistic=1.0034452653181978, pvalue=0.3265559481791499)"
      ]
     },
     "execution_count": 27,
     "metadata": {},
     "output_type": "execute_result"
    }
   ],
   "source": [
    "variable = \"Suess_Fz_Amp_N1_minus_P2\"\n",
    "array_a = patienten[variable].dropna()\n",
    "array_b = gesunde[variable].dropna()\n",
    "print(f\"{len(array_a)} Patienten übrig nachdem auf fehlende Werte für {variable} korrigiert wurde.\")\n",
    "print(f\"{len(array_b)} Gesunde übrig nachdem auf fehlende Werte für {variable} korrigiert wurde.\")\n",
    "print()\n",
    "array_a = filter_outliers(array_a)\n",
    "array_b = filter_outliers(array_b)\n",
    "print(f\"{len(array_a)} Patienten übrig nach dem Ausreißer Filter für {variable}.\")\n",
    "print(f\"{len(array_b)} Gesunde übrig nach dem Ausreißer Filter für {variable}.\")\n",
    "print()\n",
    "\n",
    "print(f\"T-Test statistics for {variable} for the folowing means:\")\n",
    "print(f'Patienten: {mean(array_a)}')\n",
    "print(f'Gesunde: {mean(array_b)}')\n",
    "\n",
    "result = stats.ttest_ind(array_a, array_b)\n",
    "result"
   ]
  },
  {
   "cell_type": "code",
   "execution_count": 28,
   "id": "adce90a3",
   "metadata": {},
   "outputs": [
    {
     "name": "stdout",
     "output_type": "stream",
     "text": [
      "15 Patienten übrig nachdem auf fehlende Werte für Suess_Cz_Amp_P1_minus_N1 korrigiert wurde.\n",
      "10 Gesunde übrig nachdem auf fehlende Werte für Suess_Cz_Amp_P1_minus_N1 korrigiert wurde.\n",
      "\n",
      "Removed [4603000.0], filter median was 3593.0\n",
      "Removed [], filter median was 3377.5\n",
      "14 Patienten übrig nach dem Ausreißer Filter für Suess_Cz_Amp_P1_minus_N1.\n",
      "10 Gesunde übrig nach dem Ausreißer Filter für Suess_Cz_Amp_P1_minus_N1.\n",
      "\n",
      "T-Test statistics for Suess_Cz_Amp_P1_minus_N1 for the folowing means:\n",
      "Patienten: 4430.142857142857\n",
      "Gesunde: 3842.7\n"
     ]
    },
    {
     "data": {
      "text/plain": [
       "Ttest_indResult(statistic=0.5969503332496935, pvalue=0.5566347324374382)"
      ]
     },
     "execution_count": 28,
     "metadata": {},
     "output_type": "execute_result"
    }
   ],
   "source": [
    "variable = \"Suess_Cz_Amp_P1_minus_N1\"\n",
    "array_a = patienten[variable].dropna()\n",
    "array_b = gesunde[variable].dropna()\n",
    "print(f\"{len(array_a)} Patienten übrig nachdem auf fehlende Werte für {variable} korrigiert wurde.\")\n",
    "print(f\"{len(array_b)} Gesunde übrig nachdem auf fehlende Werte für {variable} korrigiert wurde.\")\n",
    "print()\n",
    "array_a = filter_outliers(array_a)\n",
    "array_b = filter_outliers(array_b)\n",
    "print(f\"{len(array_a)} Patienten übrig nach dem Ausreißer Filter für {variable}.\")\n",
    "print(f\"{len(array_b)} Gesunde übrig nach dem Ausreißer Filter für {variable}.\")\n",
    "print()\n",
    "\n",
    "print(f\"T-Test statistics for {variable} for the folowing means:\")\n",
    "print(f'Patienten: {mean(array_a)}')\n",
    "print(f'Gesunde: {mean(array_b)}')\n",
    "\n",
    "result = stats.ttest_ind(array_a, array_b)\n",
    "result"
   ]
  },
  {
   "cell_type": "code",
   "execution_count": 29,
   "id": "c0f1c752",
   "metadata": {},
   "outputs": [
    {
     "name": "stdout",
     "output_type": "stream",
     "text": [
      "16 Patienten übrig nachdem auf fehlende Werte für Suess_Cz_Amp_N1_minus_P2 korrigiert wurde.\n",
      "10 Gesunde übrig nachdem auf fehlende Werte für Suess_Cz_Amp_N1_minus_P2 korrigiert wurde.\n",
      "\n",
      "Removed [1100902889.0, 5305000.0], filter median was 6473.0\n",
      "Removed [], filter median was 5055.0\n",
      "14 Patienten übrig nach dem Ausreißer Filter für Suess_Cz_Amp_N1_minus_P2.\n",
      "10 Gesunde übrig nach dem Ausreißer Filter für Suess_Cz_Amp_N1_minus_P2.\n",
      "\n",
      "T-Test statistics for Suess_Cz_Amp_N1_minus_P2 for the folowing means:\n",
      "Patienten: 6687.571428571428\n",
      "Gesunde: 4727.5\n"
     ]
    },
    {
     "data": {
      "text/plain": [
       "Ttest_indResult(statistic=1.731058021286538, pvalue=0.09744437848626421)"
      ]
     },
     "execution_count": 29,
     "metadata": {},
     "output_type": "execute_result"
    }
   ],
   "source": [
    "variable = \"Suess_Cz_Amp_N1_minus_P2\"\n",
    "array_a = patienten[variable].dropna()\n",
    "array_b = gesunde[variable].dropna()\n",
    "print(f\"{len(array_a)} Patienten übrig nachdem auf fehlende Werte für {variable} korrigiert wurde.\")\n",
    "print(f\"{len(array_b)} Gesunde übrig nachdem auf fehlende Werte für {variable} korrigiert wurde.\")\n",
    "print()\n",
    "array_a = filter_outliers(array_a)\n",
    "array_b = filter_outliers(array_b)\n",
    "print(f\"{len(array_a)} Patienten übrig nach dem Ausreißer Filter für {variable}.\")\n",
    "print(f\"{len(array_b)} Gesunde übrig nach dem Ausreißer Filter für {variable}.\")\n",
    "print()\n",
    "\n",
    "print(f\"T-Test statistics for {variable} for the folowing means:\")\n",
    "print(f'Patienten: {mean(array_a)}')\n",
    "print(f'Gesunde: {mean(array_b)}')\n",
    "\n",
    "result = stats.ttest_ind(array_a, array_b)\n",
    "result"
   ]
  },
  {
   "cell_type": "code",
   "execution_count": 30,
   "id": "3b922115",
   "metadata": {},
   "outputs": [
    {
     "name": "stdout",
     "output_type": "stream",
     "text": [
      "16 Patienten übrig nachdem auf fehlende Werte für Suess_Pz_Amp_P1_minus_N1 korrigiert wurde.\n",
      "10 Gesunde übrig nachdem auf fehlende Werte für Suess_Pz_Amp_P1_minus_N1 korrigiert wurde.\n",
      "\n",
      "Removed [6292999.0, 3018935593.0, 5180000.0], filter median was 3448.0\n",
      "Removed [], filter median was 3268.5\n",
      "13 Patienten übrig nach dem Ausreißer Filter für Suess_Pz_Amp_P1_minus_N1.\n",
      "10 Gesunde übrig nach dem Ausreißer Filter für Suess_Pz_Amp_P1_minus_N1.\n",
      "\n",
      "T-Test statistics for Suess_Pz_Amp_P1_minus_N1 for the folowing means:\n",
      "Patienten: 4227.2307692307695\n",
      "Gesunde: 3474.4\n"
     ]
    },
    {
     "data": {
      "text/plain": [
       "Ttest_indResult(statistic=0.6668228040962013, pvalue=0.5121460265196955)"
      ]
     },
     "execution_count": 30,
     "metadata": {},
     "output_type": "execute_result"
    }
   ],
   "source": [
    "variable = \"Suess_Pz_Amp_P1_minus_N1\"\n",
    "array_a = patienten[variable].dropna()\n",
    "array_b = gesunde[variable].dropna()\n",
    "print(f\"{len(array_a)} Patienten übrig nachdem auf fehlende Werte für {variable} korrigiert wurde.\")\n",
    "print(f\"{len(array_b)} Gesunde übrig nachdem auf fehlende Werte für {variable} korrigiert wurde.\")\n",
    "print()\n",
    "array_a = filter_outliers(array_a)\n",
    "array_b = filter_outliers(array_b)\n",
    "print(f\"{len(array_a)} Patienten übrig nach dem Ausreißer Filter für {variable}.\")\n",
    "print(f\"{len(array_b)} Gesunde übrig nach dem Ausreißer Filter für {variable}.\")\n",
    "print()\n",
    "\n",
    "print(f\"T-Test statistics for {variable} for the folowing means:\")\n",
    "print(f'Patienten: {mean(array_a)}')\n",
    "print(f'Gesunde: {mean(array_b)}')\n",
    "\n",
    "result = stats.ttest_ind(array_a, array_b)\n",
    "result"
   ]
  },
  {
   "cell_type": "code",
   "execution_count": 31,
   "id": "88922829",
   "metadata": {},
   "outputs": [
    {
     "name": "stdout",
     "output_type": "stream",
     "text": [
      "16 Patienten übrig nachdem auf fehlende Werte für Suess_Pz_Amp_N1_minus_P2 korrigiert wurde.\n",
      "10 Gesunde übrig nachdem auf fehlende Werte für Suess_Pz_Amp_N1_minus_P2 korrigiert wurde.\n",
      "\n",
      "Removed [7645999.0, 2171902889.0, 6294000.0], filter median was 6160.5\n",
      "Removed [], filter median was 4412.5\n",
      "13 Patienten übrig nach dem Ausreißer Filter für Suess_Pz_Amp_N1_minus_P2.\n",
      "10 Gesunde übrig nach dem Ausreißer Filter für Suess_Pz_Amp_N1_minus_P2.\n",
      "\n",
      "T-Test statistics for Suess_Pz_Amp_N1_minus_P2 for the folowing means:\n",
      "Patienten: 6285.923076923077\n",
      "Gesunde: 4526.5\n"
     ]
    },
    {
     "data": {
      "text/plain": [
       "Ttest_indResult(statistic=1.3544844342248277, pvalue=0.18997722473041478)"
      ]
     },
     "execution_count": 31,
     "metadata": {},
     "output_type": "execute_result"
    }
   ],
   "source": [
    "variable = \"Suess_Pz_Amp_N1_minus_P2\"\n",
    "array_a = patienten[variable].dropna()\n",
    "array_b = gesunde[variable].dropna()\n",
    "print(f\"{len(array_a)} Patienten übrig nachdem auf fehlende Werte für {variable} korrigiert wurde.\")\n",
    "print(f\"{len(array_b)} Gesunde übrig nachdem auf fehlende Werte für {variable} korrigiert wurde.\")\n",
    "print()\n",
    "array_a = filter_outliers(array_a)\n",
    "array_b = filter_outliers(array_b)\n",
    "print(f\"{len(array_a)} Patienten übrig nach dem Ausreißer Filter für {variable}.\")\n",
    "print(f\"{len(array_b)} Gesunde übrig nach dem Ausreißer Filter für {variable}.\")\n",
    "print()\n",
    "\n",
    "print(f\"T-Test statistics for {variable} for the folowing means:\")\n",
    "print(f'Patienten: {mean(array_a)}')\n",
    "print(f'Gesunde: {mean(array_b)}')\n",
    "\n",
    "result = stats.ttest_ind(array_a, array_b)\n",
    "result"
   ]
  },
  {
   "cell_type": "markdown",
   "id": "55da7862",
   "metadata": {},
   "source": [
    "## T-tests fuer salzig"
   ]
  },
  {
   "cell_type": "code",
   "execution_count": 32,
   "id": "8d04cc86",
   "metadata": {},
   "outputs": [
    {
     "name": "stdout",
     "output_type": "stream",
     "text": [
      "23 Patienten übrig nachdem auf fehlende Werte für Salz_Fz_Amp_P1_minus_N1 korrigiert wurde.\n",
      "15 Gesunde übrig nachdem auf fehlende Werte für Salz_Fz_Amp_P1_minus_N1 korrigiert wurde.\n",
      "\n",
      "Removed [1811000.0, 1559999.0, 1050901888.0, 578031703.0, 3741000.0], filter median was 4450.0\n",
      "Removed [2391999.0, 1766968297.0, 2500000.0, 8651000.0], filter median was 6749.0\n",
      "18 Patienten übrig nach dem Ausreißer Filter für Salz_Fz_Amp_P1_minus_N1.\n",
      "11 Gesunde übrig nach dem Ausreißer Filter für Salz_Fz_Amp_P1_minus_N1.\n",
      "\n",
      "T-Test statistics for Salz_Fz_Amp_P1_minus_N1 for the folowing means:\n",
      "Patienten: 3722.8333333333335\n",
      "Gesunde: 4536.454545454545\n"
     ]
    },
    {
     "data": {
      "text/plain": [
       "Ttest_indResult(statistic=-0.6628431226862355, pvalue=0.5130504185540505)"
      ]
     },
     "execution_count": 32,
     "metadata": {},
     "output_type": "execute_result"
    }
   ],
   "source": [
    "variable = \"Salz_Fz_Amp_P1_minus_N1\"\n",
    "array_a = patienten[variable].dropna()\n",
    "array_b = gesunde[variable].dropna()\n",
    "print(f\"{len(array_a)} Patienten übrig nachdem auf fehlende Werte für {variable} korrigiert wurde.\")\n",
    "print(f\"{len(array_b)} Gesunde übrig nachdem auf fehlende Werte für {variable} korrigiert wurde.\")\n",
    "print()\n",
    "array_a = filter_outliers(array_a)\n",
    "array_b = filter_outliers(array_b)\n",
    "print(f\"{len(array_a)} Patienten übrig nach dem Ausreißer Filter für {variable}.\")\n",
    "print(f\"{len(array_b)} Gesunde übrig nach dem Ausreißer Filter für {variable}.\")\n",
    "print()\n",
    "\n",
    "print(f\"T-Test statistics for {variable} for the folowing means:\")\n",
    "print(f'Patienten: {mean(array_a)}')\n",
    "print(f'Gesunde: {mean(array_b)}')\n",
    "\n",
    "result = stats.ttest_ind(array_a, array_b)\n",
    "result"
   ]
  },
  {
   "cell_type": "code",
   "execution_count": 33,
   "id": "2365d144",
   "metadata": {},
   "outputs": [
    {
     "name": "stdout",
     "output_type": "stream",
     "text": [
      "22 Patienten übrig nachdem auf fehlende Werte für Salz_Fz_Amp_N1_minus_P2 korrigiert wurde.\n",
      "15 Gesunde übrig nachdem auf fehlende Werte für Salz_Fz_Amp_N1_minus_P2 korrigiert wurde.\n",
      "\n",
      "Removed [2162000.0, 4598999.0, 884901888.0, 1633935593.0, 1970000.0], filter median was 7461.0\n",
      "Removed [727000.0, 1825968297.0, 6284999.0, 4665000.0], filter median was 10498.0\n",
      "17 Patienten übrig nach dem Ausreißer Filter für Salz_Fz_Amp_N1_minus_P2.\n",
      "11 Gesunde übrig nach dem Ausreißer Filter für Salz_Fz_Amp_N1_minus_P2.\n",
      "\n",
      "T-Test statistics for Salz_Fz_Amp_N1_minus_P2 for the folowing means:\n",
      "Patienten: 6977.294117647059\n",
      "Gesunde: 8345.454545454546\n"
     ]
    },
    {
     "data": {
      "text/plain": [
       "Ttest_indResult(statistic=-1.1551274621438592, pvalue=0.2585442744521423)"
      ]
     },
     "execution_count": 33,
     "metadata": {},
     "output_type": "execute_result"
    }
   ],
   "source": [
    "variable = \"Salz_Fz_Amp_N1_minus_P2\"\n",
    "array_a = patienten[variable].dropna()\n",
    "array_b = gesunde[variable].dropna()\n",
    "print(f\"{len(array_a)} Patienten übrig nachdem auf fehlende Werte für {variable} korrigiert wurde.\")\n",
    "print(f\"{len(array_b)} Gesunde übrig nachdem auf fehlende Werte für {variable} korrigiert wurde.\")\n",
    "print()\n",
    "array_a = filter_outliers(array_a)\n",
    "array_b = filter_outliers(array_b)\n",
    "print(f\"{len(array_a)} Patienten übrig nach dem Ausreißer Filter für {variable}.\")\n",
    "print(f\"{len(array_b)} Gesunde übrig nach dem Ausreißer Filter für {variable}.\")\n",
    "print()\n",
    "\n",
    "print(f\"T-Test statistics for {variable} for the folowing means:\")\n",
    "print(f'Patienten: {mean(array_a)}')\n",
    "print(f'Gesunde: {mean(array_b)}')\n",
    "\n",
    "result = stats.ttest_ind(array_a, array_b)\n",
    "result"
   ]
  },
  {
   "cell_type": "code",
   "execution_count": 34,
   "id": "932474d7",
   "metadata": {},
   "outputs": [
    {
     "name": "stdout",
     "output_type": "stream",
     "text": [
      "22 Patienten übrig nachdem auf fehlende Werte für Salz_Pz_Amp_P1_minus_N1 korrigiert wurde.\n",
      "15 Gesunde übrig nachdem auf fehlende Werte für Salz_Pz_Amp_P1_minus_N1 korrigiert wurde.\n",
      "\n",
      "Removed [5565999.0, 4883000.0], filter median was 4066.0\n",
      "Removed [1846999.0, 2674999.0, 3107000.0], filter median was 4237.0\n",
      "20 Patienten übrig nach dem Ausreißer Filter für Salz_Pz_Amp_P1_minus_N1.\n",
      "12 Gesunde übrig nach dem Ausreißer Filter für Salz_Pz_Amp_P1_minus_N1.\n",
      "\n",
      "T-Test statistics for Salz_Pz_Amp_P1_minus_N1 for the folowing means:\n",
      "Patienten: 4050.45\n",
      "Gesunde: 4488.0\n"
     ]
    },
    {
     "data": {
      "text/plain": [
       "Ttest_indResult(statistic=-0.45465735017776043, pvalue=0.6526287153373049)"
      ]
     },
     "execution_count": 34,
     "metadata": {},
     "output_type": "execute_result"
    }
   ],
   "source": [
    "variable = \"Salz_Pz_Amp_P1_minus_N1\"\n",
    "array_a = patienten[variable].dropna()\n",
    "array_b = gesunde[variable].dropna()\n",
    "print(f\"{len(array_a)} Patienten übrig nachdem auf fehlende Werte für {variable} korrigiert wurde.\")\n",
    "print(f\"{len(array_b)} Gesunde übrig nachdem auf fehlende Werte für {variable} korrigiert wurde.\")\n",
    "print()\n",
    "array_a = filter_outliers(array_a)\n",
    "array_b = filter_outliers(array_b)\n",
    "print(f\"{len(array_a)} Patienten übrig nach dem Ausreißer Filter für {variable}.\")\n",
    "print(f\"{len(array_b)} Gesunde übrig nach dem Ausreißer Filter für {variable}.\")\n",
    "print()\n",
    "\n",
    "print(f\"T-Test statistics for {variable} for the folowing means:\")\n",
    "print(f'Patienten: {mean(array_a)}')\n",
    "print(f'Gesunde: {mean(array_b)}')\n",
    "\n",
    "result = stats.ttest_ind(array_a, array_b)\n",
    "result"
   ]
  },
  {
   "cell_type": "code",
   "execution_count": 35,
   "id": "13d7abcd",
   "metadata": {},
   "outputs": [
    {
     "name": "stdout",
     "output_type": "stream",
     "text": [
      "21 Patienten übrig nachdem auf fehlende Werte für Salz_Pz_Amp_N1_minus_P2 korrigiert wurde.\n",
      "15 Gesunde übrig nachdem auf fehlende Werte für Salz_Pz_Amp_N1_minus_P2 korrigiert wurde.\n",
      "\n",
      "Removed [4592999.0, 4217000.0], filter median was 6696.0\n",
      "Removed [2604999.0, 5321999.0, 6604999.0], filter median was 7264.0\n",
      "19 Patienten übrig nach dem Ausreißer Filter für Salz_Pz_Amp_N1_minus_P2.\n",
      "12 Gesunde übrig nach dem Ausreißer Filter für Salz_Pz_Amp_N1_minus_P2.\n",
      "\n",
      "T-Test statistics for Salz_Pz_Amp_N1_minus_P2 for the folowing means:\n",
      "Patienten: 7102.894736842105\n",
      "Gesunde: 7232.166666666667\n"
     ]
    },
    {
     "data": {
      "text/plain": [
       "Ttest_indResult(statistic=-0.09730462393403047, pvalue=0.9231538821423628)"
      ]
     },
     "execution_count": 35,
     "metadata": {},
     "output_type": "execute_result"
    }
   ],
   "source": [
    "variable = \"Salz_Pz_Amp_N1_minus_P2\"\n",
    "array_a = patienten[variable].dropna()\n",
    "array_b = gesunde[variable].dropna()\n",
    "print(f\"{len(array_a)} Patienten übrig nachdem auf fehlende Werte für {variable} korrigiert wurde.\")\n",
    "print(f\"{len(array_b)} Gesunde übrig nachdem auf fehlende Werte für {variable} korrigiert wurde.\")\n",
    "print()\n",
    "array_a = filter_outliers(array_a)\n",
    "array_b = filter_outliers(array_b)\n",
    "print(f\"{len(array_a)} Patienten übrig nach dem Ausreißer Filter für {variable}.\")\n",
    "print(f\"{len(array_b)} Gesunde übrig nach dem Ausreißer Filter für {variable}.\")\n",
    "print()\n",
    "\n",
    "print(f\"T-Test statistics for {variable} for the folowing means:\")\n",
    "print(f'Patienten: {mean(array_a)}')\n",
    "print(f'Gesunde: {mean(array_b)}')\n",
    "\n",
    "result = stats.ttest_ind(array_a, array_b)\n",
    "result"
   ]
  },
  {
   "cell_type": "code",
   "execution_count": 36,
   "id": "37040c2b",
   "metadata": {},
   "outputs": [
    {
     "name": "stdout",
     "output_type": "stream",
     "text": [
      "23 Patienten übrig nachdem auf fehlende Werte für Salz_Cz_Amp_P1_minus_N1 korrigiert wurde.\n",
      "15 Gesunde übrig nachdem auf fehlende Werte für Salz_Cz_Amp_P1_minus_N1 korrigiert wurde.\n",
      "\n",
      "Removed [1877999.0, 4761000.0], filter median was 3791.0\n",
      "Removed [1906999.0, 2380999.0, 4731000.0], filter median was 3513.0\n",
      "21 Patienten übrig nach dem Ausreißer Filter für Salz_Cz_Amp_P1_minus_N1.\n",
      "12 Gesunde übrig nach dem Ausreißer Filter für Salz_Cz_Amp_P1_minus_N1.\n",
      "\n",
      "T-Test statistics for Salz_Cz_Amp_P1_minus_N1 for the folowing means:\n",
      "Patienten: 3923.190476190476\n",
      "Gesunde: 5076.416666666667\n"
     ]
    },
    {
     "data": {
      "text/plain": [
       "Ttest_indResult(statistic=-1.0023159883056778, pvalue=0.3239510439433212)"
      ]
     },
     "execution_count": 36,
     "metadata": {},
     "output_type": "execute_result"
    }
   ],
   "source": [
    "variable = \"Salz_Cz_Amp_P1_minus_N1\"\n",
    "array_a = patienten[variable].dropna()\n",
    "array_b = gesunde[variable].dropna()\n",
    "print(f\"{len(array_a)} Patienten übrig nachdem auf fehlende Werte für {variable} korrigiert wurde.\")\n",
    "print(f\"{len(array_b)} Gesunde übrig nachdem auf fehlende Werte für {variable} korrigiert wurde.\")\n",
    "print()\n",
    "array_a = filter_outliers(array_a)\n",
    "array_b = filter_outliers(array_b)\n",
    "print(f\"{len(array_a)} Patienten übrig nach dem Ausreißer Filter für {variable}.\")\n",
    "print(f\"{len(array_b)} Gesunde übrig nach dem Ausreißer Filter für {variable}.\")\n",
    "print()\n",
    "\n",
    "print(f\"T-Test statistics for {variable} for the folowing means:\")\n",
    "print(f'Patienten: {mean(array_a)}')\n",
    "print(f'Gesunde: {mean(array_b)}')\n",
    "\n",
    "result = stats.ttest_ind(array_a, array_b)\n",
    "result"
   ]
  },
  {
   "cell_type": "code",
   "execution_count": 37,
   "id": "9530c262",
   "metadata": {},
   "outputs": [
    {
     "name": "stdout",
     "output_type": "stream",
     "text": [
      "22 Patienten übrig nachdem auf fehlende Werte für Salz_Cz_Amp_N1_minus_P2 korrigiert wurde.\n",
      "15 Gesunde übrig nachdem auf fehlende Werte für Salz_Cz_Amp_N1_minus_P2 korrigiert wurde.\n",
      "\n",
      "Removed [5277999.0, 3350000.0], filter median was 7227.0\n",
      "Removed [2179999.0, 4233999.0, 7052000.0], filter median was 8832.0\n",
      "20 Patienten übrig nach dem Ausreißer Filter für Salz_Cz_Amp_N1_minus_P2.\n",
      "12 Gesunde übrig nach dem Ausreißer Filter für Salz_Cz_Amp_N1_minus_P2.\n",
      "\n",
      "T-Test statistics for Salz_Cz_Amp_N1_minus_P2 for the folowing means:\n",
      "Patienten: 7541.1\n",
      "Gesunde: 8296.583333333334\n"
     ]
    },
    {
     "data": {
      "text/plain": [
       "Ttest_indResult(statistic=-0.5847926226671608, pvalue=0.5630599056198852)"
      ]
     },
     "execution_count": 37,
     "metadata": {},
     "output_type": "execute_result"
    }
   ],
   "source": [
    "variable = \"Salz_Cz_Amp_N1_minus_P2\"\n",
    "array_a = patienten[variable].dropna()\n",
    "array_b = gesunde[variable].dropna()\n",
    "print(f\"{len(array_a)} Patienten übrig nachdem auf fehlende Werte für {variable} korrigiert wurde.\")\n",
    "print(f\"{len(array_b)} Gesunde übrig nachdem auf fehlende Werte für {variable} korrigiert wurde.\")\n",
    "print()\n",
    "array_a = filter_outliers(array_a)\n",
    "array_b = filter_outliers(array_b)\n",
    "print(f\"{len(array_a)} Patienten übrig nach dem Ausreißer Filter für {variable}.\")\n",
    "print(f\"{len(array_b)} Gesunde übrig nach dem Ausreißer Filter für {variable}.\")\n",
    "print()\n",
    "\n",
    "print(f\"T-Test statistics for {variable} for the folowing means:\")\n",
    "print(f'Patienten: {mean(array_a)}')\n",
    "print(f'Gesunde: {mean(array_b)}')\n",
    "\n",
    "result = stats.ttest_ind(array_a, array_b)\n",
    "result"
   ]
  },
  {
   "cell_type": "code",
   "execution_count": null,
   "id": "c2c1bb1e",
   "metadata": {},
   "outputs": [],
   "source": []
  },
  {
   "cell_type": "markdown",
   "id": "0eeec5fb",
   "metadata": {},
   "source": [
    "# Hypothese 3: Patienten weisen unterschiedliche Gesamtdauer der Potentiale auf"
   ]
  },
  {
   "cell_type": "markdown",
   "id": "8abfadd8",
   "metadata": {},
   "source": [
    "### Gesamtdauer ist definiert als T := t(P2) - t(P1)"
   ]
  },
  {
   "cell_type": "code",
   "execution_count": 52,
   "id": "aca71996",
   "metadata": {},
   "outputs": [],
   "source": [
    "# Berechne die Gesamtdauer der Potentiale\n",
    "df['Suess_Fz_Lat_Total'] = df['Suess_Fz_Lat_P2'] - df['Suess_Fz_Lat_P1']\n",
    "df['Suess_Pz_Lat_Total'] = df['Suess_Pz_Lat_P2'] - df['Suess_Pz_Lat_P1']\n",
    "df['Suess_Cz_Lat_Total'] = df['Suess_Cz_Lat_p2'] - df['Suess_Cz_Lat_P1']\n",
    "\n",
    "df['Salz_Fz_Lat_Total'] = df['Salz_Fz_Lat_P2'] - df['Salz_Fz_Lat_P1']\n",
    "df['Salz_Pz_Lat_Total'] = df['Salz_Pz_Lat_P2'] - df['Salz_Pz_Lat_P1']\n",
    "df['Salz_Cz_Lat_Total'] = df['Salz_Cz_Lat_p2'] - df['Salz_Cz_Lat_P1']"
   ]
  },
  {
   "cell_type": "code",
   "execution_count": 53,
   "id": "313297ac",
   "metadata": {},
   "outputs": [
    {
     "data": {
      "text/plain": [
       "0     117.0\n",
       "1     113.0\n",
       "2     100.0\n",
       "3     242.0\n",
       "5     229.0\n",
       "7     112.0\n",
       "13     81.0\n",
       "14    107.0\n",
       "16    102.0\n",
       "17    104.0\n",
       "22    157.0\n",
       "23    212.0\n",
       "24    181.0\n",
       "25    136.0\n",
       "26    166.0\n",
       "27    176.0\n",
       "34    218.0\n",
       "35    114.0\n",
       "37    107.0\n",
       "40    104.0\n",
       "43    129.0\n",
       "46     65.0\n",
       "47    104.0\n",
       "48     97.0\n",
       "51    140.0\n",
       "53    128.0\n",
       "Name: Suess_Cz_Lat_Total, dtype: float64"
      ]
     },
     "execution_count": 53,
     "metadata": {},
     "output_type": "execute_result"
    }
   ],
   "source": [
    "# Sieht gut aus, hier keine Ausreisser\n",
    "df['Suess_Cz_Lat_Total'].dropna()"
   ]
  },
  {
   "cell_type": "code",
   "execution_count": 54,
   "id": "4b423fe9",
   "metadata": {},
   "outputs": [
    {
     "name": "stdout",
     "output_type": "stream",
     "text": [
      "Patienten Dataframe: (33, 250)\n",
      "Gesunden Dataframe: (21, 250)\n"
     ]
    }
   ],
   "source": [
    "# Jetzt schauen wir uns unterschiede zwischen patienten/gesunden an\n",
    "gesunde = df[df['Status '] == 0]\n",
    "patienten = df[df['Status '] == 1]\n",
    "print(\"Patienten Dataframe:\", patienten.shape)\n",
    "print(\"Gesunden Dataframe:\", gesunde.shape)"
   ]
  },
  {
   "cell_type": "markdown",
   "id": "d6292d34",
   "metadata": {},
   "source": [
    "### T-tests fuer Gesamtdauer der Potentiale"
   ]
  },
  {
   "cell_type": "code",
   "execution_count": 55,
   "id": "b3d26611",
   "metadata": {},
   "outputs": [
    {
     "name": "stdout",
     "output_type": "stream",
     "text": [
      "16 Patienten übrig nachdem auf fehlende Werte für Suess_Cz_Lat_Total korrigiert wurde.\n",
      "10 Gesunde übrig nachdem auf fehlende Werte für Suess_Cz_Lat_Total korrigiert wurde.\n",
      "\n",
      "T-Test statistics for Suess_Cz_Lat_Total for the folowing means:\n",
      "Patienten: 145.9375\n",
      "Gesunde: 120.6\n",
      "Patienten haben 21.01% längere Gesamtdauer bei Suess_Cz_Lat_Total\n"
     ]
    },
    {
     "data": {
      "text/plain": [
       "Ttest_indResult(statistic=1.3468241448628597, pvalue=0.19061818442024747)"
      ]
     },
     "execution_count": 55,
     "metadata": {},
     "output_type": "execute_result"
    }
   ],
   "source": [
    "variable = \"Suess_Cz_Lat_Total\"\n",
    "array_a = patienten[variable].dropna()\n",
    "array_b = gesunde[variable].dropna()\n",
    "print(f\"{len(array_a)} Patienten übrig nachdem auf fehlende Werte für {variable} korrigiert wurde.\")\n",
    "print(f\"{len(array_b)} Gesunde übrig nachdem auf fehlende Werte für {variable} korrigiert wurde.\")\n",
    "print()\n",
    "\n",
    "print(f\"T-Test statistics for {variable} for the folowing means:\")\n",
    "print(f'Patienten: {mean(array_a)}')\n",
    "print(f'Gesunde: {mean(array_b)}')\n",
    "print(f\"Patienten haben {round((mean(array_a) / mean(array_b) -1) *100, 2)}% längere Gesamtdauer bei {variable}\")\n",
    "\n",
    "result = stats.ttest_ind(array_a, array_b)\n",
    "result"
   ]
  },
  {
   "cell_type": "code",
   "execution_count": 56,
   "id": "1bd9ec9d",
   "metadata": {},
   "outputs": [
    {
     "name": "stdout",
     "output_type": "stream",
     "text": [
      "16 Patienten übrig nachdem auf fehlende Werte für Suess_Pz_Lat_Total korrigiert wurde.\n",
      "10 Gesunde übrig nachdem auf fehlende Werte für Suess_Pz_Lat_Total korrigiert wurde.\n",
      "\n",
      "T-Test statistics for Suess_Pz_Lat_Total for the folowing means:\n",
      "Patienten: 146.3125\n",
      "Gesunde: 116.0\n",
      "Patienten haben 26.13% längere Gesamtdauer bei Suess_Pz_Lat_Total\n"
     ]
    },
    {
     "data": {
      "text/plain": [
       "Ttest_indResult(statistic=1.5513215052010787, pvalue=0.1339126704671314)"
      ]
     },
     "execution_count": 56,
     "metadata": {},
     "output_type": "execute_result"
    }
   ],
   "source": [
    "variable = \"Suess_Pz_Lat_Total\"\n",
    "array_a = patienten[variable].dropna()\n",
    "array_b = gesunde[variable].dropna()\n",
    "print(f\"{len(array_a)} Patienten übrig nachdem auf fehlende Werte für {variable} korrigiert wurde.\")\n",
    "print(f\"{len(array_b)} Gesunde übrig nachdem auf fehlende Werte für {variable} korrigiert wurde.\")\n",
    "print()\n",
    "\n",
    "print(f\"T-Test statistics for {variable} for the folowing means:\")\n",
    "print(f'Patienten: {mean(array_a)}')\n",
    "print(f'Gesunde: {mean(array_b)}')\n",
    "print(f\"Patienten haben {round((mean(array_a) / mean(array_b) -1) *100, 2)}% längere Gesamtdauer bei {variable}\")\n",
    "\n",
    "result = stats.ttest_ind(array_a, array_b)\n",
    "result"
   ]
  },
  {
   "cell_type": "code",
   "execution_count": 57,
   "id": "ed4553e5",
   "metadata": {},
   "outputs": [
    {
     "name": "stdout",
     "output_type": "stream",
     "text": [
      "16 Patienten übrig nachdem auf fehlende Werte für Suess_Fz_Lat_Total korrigiert wurde.\n",
      "9 Gesunde übrig nachdem auf fehlende Werte für Suess_Fz_Lat_Total korrigiert wurde.\n",
      "\n",
      "T-Test statistics for Suess_Fz_Lat_Total for the folowing means:\n",
      "Patienten: 141.375\n",
      "Gesunde: 118.11111111111111\n",
      "Patienten haben 19.7% längere Gesamtdauer bei Suess_Fz_Lat_Total\n"
     ]
    },
    {
     "data": {
      "text/plain": [
       "Ttest_indResult(statistic=1.09325877176938, pvalue=0.28559891374683827)"
      ]
     },
     "execution_count": 57,
     "metadata": {},
     "output_type": "execute_result"
    }
   ],
   "source": [
    "variable = \"Suess_Fz_Lat_Total\"\n",
    "array_a = patienten[variable].dropna()\n",
    "array_b = gesunde[variable].dropna()\n",
    "print(f\"{len(array_a)} Patienten übrig nachdem auf fehlende Werte für {variable} korrigiert wurde.\")\n",
    "print(f\"{len(array_b)} Gesunde übrig nachdem auf fehlende Werte für {variable} korrigiert wurde.\")\n",
    "print()\n",
    "\n",
    "print(f\"T-Test statistics for {variable} for the folowing means:\")\n",
    "print(f'Patienten: {mean(array_a)}')\n",
    "print(f'Gesunde: {mean(array_b)}')\n",
    "print(f\"Patienten haben {round((mean(array_a) / mean(array_b) -1) *100, 2)}% längere Gesamtdauer bei {variable}\")\n",
    "\n",
    "result = stats.ttest_ind(array_a, array_b)\n",
    "result"
   ]
  },
  {
   "cell_type": "code",
   "execution_count": 58,
   "id": "53048158",
   "metadata": {},
   "outputs": [
    {
     "name": "stdout",
     "output_type": "stream",
     "text": [
      "22 Patienten übrig nachdem auf fehlende Werte für Salz_Cz_Lat_Total korrigiert wurde.\n",
      "15 Gesunde übrig nachdem auf fehlende Werte für Salz_Cz_Lat_Total korrigiert wurde.\n",
      "\n",
      "T-Test statistics for Salz_Cz_Lat_Total for the folowing means:\n",
      "Patienten: 139.13636363636363\n",
      "Gesunde: 113.73333333333333\n",
      "Patienten haben 22.34% längere Gesamtdauer bei Salz_Cz_Lat_Total\n"
     ]
    },
    {
     "data": {
      "text/plain": [
       "Ttest_indResult(statistic=1.5129364606870654, pvalue=0.13927411832098796)"
      ]
     },
     "execution_count": 58,
     "metadata": {},
     "output_type": "execute_result"
    }
   ],
   "source": [
    "variable = \"Salz_Cz_Lat_Total\"\n",
    "array_a = patienten[variable].dropna()\n",
    "array_b = gesunde[variable].dropna()\n",
    "print(f\"{len(array_a)} Patienten übrig nachdem auf fehlende Werte für {variable} korrigiert wurde.\")\n",
    "print(f\"{len(array_b)} Gesunde übrig nachdem auf fehlende Werte für {variable} korrigiert wurde.\")\n",
    "print()\n",
    "\n",
    "print(f\"T-Test statistics for {variable} for the folowing means:\")\n",
    "print(f'Patienten: {mean(array_a)}')\n",
    "print(f'Gesunde: {mean(array_b)}')\n",
    "print(f\"Patienten haben {round((mean(array_a) / mean(array_b) -1) *100, 2)}% längere Gesamtdauer bei {variable}\")\n",
    "\n",
    "result = stats.ttest_ind(array_a, array_b)\n",
    "result"
   ]
  },
  {
   "cell_type": "code",
   "execution_count": 59,
   "id": "1e27f4d2",
   "metadata": {},
   "outputs": [
    {
     "name": "stdout",
     "output_type": "stream",
     "text": [
      "21 Patienten übrig nachdem auf fehlende Werte für Salz_Pz_Lat_Total korrigiert wurde.\n",
      "15 Gesunde übrig nachdem auf fehlende Werte für Salz_Pz_Lat_Total korrigiert wurde.\n",
      "\n",
      "T-Test statistics for Salz_Pz_Lat_Total for the folowing means:\n",
      "Patienten: 143.85714285714286\n",
      "Gesunde: 112.53333333333333\n",
      "Patienten haben 27.84% längere Gesamtdauer bei Salz_Pz_Lat_Total\n"
     ]
    },
    {
     "data": {
      "text/plain": [
       "Ttest_indResult(statistic=1.846977459834556, pvalue=0.07346866634636347)"
      ]
     },
     "execution_count": 59,
     "metadata": {},
     "output_type": "execute_result"
    }
   ],
   "source": [
    "variable = \"Salz_Pz_Lat_Total\"\n",
    "array_a = patienten[variable].dropna()\n",
    "array_b = gesunde[variable].dropna()\n",
    "print(f\"{len(array_a)} Patienten übrig nachdem auf fehlende Werte für {variable} korrigiert wurde.\")\n",
    "print(f\"{len(array_b)} Gesunde übrig nachdem auf fehlende Werte für {variable} korrigiert wurde.\")\n",
    "print()\n",
    "\n",
    "print(f\"T-Test statistics for {variable} for the folowing means:\")\n",
    "print(f'Patienten: {mean(array_a)}')\n",
    "print(f'Gesunde: {mean(array_b)}')\n",
    "print(f\"Patienten haben {round((mean(array_a) / mean(array_b) - 1) *100, 2)}% längere Gesamtdauer bei {variable}\")\n",
    "\n",
    "result = stats.ttest_ind(array_a, array_b)\n",
    "result"
   ]
  },
  {
   "cell_type": "code",
   "execution_count": 60,
   "id": "cd3016c7",
   "metadata": {},
   "outputs": [
    {
     "name": "stdout",
     "output_type": "stream",
     "text": [
      "22 Patienten übrig nachdem auf fehlende Werte für Salz_Fz_Lat_Total korrigiert wurde.\n",
      "15 Gesunde übrig nachdem auf fehlende Werte für Salz_Fz_Lat_Total korrigiert wurde.\n",
      "\n",
      "T-Test statistics for Salz_Fz_Lat_Total for the folowing means:\n",
      "Patienten: 151.04545454545453\n",
      "Gesunde: 114.8\n",
      "Patienten haben 31.57% längere Gesamtdauer bei Salz_Fz_Lat_Total\n"
     ]
    },
    {
     "data": {
      "text/plain": [
       "Ttest_indResult(statistic=1.7175491375968654, pvalue=0.09471625168054729)"
      ]
     },
     "execution_count": 60,
     "metadata": {},
     "output_type": "execute_result"
    }
   ],
   "source": [
    "variable = \"Salz_Fz_Lat_Total\"\n",
    "array_a = patienten[variable].dropna()\n",
    "array_b = gesunde[variable].dropna()\n",
    "print(f\"{len(array_a)} Patienten übrig nachdem auf fehlende Werte für {variable} korrigiert wurde.\")\n",
    "print(f\"{len(array_b)} Gesunde übrig nachdem auf fehlende Werte für {variable} korrigiert wurde.\")\n",
    "print()\n",
    "\n",
    "print(f\"T-Test statistics for {variable} for the folowing means:\")\n",
    "print(f'Patienten: {mean(array_a)}')\n",
    "print(f'Gesunde: {mean(array_b)}')\n",
    "print(f\"Patienten haben {round((mean(array_a) / mean(array_b) - 1) *100, 2)}% längere Gesamtdauer bei {variable}\")\n",
    "\n",
    "result = stats.ttest_ind(array_a, array_b)\n",
    "result"
   ]
  },
  {
   "cell_type": "markdown",
   "id": "e229f00d",
   "metadata": {},
   "source": [
    "# Hypothese 4: Die Zeitdifferenzen zwischen den einzelnen Potentialen (P1, N1, P2) sind unterschiedlich bei Patienten"
   ]
  },
  {
   "cell_type": "code",
   "execution_count": 36,
   "id": "8ea9d856",
   "metadata": {},
   "outputs": [],
   "source": [
    "# Berechne die Zeitdifferenzen\n",
    "df['Suess_Fz_P1_to_N1'] = df['Suess_Fz_Lat_N1'] - df['Suess_Fz_Lat_P1']\n",
    "df['Suess_Fz_N1_to_P2'] = df['Suess_Fz_Lat_P2'] - df['Suess_Fz_Lat_N1']\n",
    "df['Suess_Cz_P1_to_N1'] = df['Suess_Cz_Lat_N1'] - df['Suess_Cz_Lat_P1']\n",
    "df['Suess_Cz_N1_to_P2'] = df['Suess_Cz_Lat_p2'] - df['Suess_Cz_Lat_N1']\n",
    "df['Suess_Pz_P1_to_N1'] = df['Suess_Pz_Lat_N1'] - df['Suess_Pz_Lat_P1']\n",
    "df['Suess_Pz_N1_to_P2'] = df['Suess_Pz_Lat_P2'] - df['Suess_Pz_Lat_N1']\n",
    "\n",
    "df['Salz_Fz_P1_to_N1'] = df['Salz_Fz_Lat_N1'] - df['Salz_Fz_Lat_P1']\n",
    "df['Salz_Fz_N1_to_P2'] = df['Salz_Fz_Lat_P2'] - df['Salz_Fz_Lat_N1']\n",
    "df['Salz_Cz_P1_to_N1'] = df['Salz_Cz_Lat_N1'] - df['Salz_Cz_Lat_P1']\n",
    "df['Salz_Cz_N1_to_P2'] = df['Salz_Cz_Lat_p2'] - df['Salz_Cz_Lat_N1']\n",
    "df['Salz_Pz_P1_to_N1'] = df['Salz_Pz_Lat_N1'] - df['Salz_Pz_Lat_P1']\n",
    "df['Salz_Pz_N1_to_P2'] = df['Salz_Pz_Lat_P2'] - df['Salz_Pz_Lat_N1']"
   ]
  },
  {
   "cell_type": "code",
   "execution_count": 37,
   "id": "c7e0ff4d",
   "metadata": {},
   "outputs": [
    {
     "name": "stdout",
     "output_type": "stream",
     "text": [
      "Patienten Dataframe: (33, 256)\n",
      "Gesunden Dataframe: (21, 256)\n"
     ]
    }
   ],
   "source": [
    "# Jetzt schauen wir uns unterschiede zwischen patienten/gesunden an\n",
    "gesunde = df[df['Status '] == 0]\n",
    "patienten = df[df['Status '] == 1]\n",
    "print(\"Patienten Dataframe:\", patienten.shape)\n",
    "print(\"Gesunden Dataframe:\", gesunde.shape)"
   ]
  },
  {
   "cell_type": "markdown",
   "id": "f37c6f4a",
   "metadata": {},
   "source": [
    "## T-tests für Zeitdifferenzen zwischen Potentialen"
   ]
  },
  {
   "cell_type": "markdown",
   "id": "12fadb28",
   "metadata": {},
   "source": [
    "## Suess"
   ]
  },
  {
   "cell_type": "code",
   "execution_count": 46,
   "id": "eb05c03a",
   "metadata": {},
   "outputs": [
    {
     "name": "stdout",
     "output_type": "stream",
     "text": [
      "16 Patienten übrig nachdem auf fehlende Werte für Suess_Fz_P1_to_N1 korrigiert wurde.\n",
      "9 Gesunde übrig nachdem auf fehlende Werte für Suess_Fz_P1_to_N1 korrigiert wurde.\n",
      "\n",
      "T-Test statistics for Suess_Fz_P1_to_N1 for the folowing means:\n",
      "Patienten: 56.5\n",
      "Gesunde: 58.22222222222222\n",
      "\n",
      "And standard deviations\n",
      "Patienten: 22.627416997969522\n",
      "Gesunde: 20.900705877382215\n",
      "\n",
      "Für Patienten dauert es 0.97-mal so lang für Suess_Fz_P1_to_N1\n"
     ]
    },
    {
     "data": {
      "text/plain": [
       "Ttest_indResult(statistic=-0.18003185028310262, pvalue=0.8587043413219969)"
      ]
     },
     "execution_count": 46,
     "metadata": {},
     "output_type": "execute_result"
    }
   ],
   "source": [
    "variable = \"Suess_Fz_P1_to_N1\"\n",
    "array_a = patienten[variable].dropna()\n",
    "array_b = gesunde[variable].dropna()\n",
    "print(f\"{len(array_a)} Patienten übrig nachdem auf fehlende Werte für {variable} korrigiert wurde.\")\n",
    "print(f\"{len(array_b)} Gesunde übrig nachdem auf fehlende Werte für {variable} korrigiert wurde.\")\n",
    "print()\n",
    "\n",
    "print(f\"T-Test statistics for {variable} for the folowing means:\")\n",
    "print(f'Patienten: {mean(array_a)}')\n",
    "print(f'Gesunde: {mean(array_b)}')\n",
    "print()\n",
    "print(\"And standard deviations\")\n",
    "print(f'Patienten: {np.std(array_a)}')\n",
    "print(f'Gesunde: {np.std(array_b)}')\n",
    "print()\n",
    "\n",
    "factor = round(mean(array_a) / mean(array_b), 3)\n",
    "\n",
    "print(f\"Für Patienten dauert es {factor}-mal so lang für {variable}\")\n",
    "\n",
    "result = stats.ttest_ind(array_a, array_b)\n",
    "result"
   ]
  },
  {
   "cell_type": "code",
   "execution_count": 44,
   "id": "8b2ba698",
   "metadata": {},
   "outputs": [
    {
     "name": "stdout",
     "output_type": "stream",
     "text": [
      "16 Patienten übrig nachdem auf fehlende Werte für Suess_Fz_N1_to_P2 korrigiert wurde.\n",
      "9 Gesunde übrig nachdem auf fehlende Werte für Suess_Fz_N1_to_P2 korrigiert wurde.\n",
      "\n",
      "T-Test statistics for Suess_Fz_N1_to_P2 for the folowing means:\n",
      "Patienten: 84.875\n",
      "Gesunde: 59.888888888888886\n",
      "\n",
      "And standard deviations\n",
      "Patienten: 52.89479534888097\n",
      "Gesunde: 35.03155543996312\n",
      "\n",
      "Für Patienten dauert es 1.417-mal so lang für Suess_Fz_N1_to_P2\n"
     ]
    },
    {
     "data": {
      "text/plain": [
       "Ttest_indResult(statistic=1.2173496341990055, pvalue=0.23581446075786988)"
      ]
     },
     "execution_count": 44,
     "metadata": {},
     "output_type": "execute_result"
    }
   ],
   "source": [
    "variable = \"Suess_Fz_N1_to_P2\"\n",
    "array_a = patienten[variable].dropna()\n",
    "array_b = gesunde[variable].dropna()\n",
    "print(f\"{len(array_a)} Patienten übrig nachdem auf fehlende Werte für {variable} korrigiert wurde.\")\n",
    "print(f\"{len(array_b)} Gesunde übrig nachdem auf fehlende Werte für {variable} korrigiert wurde.\")\n",
    "print()\n",
    "\n",
    "print(f\"T-Test statistics for {variable} for the folowing means:\")\n",
    "print(f'Patienten: {mean(array_a)}')\n",
    "print(f'Gesunde: {mean(array_b)}')\n",
    "print()\n",
    "print(\"And standard deviations\")\n",
    "print(f'Patienten: {np.std(array_a)}')\n",
    "print(f'Gesunde: {np.std(array_b)}')\n",
    "print()\n",
    "\n",
    "factor = round(mean(array_a) / mean(array_b), 3)\n",
    "\n",
    "print(f\"Für Patienten dauert es {factor}-mal so lang für {variable}\")\n",
    "\n",
    "result = stats.ttest_ind(array_a, array_b)\n",
    "result"
   ]
  },
  {
   "cell_type": "code",
   "execution_count": 40,
   "id": "8f5815bc",
   "metadata": {},
   "outputs": [
    {
     "name": "stdout",
     "output_type": "stream",
     "text": [
      "16 Patienten übrig nachdem auf fehlende Werte für Suess_Cz_P1_to_N1 korrigiert wurde.\n",
      "10 Gesunde übrig nachdem auf fehlende Werte für Suess_Cz_P1_to_N1 korrigiert wurde.\n",
      "\n",
      "T-Test statistics for Suess_Cz_P1_to_N1 for the folowing means:\n",
      "Patienten: 55.3125\n",
      "Gesunde: 53.9\n",
      "\n",
      "And standard deviations\n",
      "Patienten: 18.01984583036159\n",
      "Gesunde: 20.57887266105702\n",
      "\n",
      "Für Patienten dauert es 1.026-mal so lang für Suess_Cz_P1_to_N1\n"
     ]
    },
    {
     "data": {
      "text/plain": [
       "Ttest_indResult(statistic=0.17676805231353143, pvalue=0.8611738445975372)"
      ]
     },
     "execution_count": 40,
     "metadata": {},
     "output_type": "execute_result"
    }
   ],
   "source": [
    "variable = \"Suess_Cz_P1_to_N1\"\n",
    "array_a = patienten[variable].dropna()\n",
    "array_b = gesunde[variable].dropna()\n",
    "print(f\"{len(array_a)} Patienten übrig nachdem auf fehlende Werte für {variable} korrigiert wurde.\")\n",
    "print(f\"{len(array_b)} Gesunde übrig nachdem auf fehlende Werte für {variable} korrigiert wurde.\")\n",
    "print()\n",
    "\n",
    "print(f\"T-Test statistics for {variable} for the folowing means:\")\n",
    "print(f'Patienten: {mean(array_a)}')\n",
    "print(f'Gesunde: {mean(array_b)}')\n",
    "print()\n",
    "print(\"And standard deviations\")\n",
    "print(f'Patienten: {np.std(array_a)}')\n",
    "print(f'Gesunde: {np.std(array_b)}')\n",
    "print()\n",
    "\n",
    "\n",
    "factor = round(mean(array_a) / mean(array_b), 3)\n",
    "\n",
    "print(f\"Für Patienten dauert es {factor}-mal so lang für {variable}\")\n",
    "\n",
    "result = stats.ttest_ind(array_a, array_b)\n",
    "result"
   ]
  },
  {
   "cell_type": "code",
   "execution_count": 41,
   "id": "35f7b6dd",
   "metadata": {},
   "outputs": [
    {
     "name": "stdout",
     "output_type": "stream",
     "text": [
      "16 Patienten übrig nachdem auf fehlende Werte für Suess_Cz_N1_to_P2 korrigiert wurde.\n",
      "10 Gesunde übrig nachdem auf fehlende Werte für Suess_Cz_N1_to_P2 korrigiert wurde.\n",
      "\n",
      "T-Test statistics for Suess_Cz_N1_to_P2 for the folowing means:\n",
      "Patienten: 90.625\n",
      "Gesunde: 66.7\n",
      "\n",
      "And standard deviations\n",
      "Patienten: 42.47480871057573\n",
      "Gesunde: 28.802951237677014\n",
      "\n",
      "Für Patienten dauert es 1.359-mal so lang für Suess_Cz_N1_to_P2\n"
     ]
    },
    {
     "data": {
      "text/plain": [
       "Ttest_indResult(statistic=1.5082808660167693, pvalue=0.14453510240478004)"
      ]
     },
     "execution_count": 41,
     "metadata": {},
     "output_type": "execute_result"
    }
   ],
   "source": [
    "variable = \"Suess_Cz_N1_to_P2\"\n",
    "array_a = patienten[variable].dropna()\n",
    "array_b = gesunde[variable].dropna()\n",
    "print(f\"{len(array_a)} Patienten übrig nachdem auf fehlende Werte für {variable} korrigiert wurde.\")\n",
    "print(f\"{len(array_b)} Gesunde übrig nachdem auf fehlende Werte für {variable} korrigiert wurde.\")\n",
    "print()\n",
    "\n",
    "print(f\"T-Test statistics for {variable} for the folowing means:\")\n",
    "print(f'Patienten: {mean(array_a)}')\n",
    "print(f'Gesunde: {mean(array_b)}')\n",
    "print()\n",
    "print(\"And standard deviations\")\n",
    "print(f'Patienten: {np.std(array_a)}')\n",
    "print(f'Gesunde: {np.std(array_b)}')\n",
    "print()\n",
    "\n",
    "factor = round(mean(array_a) / mean(array_b), 3)\n",
    "\n",
    "print(f\"Für Patienten dauert es {factor}-mal so lang für {variable}\")\n",
    "\n",
    "result = stats.ttest_ind(array_a, array_b)\n",
    "result"
   ]
  },
  {
   "cell_type": "code",
   "execution_count": 42,
   "id": "19a1631e",
   "metadata": {},
   "outputs": [
    {
     "name": "stdout",
     "output_type": "stream",
     "text": [
      "16 Patienten übrig nachdem auf fehlende Werte für Suess_Pz_P1_to_N1 korrigiert wurde.\n",
      "10 Gesunde übrig nachdem auf fehlende Werte für Suess_Pz_P1_to_N1 korrigiert wurde.\n",
      "\n",
      "T-Test statistics for Suess_Pz_P1_to_N1 for the folowing means:\n",
      "Patienten: 49.6875\n",
      "Gesunde: 50.9\n",
      "\n",
      "And standard deviations\n",
      "Patienten: 18.803984783816436\n",
      "Gesunde: 18.1077331546497\n",
      "\n",
      "Für Patienten dauert es 0.976-mal so lang für Suess_Pz_P1_to_N1\n"
     ]
    },
    {
     "data": {
      "text/plain": [
       "Ttest_indResult(statistic=-0.15587659278337426, pvalue=0.8774339977108668)"
      ]
     },
     "execution_count": 42,
     "metadata": {},
     "output_type": "execute_result"
    }
   ],
   "source": [
    "variable = \"Suess_Pz_P1_to_N1\"\n",
    "array_a = patienten[variable].dropna()\n",
    "array_b = gesunde[variable].dropna()\n",
    "print(f\"{len(array_a)} Patienten übrig nachdem auf fehlende Werte für {variable} korrigiert wurde.\")\n",
    "print(f\"{len(array_b)} Gesunde übrig nachdem auf fehlende Werte für {variable} korrigiert wurde.\")\n",
    "print()\n",
    "\n",
    "print(f\"T-Test statistics for {variable} for the folowing means:\")\n",
    "print(f'Patienten: {mean(array_a)}')\n",
    "print(f'Gesunde: {mean(array_b)}')\n",
    "print()\n",
    "print(\"And standard deviations\")\n",
    "print(f'Patienten: {np.std(array_a)}')\n",
    "print(f'Gesunde: {np.std(array_b)}')\n",
    "print()\n",
    "\n",
    "factor = round(mean(array_a) / mean(array_b), 3)\n",
    "\n",
    "print(f\"Für Patienten dauert es {factor}-mal so lang für {variable}\")\n",
    "\n",
    "result = stats.ttest_ind(array_a, array_b)\n",
    "result"
   ]
  },
  {
   "cell_type": "code",
   "execution_count": 43,
   "id": "e1d79bd2",
   "metadata": {},
   "outputs": [
    {
     "name": "stdout",
     "output_type": "stream",
     "text": [
      "16 Patienten übrig nachdem auf fehlende Werte für Suess_Pz_N1_to_P2 korrigiert wurde.\n",
      "10 Gesunde übrig nachdem auf fehlende Werte für Suess_Pz_N1_to_P2 korrigiert wurde.\n",
      "\n",
      "T-Test statistics for Suess_Pz_N1_to_P2 for the folowing means:\n",
      "Patienten: 96.625\n",
      "Gesunde: 65.1\n",
      "\n",
      "And standard deviations\n",
      "Patienten: 44.169948777421055\n",
      "Gesunde: 30.940103425812914\n",
      "\n",
      "Für Patienten dauert es 1.484-mal so lang für Suess_Pz_N1_to_P2\n"
     ]
    },
    {
     "data": {
      "text/plain": [
       "Ttest_indResult(statistic=1.8969870567559988, pvalue=0.06992695634496032)"
      ]
     },
     "execution_count": 43,
     "metadata": {},
     "output_type": "execute_result"
    }
   ],
   "source": [
    "variable = \"Suess_Pz_N1_to_P2\"\n",
    "array_a = patienten[variable].dropna()\n",
    "array_b = gesunde[variable].dropna()\n",
    "print(f\"{len(array_a)} Patienten übrig nachdem auf fehlende Werte für {variable} korrigiert wurde.\")\n",
    "print(f\"{len(array_b)} Gesunde übrig nachdem auf fehlende Werte für {variable} korrigiert wurde.\")\n",
    "print()\n",
    "\n",
    "print(f\"T-Test statistics for {variable} for the folowing means:\")\n",
    "print(f'Patienten: {mean(array_a)}')\n",
    "print(f'Gesunde: {mean(array_b)}')\n",
    "print()\n",
    "print(\"And standard deviations\")\n",
    "print(f'Patienten: {np.std(array_a)}')\n",
    "print(f'Gesunde: {np.std(array_b)}')\n",
    "print()\n",
    "\n",
    "factor = round(mean(array_a) / mean(array_b), 3)\n",
    "\n",
    "print(f\"Für Patienten dauert es {factor}-mal so lang für {variable}\")\n",
    "\n",
    "result = stats.ttest_ind(array_a, array_b)\n",
    "result"
   ]
  },
  {
   "cell_type": "markdown",
   "id": "5dcfc161",
   "metadata": {},
   "source": [
    "## Salzig"
   ]
  },
  {
   "cell_type": "code",
   "execution_count": 69,
   "id": "b379e301",
   "metadata": {},
   "outputs": [
    {
     "name": "stdout",
     "output_type": "stream",
     "text": [
      "23 Patienten übrig nachdem auf fehlende Werte für Salz_Fz_P1_to_N1 korrigiert wurde.\n",
      "15 Gesunde übrig nachdem auf fehlende Werte für Salz_Fz_P1_to_N1 korrigiert wurde.\n",
      "\n",
      "T-Test statistics for Salz_Fz_P1_to_N1 for the folowing means:\n",
      "Patienten: 56.0\n",
      "Gesunde: 42.4\n",
      "\n",
      "Für Patienten dauert es 1.321-mal so lang für Salz_Fz_P1_to_N1\n"
     ]
    },
    {
     "data": {
      "text/plain": [
       "Ttest_indResult(statistic=1.4758704781212497, pvalue=0.1486725512822912)"
      ]
     },
     "execution_count": 69,
     "metadata": {},
     "output_type": "execute_result"
    }
   ],
   "source": [
    "variable = \"Salz_Fz_P1_to_N1\"\n",
    "array_a = patienten[variable].dropna()\n",
    "array_b = gesunde[variable].dropna()\n",
    "print(f\"{len(array_a)} Patienten übrig nachdem auf fehlende Werte für {variable} korrigiert wurde.\")\n",
    "print(f\"{len(array_b)} Gesunde übrig nachdem auf fehlende Werte für {variable} korrigiert wurde.\")\n",
    "print()\n",
    "\n",
    "print(f\"T-Test statistics for {variable} for the folowing means:\")\n",
    "print(f'Patienten: {mean(array_a)}')\n",
    "print(f'Gesunde: {mean(array_b)}')\n",
    "print()\n",
    "\n",
    "factor = round(mean(array_a) / mean(array_b), 3)\n",
    "\n",
    "print(f\"Für Patienten dauert es {factor}-mal so lang für {variable}\")\n",
    "\n",
    "result = stats.ttest_ind(array_a, array_b)\n",
    "result"
   ]
  },
  {
   "cell_type": "code",
   "execution_count": 70,
   "id": "fd70fa37",
   "metadata": {},
   "outputs": [
    {
     "name": "stdout",
     "output_type": "stream",
     "text": [
      "22 Patienten übrig nachdem auf fehlende Werte für Salz_Fz_N1_to_P2 korrigiert wurde.\n",
      "15 Gesunde übrig nachdem auf fehlende Werte für Salz_Fz_N1_to_P2 korrigiert wurde.\n",
      "\n",
      "T-Test statistics for Salz_Fz_N1_to_P2 for the folowing means:\n",
      "Patienten: 95.81818181818181\n",
      "Gesunde: 72.4\n",
      "\n",
      "Für Patienten dauert es 1.323-mal so lang für Salz_Fz_N1_to_P2\n"
     ]
    },
    {
     "data": {
      "text/plain": [
       "Ttest_indResult(statistic=1.6601430199516074, pvalue=0.10582043226876758)"
      ]
     },
     "execution_count": 70,
     "metadata": {},
     "output_type": "execute_result"
    }
   ],
   "source": [
    "variable = \"Salz_Fz_N1_to_P2\"\n",
    "array_a = patienten[variable].dropna()\n",
    "array_b = gesunde[variable].dropna()\n",
    "print(f\"{len(array_a)} Patienten übrig nachdem auf fehlende Werte für {variable} korrigiert wurde.\")\n",
    "print(f\"{len(array_b)} Gesunde übrig nachdem auf fehlende Werte für {variable} korrigiert wurde.\")\n",
    "print()\n",
    "\n",
    "print(f\"T-Test statistics for {variable} for the folowing means:\")\n",
    "print(f'Patienten: {mean(array_a)}')\n",
    "print(f'Gesunde: {mean(array_b)}')\n",
    "print()\n",
    "\n",
    "factor = round(mean(array_a) / mean(array_b), 3)\n",
    "\n",
    "print(f\"Für Patienten dauert es {factor}-mal so lang für {variable}\")\n",
    "\n",
    "result = stats.ttest_ind(array_a, array_b)\n",
    "result"
   ]
  },
  {
   "cell_type": "code",
   "execution_count": 71,
   "id": "836950b2",
   "metadata": {},
   "outputs": [
    {
     "name": "stdout",
     "output_type": "stream",
     "text": [
      "23 Patienten übrig nachdem auf fehlende Werte für Salz_Cz_P1_to_N1 korrigiert wurde.\n",
      "15 Gesunde übrig nachdem auf fehlende Werte für Salz_Cz_P1_to_N1 korrigiert wurde.\n",
      "\n",
      "T-Test statistics for Salz_Cz_P1_to_N1 for the folowing means:\n",
      "Patienten: 50.30434782608695\n",
      "Gesunde: 40.53333333333333\n",
      "\n",
      "Für Patienten dauert es 1.241-mal so lang für Salz_Cz_P1_to_N1\n"
     ]
    },
    {
     "data": {
      "text/plain": [
       "Ttest_indResult(statistic=1.3073704737093814, pvalue=0.19937558366615052)"
      ]
     },
     "execution_count": 71,
     "metadata": {},
     "output_type": "execute_result"
    }
   ],
   "source": [
    "variable = \"Salz_Cz_P1_to_N1\"\n",
    "array_a = patienten[variable].dropna()\n",
    "array_b = gesunde[variable].dropna()\n",
    "print(f\"{len(array_a)} Patienten übrig nachdem auf fehlende Werte für {variable} korrigiert wurde.\")\n",
    "print(f\"{len(array_b)} Gesunde übrig nachdem auf fehlende Werte für {variable} korrigiert wurde.\")\n",
    "print()\n",
    "\n",
    "print(f\"T-Test statistics for {variable} for the folowing means:\")\n",
    "print(f'Patienten: {mean(array_a)}')\n",
    "print(f'Gesunde: {mean(array_b)}')\n",
    "print()\n",
    "\n",
    "factor = round(mean(array_a) / mean(array_b), 3)\n",
    "\n",
    "print(f\"Für Patienten dauert es {factor}-mal so lang für {variable}\")\n",
    "\n",
    "result = stats.ttest_ind(array_a, array_b)\n",
    "result"
   ]
  },
  {
   "cell_type": "code",
   "execution_count": 72,
   "id": "c2dd8530",
   "metadata": {},
   "outputs": [
    {
     "name": "stdout",
     "output_type": "stream",
     "text": [
      "22 Patienten übrig nachdem auf fehlende Werte für Salz_Cz_N1_to_P2 korrigiert wurde.\n",
      "15 Gesunde übrig nachdem auf fehlende Werte für Salz_Cz_N1_to_P2 korrigiert wurde.\n",
      "\n",
      "T-Test statistics for Salz_Cz_N1_to_P2 for the folowing means:\n",
      "Patienten: 90.27272727272727\n",
      "Gesunde: 73.2\n",
      "\n",
      "Für Patienten dauert es 1.233-mal so lang für Salz_Cz_N1_to_P2\n"
     ]
    },
    {
     "data": {
      "text/plain": [
       "Ttest_indResult(statistic=1.3886478974145693, pvalue=0.17371435140089275)"
      ]
     },
     "execution_count": 72,
     "metadata": {},
     "output_type": "execute_result"
    }
   ],
   "source": [
    "variable = \"Salz_Cz_N1_to_P2\"\n",
    "array_a = patienten[variable].dropna()\n",
    "array_b = gesunde[variable].dropna()\n",
    "print(f\"{len(array_a)} Patienten übrig nachdem auf fehlende Werte für {variable} korrigiert wurde.\")\n",
    "print(f\"{len(array_b)} Gesunde übrig nachdem auf fehlende Werte für {variable} korrigiert wurde.\")\n",
    "print()\n",
    "\n",
    "print(f\"T-Test statistics for {variable} for the folowing means:\")\n",
    "print(f'Patienten: {mean(array_a)}')\n",
    "print(f'Gesunde: {mean(array_b)}')\n",
    "print()\n",
    "\n",
    "factor = round(mean(array_a) / mean(array_b), 3)\n",
    "\n",
    "print(f\"Für Patienten dauert es {factor}-mal so lang für {variable}\")\n",
    "\n",
    "result = stats.ttest_ind(array_a, array_b)\n",
    "result"
   ]
  },
  {
   "cell_type": "code",
   "execution_count": 73,
   "id": "03efb87f",
   "metadata": {},
   "outputs": [
    {
     "name": "stdout",
     "output_type": "stream",
     "text": [
      "22 Patienten übrig nachdem auf fehlende Werte für Salz_Pz_P1_to_N1 korrigiert wurde.\n",
      "15 Gesunde übrig nachdem auf fehlende Werte für Salz_Pz_P1_to_N1 korrigiert wurde.\n",
      "\n",
      "T-Test statistics for Salz_Pz_P1_to_N1 for the folowing means:\n",
      "Patienten: 51.86363636363637\n",
      "Gesunde: 41.0\n",
      "\n",
      "Für Patienten dauert es 1.265-mal so lang für Salz_Pz_P1_to_N1\n"
     ]
    },
    {
     "data": {
      "text/plain": [
       "Ttest_indResult(statistic=1.4825887051891913, pvalue=0.14713271934412686)"
      ]
     },
     "execution_count": 73,
     "metadata": {},
     "output_type": "execute_result"
    }
   ],
   "source": [
    "variable = \"Salz_Pz_P1_to_N1\"\n",
    "array_a = patienten[variable].dropna()\n",
    "array_b = gesunde[variable].dropna()\n",
    "print(f\"{len(array_a)} Patienten übrig nachdem auf fehlende Werte für {variable} korrigiert wurde.\")\n",
    "print(f\"{len(array_b)} Gesunde übrig nachdem auf fehlende Werte für {variable} korrigiert wurde.\")\n",
    "print()\n",
    "\n",
    "print(f\"T-Test statistics for {variable} for the folowing means:\")\n",
    "print(f'Patienten: {mean(array_a)}')\n",
    "print(f'Gesunde: {mean(array_b)}')\n",
    "print()\n",
    "\n",
    "factor = round(mean(array_a) / mean(array_b), 3)\n",
    "\n",
    "print(f\"Für Patienten dauert es {factor}-mal so lang für {variable}\")\n",
    "\n",
    "result = stats.ttest_ind(array_a, array_b)\n",
    "result"
   ]
  },
  {
   "cell_type": "code",
   "execution_count": 74,
   "id": "9db46152",
   "metadata": {},
   "outputs": [
    {
     "name": "stdout",
     "output_type": "stream",
     "text": [
      "21 Patienten übrig nachdem auf fehlende Werte für Salz_Pz_N1_to_P2 korrigiert wurde.\n",
      "15 Gesunde übrig nachdem auf fehlende Werte für Salz_Pz_N1_to_P2 korrigiert wurde.\n",
      "\n",
      "T-Test statistics for Salz_Pz_N1_to_P2 for the folowing means:\n",
      "Patienten: 93.33333333333333\n",
      "Gesunde: 71.53333333333333\n",
      "\n",
      "Für Patienten dauert es 1.305-mal so lang für Salz_Pz_N1_to_P2\n"
     ]
    },
    {
     "data": {
      "text/plain": [
       "Ttest_indResult(statistic=1.6586661420858504, pvalue=0.10638179708242504)"
      ]
     },
     "execution_count": 74,
     "metadata": {},
     "output_type": "execute_result"
    }
   ],
   "source": [
    "variable = \"Salz_Pz_N1_to_P2\"\n",
    "array_a = patienten[variable].dropna()\n",
    "array_b = gesunde[variable].dropna()\n",
    "print(f\"{len(array_a)} Patienten übrig nachdem auf fehlende Werte für {variable} korrigiert wurde.\")\n",
    "print(f\"{len(array_b)} Gesunde übrig nachdem auf fehlende Werte für {variable} korrigiert wurde.\")\n",
    "print()\n",
    "\n",
    "print(f\"T-Test statistics for {variable} for the folowing means:\")\n",
    "print(f'Patienten: {mean(array_a)}')\n",
    "print(f'Gesunde: {mean(array_b)}')\n",
    "print()\n",
    "\n",
    "factor = round(mean(array_a) / mean(array_b), 3)\n",
    "\n",
    "print(f\"Für Patienten dauert es {factor}-mal so lang für {variable}\")\n",
    "\n",
    "result = stats.ttest_ind(array_a, array_b)\n",
    "result"
   ]
  },
  {
   "cell_type": "code",
   "execution_count": null,
   "id": "5fad3d16",
   "metadata": {},
   "outputs": [],
   "source": []
  }
 ],
 "metadata": {
  "kernelspec": {
   "display_name": "Python 3 (ipykernel)",
   "language": "python",
   "name": "python3"
  },
  "language_info": {
   "codemirror_mode": {
    "name": "ipython",
    "version": 3
   },
   "file_extension": ".py",
   "mimetype": "text/x-python",
   "name": "python",
   "nbconvert_exporter": "python",
   "pygments_lexer": "ipython3",
   "version": "3.8.9"
  }
 },
 "nbformat": 4,
 "nbformat_minor": 5
}
